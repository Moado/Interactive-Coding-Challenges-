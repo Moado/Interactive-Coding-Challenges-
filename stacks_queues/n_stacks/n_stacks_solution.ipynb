{
 "cells": [
  {
   "cell_type": "markdown",
   "metadata": {},
   "source": [
    "This notebook was prepared by [Donne Martin](http://donnemartin.com). Source and license info is on [GitHub](https://github.com/donnemartin/interactive-coding-challenges)."
   ]
  },
  {
   "cell_type": "markdown",
   "metadata": {},
   "source": [
    "# Solution Notebook"
   ]
  },
  {
   "cell_type": "markdown",
   "metadata": {},
   "source": [
    "## Problem: Implement n stacks using a single array.\n",
    "\n",
    "* [Constraints](#Constraints)\n",
    "* [Test Cases](#Test-Cases)\n",
    "* [Algorithm](#Algorithm)\n",
    "* [Code](#Code)\n",
    "* [Unit Test](#Unit-Test)"
   ]
  },
  {
   "cell_type": "markdown",
   "metadata": {},
   "source": [
    "## Constraints\n",
    "\n",
    "* Are the stacks and array a fixed size?\n",
    "    * Yes\n",
    "* Are the stacks equally sized?\n",
    "    * Yes\n",
    "* Does pushing to a full stack result in an exception?\n",
    "    * Yes\n",
    "* Does popping from an empty stack result in an exception?\n",
    "    * Yes\n",
    "* Can we assume the user passed in stack index is valid?\n",
    "    * Yes\n",
    "* Can we assume this fits memory?\n",
    "    * Yes"
   ]
  },
  {
   "cell_type": "markdown",
   "metadata": {},
   "source": [
    "## Test Cases\n",
    "\n",
    "* Test the following on the three stacks:\n",
    "    * Push to full stack -> Exception\n",
    "    * Push to non-full stack\n",
    "    * Pop on empty stack -> Exception\n",
    "    * Pop on non-empty stack"
   ]
  },
  {
   "cell_type": "markdown",
   "metadata": {},
   "source": [
    "## Algorithm\n",
    "\n",
    "### Absolute Index\n",
    "\n",
    "* return stack size * stack index + stack pointer\n",
    "\n",
    "Complexity:\n",
    "* Time: O(1)\n",
    "* Space: O(1)\n",
    "\n",
    "### Push\n",
    "\n",
    "* If stack is full, throw exception\n",
    "* Else\n",
    "    * Increment stack pointer\n",
    "    * Get the absolute array index\n",
    "    * Insert the value to this index\n",
    "\n",
    "Complexity:\n",
    "* Time: O(1)\n",
    "* Space: O(1)\n",
    "\n",
    "### Pop\n",
    "\n",
    "* If stack is empty, throw exception\n",
    "* Else\n",
    "    * Store the value contained in the absolute array index\n",
    "    * Set the value in the absolute array index to None\n",
    "    * Decrement stack pointer\n",
    "    * return value\n",
    "\n",
    "Complexity:\n",
    "* Time: O(1)\n",
    "* Space: O(1)"
   ]
  },
  {
   "cell_type": "markdown",
   "metadata": {},
   "source": [
    "## Code"
   ]
  },
  {
   "cell_type": "code",
   "execution_count": 1,
   "metadata": {
    "collapsed": true
   },
   "outputs": [],
   "source": [
    "class Stacks(object):\n",
    "\n",
    "    def __init__(self, num_stacks, stack_size):\n",
    "        self.num_stacks = num_stacks\n",
    "        self.stack_size = stack_size\n",
    "        self.stack_pointers = [-1] * self.num_stacks\n",
    "        self.stack_array = [None] * self.num_stacks * self.stack_size\n",
    "\n",
    "    def abs_index(self, stack_index):\n",
    "        return stack_index * self.stack_size + self.stack_pointers[stack_index]\n",
    "\n",
    "    def push(self, stack_index, data):\n",
    "        if self.stack_pointers[stack_index] == self.stack_size - 1:\n",
    "            raise Exception('Stack is full')\n",
    "        self.stack_pointers[stack_index] += 1\n",
    "        array_index = self.abs_index(stack_index)\n",
    "        self.stack_array[array_index] = data\n",
    "\n",
    "    def pop(self, stack_index):\n",
    "        if self.stack_pointers[stack_index] == -1:\n",
    "            raise Exception('Stack is empty')\n",
    "        array_index = self.abs_index(stack_index)\n",
    "        data = self.stack_array[array_index]\n",
    "        self.stack_array[array_index] = None\n",
    "        self.stack_pointers[stack_index] -= 1\n",
    "        return data"
   ]
  },
  {
   "cell_type": "markdown",
   "metadata": {},
   "source": [
    "## Unit Test\n",
    "\n"
   ]
  },
  {
   "cell_type": "code",
   "execution_count": 2,
   "metadata": {
    "collapsed": false
   },
   "outputs": [
    {
     "name": "stdout",
     "output_type": "stream",
     "text": [
      "Overwriting test_n_stacks.py\n"
     ]
    }
   ],
   "source": [
    "%%writefile test_n_stacks.py\n",
    "from nose.tools import assert_equal\n",
    "from nose.tools import raises\n",
    "\n",
    "\n",
    "class TestStacks(object):\n",
    "\n",
    "    @raises(Exception)\n",
    "    def test_pop_on_empty(self, num_stacks, stack_size):\n",
    "        print('Test: Pop on empty stack')\n",
    "        stacks = Stacks(num_stacks, stack_size)\n",
    "        stacks.pop(0)\n",
    "\n",
    "    @raises(Exception)\n",
    "    def test_push_on_full(self, num_stacks, stack_size):\n",
    "        print('Test: Push to full stack')\n",
    "        stacks = Stacks(num_stacks, stack_size)\n",
    "        for i in range(0, stack_size):\n",
    "            stacks.push(2, i)\n",
    "        stacks.push(2, stack_size)\n",
    "\n",
    "    def test_stacks(self, num_stacks, stack_size):\n",
    "        print('Test: Push to non-full stack')\n",
    "        stacks = Stacks(num_stacks, stack_size)\n",
    "        stacks.push(0, 1)\n",
    "        stacks.push(0, 2)\n",
    "        stacks.push(1, 3)\n",
    "        stacks.push(2, 4)\n",
    "\n",
    "        print('Test: Pop on non-empty stack')\n",
    "        assert_equal(stacks.pop(0), 2)\n",
    "        assert_equal(stacks.pop(0), 1)\n",
    "        assert_equal(stacks.pop(1), 3)\n",
    "        assert_equal(stacks.pop(2), 4)\n",
    "\n",
    "        print('Success: test_stacks\\n')\n",
    "\n",
    "\n",
    "def main():\n",
    "    num_stacks = 3\n",
    "    stack_size = 100\n",
    "    test = TestStacks()\n",
    "    test.test_pop_on_empty(num_stacks, stack_size)\n",
    "    test.test_push_on_full(num_stacks, stack_size)\n",
    "    test.test_stacks(num_stacks, stack_size)\n",
    "\n",
    "\n",
    "if __name__ == '__main__':\n",
    "    main()"
   ]
  },
  {
   "cell_type": "code",
   "execution_count": 3,
   "metadata": {
    "collapsed": false
   },
   "outputs": [
    {
     "name": "stdout",
     "output_type": "stream",
     "text": [
      "Test: Pop on empty stack\n",
      "Test: Push to full stack\n",
      "Test: Push to non-full stack\n",
      "Test: Pop on non-empty stack\n",
      "Success: test_stacks\n",
      "\n"
     ]
    }
   ],
   "source": [
    "run -i test_n_stacks.py"
   ]
  }
 ],
 "metadata": {
  "kernelspec": {
   "display_name": "Python 3",
   "language": "python",
   "name": "python3"
  },
  "language_info": {
   "codemirror_mode": {
    "name": "ipython",
    "version": 3
   },
   "file_extension": ".py",
   "mimetype": "text/x-python",
   "name": "python",
   "nbconvert_exporter": "python",
   "pygments_lexer": "ipython3",
   "version": "3.5.0"
  }
 },
 "nbformat": 4,
 "nbformat_minor": 0
}
