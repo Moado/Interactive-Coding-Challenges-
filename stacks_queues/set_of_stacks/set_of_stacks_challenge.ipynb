{
 "cells": [
  {
   "cell_type": "markdown",
   "metadata": {},
   "source": [
    "This notebook was prepared by [Donne Martin](http://donnemartin.com). Source and license info is on [GitHub](https://github.com/donnemartin/interactive-coding-challenges)."
   ]
  },
  {
   "cell_type": "markdown",
   "metadata": {},
   "source": [
    "# Challenge Notebook"
   ]
  },
  {
   "cell_type": "markdown",
   "metadata": {},
   "source": [
    "## Problem: Implement SetOfStacks that wraps a list of stacks, where each stack is bound by a capacity.\n",
    "\n",
    "* [Constraints](#Constraints)\n",
    "* [Test Cases](#Test-Cases)\n",
    "* [Algorithm](#Algorithm)\n",
    "* [Code](#Code)\n",
    "* [Unit Test](#Unit-Test)\n",
    "* [Solution Notebook](#Solution-Notebook)"
   ]
  },
  {
   "cell_type": "markdown",
   "metadata": {},
   "source": [
    "## Constraints\n",
    "\n",
    "* Can we assume we already have a stack class that can be used for this problem?\n",
    "    * Yes\n",
    "* Are all stack bound by the same capacity?\n",
    "    * Yes\n",
    "* If a stack becomes full, should automatically create one?\n",
    "    * Yes\n",
    "* If a stack becomes empty, should we delete it?\n",
    "    * Yes\n",
    "* If we pop on an empty stack, should we return None?\n",
    "    * Yes\n",
    "* Can we assume this fits memory?\n",
    "    * Yes"
   ]
  },
  {
   "cell_type": "markdown",
   "metadata": {},
   "source": [
    "## Test Cases\n",
    "\n",
    "* Push and pop on an empty stack\n",
    "* Push and pop on a non-empty stack\n",
    "* Push on a capacity stack to create a new one\n",
    "* Pop on a stack to destroy it"
   ]
  },
  {
   "cell_type": "markdown",
   "metadata": {},
   "source": [
    "## Algorithm\n",
    "\n",
    "Refer to the [Solution Notebook](http://nbviewer.ipython.org/github/donnemartin/interactive-coding-challenges/blob/master/stacks_queues/set_of_stacks/set_of_stacks_solution.ipynb).  If you are stuck and need a hint, the solution notebook's algorithm discussion might be a good place to start."
   ]
  },
  {
   "cell_type": "markdown",
   "metadata": {},
   "source": [
    "## Code"
   ]
  },
  {
   "cell_type": "code",
   "execution_count": null,
   "metadata": {
    "collapsed": false
   },
   "outputs": [],
   "source": [
    "%run ../stack/stack.py\n",
    "%load ../stack/stack.py"
   ]
  },
  {
   "cell_type": "code",
   "execution_count": null,
   "metadata": {
    "collapsed": false
   },
   "outputs": [],
   "source": [
    "class StackWithCapacity(Stack):\n",
    "\n",
    "    def __init__(self, top=None, capacity=10):\n",
    "        # TODO: Implement me\n",
    "        pass\n",
    "\n",
    "    def push(self, data):\n",
    "        # TODO: Implement me\n",
    "        pass\n",
    "\n",
    "    def pop(self):\n",
    "        # TODO: Implement me\n",
    "        pass\n",
    "\n",
    "    def is_full(self):\n",
    "        # TODO: Implement me\n",
    "        pass\n",
    "\n",
    "\n",
    "class SetOfStacks(object):\n",
    "\n",
    "    def __init__(self, indiv_stack_capacity):\n",
    "        # TODO: Implement me\n",
    "        pass\n",
    "\n",
    "    def push(self, data):\n",
    "        # TODO: Implement me\n",
    "        pass\n",
    "\n",
    "    def pop(self):\n",
    "        # TODO: Implement me\n",
    "        pass"
   ]
  },
  {
   "cell_type": "markdown",
   "metadata": {},
   "source": [
    "## Unit Test\n",
    "\n",
    "\n",
    "\n",
    "**The following unit test is expected to fail until you solve the challenge.**"
   ]
  },
  {
   "cell_type": "code",
   "execution_count": null,
   "metadata": {
    "collapsed": false
   },
   "outputs": [],
   "source": [
    "# %load test_set_of_stacks.py\n",
    "from nose.tools import assert_equal\n",
    "\n",
    "\n",
    "class TestSetOfStacks(object):\n",
    "\n",
    "    def test_set_of_stacks(self):\n",
    "        print('Test: Push on an empty stack')\n",
    "        stacks = SetOfStacks(indiv_stack_capacity=2)\n",
    "        stacks.push(3)\n",
    "\n",
    "        print('Test: Push on a non-empty stack')\n",
    "        stacks.push(5)\n",
    "\n",
    "        print('Test: Push on a capacity stack to create a new one')\n",
    "        stacks.push('a')\n",
    "\n",
    "        print('Test: Pop on a stack to destroy it')\n",
    "        assert_equal(stacks.pop(), 'a')\n",
    "\n",
    "        print('Test: Pop general case')\n",
    "        assert_equal(stacks.pop(), 5)\n",
    "        assert_equal(stacks.pop(), 3)\n",
    "\n",
    "        print('Test: Pop on no elements')\n",
    "        assert_equal(stacks.pop(), None)\n",
    "\n",
    "        print('Success: test_set_of_stacks')\n",
    "\n",
    "\n",
    "def main():\n",
    "    test = TestSetOfStacks()\n",
    "    test.test_set_of_stacks()\n",
    "\n",
    "\n",
    "if __name__ == '__main__':\n",
    "    main()"
   ]
  },
  {
   "cell_type": "markdown",
   "metadata": {},
   "source": [
    "## Solution Notebook\n",
    "\n",
    "Review the [Solution Notebook](http://nbviewer.ipython.org/github/donnemartin/interactive-coding-challenges/blob/master/stacks_queues/set_of_stacks/set_of_stacks_solution.ipynb) for a discussion on algorithms and code solutions."
   ]
  }
 ],
 "metadata": {
  "kernelspec": {
   "display_name": "Python 3",
   "language": "python",
   "name": "python3"
  },
  "language_info": {
   "codemirror_mode": {
    "name": "ipython",
    "version": 3
   },
   "file_extension": ".py",
   "mimetype": "text/x-python",
   "name": "python",
   "nbconvert_exporter": "python",
   "pygments_lexer": "ipython3",
   "version": "3.5.0"
  }
 },
 "nbformat": 4,
 "nbformat_minor": 0
}
