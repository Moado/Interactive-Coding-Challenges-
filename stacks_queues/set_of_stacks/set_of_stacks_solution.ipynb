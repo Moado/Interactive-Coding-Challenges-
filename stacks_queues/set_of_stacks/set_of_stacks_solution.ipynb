{
 "cells": [
  {
   "cell_type": "markdown",
   "metadata": {},
   "source": [
    "This notebook was prepared by [Donne Martin](http://donnemartin.com). Source and license info is on [GitHub](https://github.com/donnemartin/interactive-coding-challenges)."
   ]
  },
  {
   "cell_type": "markdown",
   "metadata": {},
   "source": [
    "# Solution Notebook"
   ]
  },
  {
   "cell_type": "markdown",
   "metadata": {},
   "source": [
    "## Problem: Implement SetOfStacks that wraps a list of stacks, where each stack is bound by a capacity.\n",
    "\n",
    "* [Constraints](#Constraints)\n",
    "* [Test Cases](#Test-Cases)\n",
    "* [Algorithm](#Algorithm)\n",
    "* [Code](#Code)\n",
    "* [Unit Test](#Unit-Test)"
   ]
  },
  {
   "cell_type": "markdown",
   "metadata": {},
   "source": [
    "## Constraints\n",
    "\n",
    "* Can we assume we already have a stack class that can be used for this problem?\n",
    "    * Yes\n",
    "* Are all stack bound by the same capacity?\n",
    "    * Yes\n",
    "* If a stack becomes full, should automatically create one?\n",
    "    * Yes\n",
    "* If a stack becomes empty, should we delete it?\n",
    "    * Yes\n",
    "* If we pop on an empty stack, should we return None?\n",
    "    * Yes\n",
    "* Can we assume this fits memory?\n",
    "    * Yes"
   ]
  },
  {
   "cell_type": "markdown",
   "metadata": {},
   "source": [
    "## Test Cases\n",
    "\n",
    "* Push and pop on an empty stack\n",
    "* Push and pop on a non-empty stack\n",
    "* Push on a capacity stack to create a new one\n",
    "* Pop on a stack to destroy it"
   ]
  },
  {
   "cell_type": "markdown",
   "metadata": {},
   "source": [
    "## Algorithm\n",
    "\n",
    "### Push\n",
    "\n",
    "* If there are no stacks or the last stack is full\n",
    "    * Create a new stack\n",
    "* Push to the new stack\n",
    "\n",
    "Complexity:\n",
    "* Time: O(1)\n",
    "* Space: O(m), where m is the size of the new stack if the last stack is full\n",
    "\n",
    "### Pop\n",
    "\n",
    "* If there are no stacks, return None\n",
    "* Else if the last stack has one element\n",
    "    * Pop the last element's data\n",
    "    * Delete the now empty stack\n",
    "    * Update the last stack pointer\n",
    "* Else Pop the last element's data\n",
    "* Return the last element's data\n",
    "\n",
    "Complexity:\n",
    "* Time: O(1)\n",
    "* Space: O(1)"
   ]
  },
  {
   "cell_type": "markdown",
   "metadata": {},
   "source": [
    "## Code"
   ]
  },
  {
   "cell_type": "code",
   "execution_count": 1,
   "metadata": {
    "collapsed": false
   },
   "outputs": [],
   "source": [
    "%run ../stack/stack.py"
   ]
  },
  {
   "cell_type": "code",
   "execution_count": 2,
   "metadata": {
    "collapsed": false
   },
   "outputs": [],
   "source": [
    "class StackWithCapacity(Stack):\n",
    "\n",
    "    def __init__(self, top=None, capacity=10):\n",
    "        super(StackWithCapacity, self).__init__(top)\n",
    "        self.capacity = capacity\n",
    "        self.num_items = 0\n",
    "\n",
    "    def push(self, data):\n",
    "        if self.is_full():\n",
    "            raise Exception('Stack full')\n",
    "        super(StackWithCapacity, self).push(data)\n",
    "        self.num_items += 1\n",
    "\n",
    "    def pop(self):\n",
    "        self.num_items -= 1\n",
    "        return super(StackWithCapacity, self).pop()\n",
    "\n",
    "    def is_full(self):\n",
    "        return self.num_items == self.capacity\n",
    "\n",
    "    def is_empty(self):\n",
    "        return self.num_items == 0\n",
    "\n",
    "\n",
    "class SetOfStacks(object):\n",
    "\n",
    "    def __init__(self, indiv_stack_capacity):\n",
    "        self.indiv_stack_capacity = indiv_stack_capacity\n",
    "        self.stacks = []\n",
    "        self.last_stack = None\n",
    "\n",
    "    def push(self, data):\n",
    "        if self.last_stack is None or self.last_stack.is_full():\n",
    "            self.last_stack = StackWithCapacity(None, self.indiv_stack_capacity)\n",
    "            self.stacks.append(self.last_stack)\n",
    "        self.last_stack.push(data)\n",
    "\n",
    "    def pop(self):\n",
    "        if self.last_stack is None:\n",
    "            return None\n",
    "        data = self.last_stack.pop()\n",
    "        if self.last_stack.is_empty():\n",
    "            self.stacks.pop()\n",
    "            self.last_stack = self.stacks[-1] if self.stacks else None\n",
    "        return data"
   ]
  },
  {
   "cell_type": "markdown",
   "metadata": {},
   "source": [
    "## Unit Test\n",
    "\n"
   ]
  },
  {
   "cell_type": "code",
   "execution_count": 3,
   "metadata": {
    "collapsed": false
   },
   "outputs": [
    {
     "name": "stdout",
     "output_type": "stream",
     "text": [
      "Overwriting test_set_of_stacks.py\n"
     ]
    }
   ],
   "source": [
    "%%writefile test_set_of_stacks.py\n",
    "from nose.tools import assert_equal\n",
    "\n",
    "\n",
    "class TestSetOfStacks(object):\n",
    "\n",
    "    def test_set_of_stacks(self):\n",
    "        print('Test: Push on an empty stack')\n",
    "        stacks = SetOfStacks(indiv_stack_capacity=2)\n",
    "        stacks.push(3)\n",
    "\n",
    "        print('Test: Push on a non-empty stack')\n",
    "        stacks.push(5)\n",
    "\n",
    "        print('Test: Push on a capacity stack to create a new one')\n",
    "        stacks.push('a')\n",
    "\n",
    "        print('Test: Pop on a stack to destroy it')\n",
    "        assert_equal(stacks.pop(), 'a')\n",
    "\n",
    "        print('Test: Pop general case')\n",
    "        assert_equal(stacks.pop(), 5)\n",
    "        assert_equal(stacks.pop(), 3)\n",
    "\n",
    "        print('Test: Pop on no elements')\n",
    "        assert_equal(stacks.pop(), None)\n",
    "\n",
    "        print('Success: test_set_of_stacks')\n",
    "\n",
    "\n",
    "def main():\n",
    "    test = TestSetOfStacks()\n",
    "    test.test_set_of_stacks()\n",
    "\n",
    "\n",
    "if __name__ == '__main__':\n",
    "    main()"
   ]
  },
  {
   "cell_type": "code",
   "execution_count": 4,
   "metadata": {
    "collapsed": false
   },
   "outputs": [
    {
     "name": "stdout",
     "output_type": "stream",
     "text": [
      "Test: Push on an empty stack\n",
      "Test: Push on a non-empty stack\n",
      "Test: Push on a capacity stack to create a new one\n",
      "Test: Pop on a stack to destroy it\n",
      "Test: Pop general case\n",
      "Test: Pop on no elements\n",
      "Success: test_set_of_stacks\n"
     ]
    }
   ],
   "source": [
    "%run -i test_set_of_stacks.py"
   ]
  }
 ],
 "metadata": {
  "kernelspec": {
   "display_name": "Python 3",
   "language": "python",
   "name": "python3"
  },
  "language_info": {
   "codemirror_mode": {
    "name": "ipython",
    "version": 3
   },
   "file_extension": ".py",
   "mimetype": "text/x-python",
   "name": "python",
   "nbconvert_exporter": "python",
   "pygments_lexer": "ipython3",
   "version": "3.5.0"
  }
 },
 "nbformat": 4,
 "nbformat_minor": 0
}
