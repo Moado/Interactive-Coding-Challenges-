{
 "cells": [
  {
   "cell_type": "markdown",
   "metadata": {},
   "source": [
    "This notebook was prepared by [Donne Martin](http://donnemartin.com). Source and license info is on [GitHub](https://github.com/donnemartin/interactive-coding-challenges)."
   ]
  },
  {
   "cell_type": "markdown",
   "metadata": {},
   "source": [
    "# Challenge Notebook"
   ]
  },
  {
   "cell_type": "markdown",
   "metadata": {},
   "source": [
    "## Problem: Sort a stack.  You can use another stack as a buffer.\n",
    "\n",
    "* [Constraints](#Constraints)\n",
    "* [Test Cases](#Test-Cases)\n",
    "* [Algorithm](#Algorithm)\n",
    "* [Code](#Code)\n",
    "* [Unit Test](#Unit-Test)\n",
    "* [Solution Notebook](#Solution-Notebook)"
   ]
  },
  {
   "cell_type": "markdown",
   "metadata": {},
   "source": [
    "## Constraints\n",
    "\n",
    "* When sorted, should the largest element be at the top or bottom?\n",
    "    * Top\n",
    "* Can you have duplicate values like 5, 5?\n",
    "    * Yes\n",
    "* Can we assume we already have a stack class that can be used for this problem?\n",
    "    * Yes\n",
    "* Can we assume this fits memory?\n",
    "    * Yes"
   ]
  },
  {
   "cell_type": "markdown",
   "metadata": {},
   "source": [
    "## Test Cases\n",
    "\n",
    "* Empty stack -> None\n",
    "* One element stack\n",
    "* Two or more element stack (general case)\n",
    "* Already sorted stack"
   ]
  },
  {
   "cell_type": "markdown",
   "metadata": {},
   "source": [
    "## Algorithm\n",
    "\n",
    "Refer to the [Solution Notebook](http://nbviewer.ipython.org/github/donnemartin/interactive-coding-challenges/blob/master/stacks_queues/sort_stack/sort_stack_solution.ipynb).  If you are stuck and need a hint, the solution notebook's algorithm discussion might be a good place to start."
   ]
  },
  {
   "cell_type": "markdown",
   "metadata": {},
   "source": [
    "## Code"
   ]
  },
  {
   "cell_type": "code",
   "execution_count": null,
   "metadata": {
    "collapsed": true
   },
   "outputs": [],
   "source": [
    "%run ../stack/stack.py\n",
    "%load ../stack/stack.py"
   ]
  },
  {
   "cell_type": "code",
   "execution_count": null,
   "metadata": {
    "collapsed": false
   },
   "outputs": [],
   "source": [
    "class MyStack(Stack):\n",
    "\n",
    "    def sort(self):\n",
    "        # TODO: Implement me\n",
    "        pass"
   ]
  },
  {
   "cell_type": "markdown",
   "metadata": {},
   "source": [
    "## Unit Test\n",
    "\n",
    "\n",
    "\n",
    "**The following unit test is expected to fail until you solve the challenge.**"
   ]
  },
  {
   "cell_type": "code",
   "execution_count": null,
   "metadata": {
    "collapsed": false
   },
   "outputs": [],
   "source": [
    "# %load test_sort_stack.py\n",
    "from random import randint\n",
    "from nose.tools import assert_equal\n",
    "\n",
    "\n",
    "class TestSortStack(object):\n",
    "\n",
    "    def get_sorted_stack(self, stack, numbers):\n",
    "        for x in numbers:\n",
    "            stack.push(x)\n",
    "        sorted_stack = stack.sort()\n",
    "        return sorted_stack\n",
    "\n",
    "    def test_sort_stack(self, stack):\n",
    "        print('Test: Empty stack')\n",
    "        sorted_stack = self.get_sorted_stack(stack, [])\n",
    "        assert_equal(sorted_stack.pop(), None)\n",
    "\n",
    "        print('Test: One element stack')\n",
    "        sorted_stack = self.get_sorted_stack(stack, [1])\n",
    "        assert_equal(sorted_stack.pop(), 1)\n",
    "\n",
    "        print('Test: Two or more element stack (general case)')\n",
    "        num_items = 10\n",
    "        numbers = [randint(0, 10) for x in range(num_items)]\n",
    "        sorted_stack = self.get_sorted_stack(stack, numbers)\n",
    "        sorted_numbers = []\n",
    "        for _ in range(num_items):\n",
    "            sorted_numbers.append(sorted_stack.pop())\n",
    "        assert_equal(sorted_numbers, sorted(numbers, reverse=True))\n",
    "\n",
    "        print('Success: test_sort_stack')\n",
    "\n",
    "\n",
    "def main():\n",
    "    test = TestSortStack()\n",
    "    test.test_sort_stack(MyStack())\n",
    "    try:\n",
    "        test.test_sort_stack(MyStackSimplified())\n",
    "    except NameError:\n",
    "        # Alternate solutions are only defined\n",
    "        # in the solutions file\n",
    "        pass\n",
    "\n",
    "\n",
    "if __name__ == '__main__':\n",
    "    main()"
   ]
  },
  {
   "cell_type": "markdown",
   "metadata": {},
   "source": [
    "## Solution Notebook\n",
    "\n",
    "Review the [Solution Notebook](http://nbviewer.ipython.org/github/donnemartin/interactive-coding-challenges/blob/master/stacks_queues/sort_stack/sort_stack_solution.ipynb) for a discussion on algorithms and code solutions."
   ]
  }
 ],
 "metadata": {
  "kernelspec": {
   "display_name": "Python 3",
   "language": "python",
   "name": "python3"
  },
  "language_info": {
   "codemirror_mode": {
    "name": "ipython",
    "version": 3
   },
   "file_extension": ".py",
   "mimetype": "text/x-python",
   "name": "python",
   "nbconvert_exporter": "python",
   "pygments_lexer": "ipython3",
   "version": "3.5.0"
  }
 },
 "nbformat": 4,
 "nbformat_minor": 0
}
