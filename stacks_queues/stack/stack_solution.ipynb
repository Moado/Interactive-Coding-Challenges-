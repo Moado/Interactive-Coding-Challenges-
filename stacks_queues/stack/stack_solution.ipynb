{
 "cells": [
  {
   "cell_type": "markdown",
   "metadata": {},
   "source": [
    "This notebook was prepared by [Donne Martin](http://donnemartin.com). Source and license info is on [GitHub](https://github.com/donnemartin/interactive-coding-challenges)."
   ]
  },
  {
   "cell_type": "markdown",
   "metadata": {},
   "source": [
    "# Solution Notebook"
   ]
  },
  {
   "cell_type": "markdown",
   "metadata": {},
   "source": [
    "## Problem: Implement a stack with push, pop, peek, and is_empty methods using a linked list.\n",
    "\n",
    "* [Constraints](#Constraints)\n",
    "* [Test Cases](#Test-Cases)\n",
    "* [Algorithm](#Algorithm)\n",
    "* [Code](#Code)\n",
    "* [Unit Test](#Unit-Test)\n",
    "* [Pythonic-Code](#Pythonic-Code)"
   ]
  },
  {
   "cell_type": "markdown",
   "metadata": {},
   "source": [
    "## Constraints\n",
    "\n",
    "* If we pop on an empty stack, do we return None?\n",
    "    * Yes\n",
    "* Can we assume this fits memory?\n",
    "    * Yes"
   ]
  },
  {
   "cell_type": "markdown",
   "metadata": {},
   "source": [
    "## Test Cases\n",
    "\n",
    "### Push\n",
    "\n",
    "* Push to empty stack\n",
    "* Push to non-empty stack\n",
    "\n",
    "### Pop\n",
    "\n",
    "* Pop on empty stack\n",
    "* Pop on single element stack\n",
    "* Pop on multiple element stack\n",
    "\n",
    "### Peek\n",
    "\n",
    "* Peek on empty stack\n",
    "* Peek on one or more element stack\n",
    "\n",
    "### Is Empty\n",
    "\n",
    "* Is empty on empty stack\n",
    "* Is empty on one or more element stack"
   ]
  },
  {
   "cell_type": "markdown",
   "metadata": {},
   "source": [
    "## Algorithm\n",
    "\n",
    "### Push\n",
    "\n",
    "* Create new node with value\n",
    "* Set node's next to top\n",
    "* Set top to node\n",
    "\n",
    "Complexity:\n",
    "* Time: O(1)\n",
    "* Space: O(1)\n",
    "\n",
    "### Pop\n",
    "\n",
    "* If stack is empty, return None\n",
    "* Else \n",
    "    * Save top's value\n",
    "    * Set top to top.next\n",
    "    * Return saved value\n",
    "\n",
    "Complexity:\n",
    "* Time: O(1)\n",
    "* Space: O(1)\n",
    "\n",
    "### Peek\n",
    "\n",
    "* If stack is empty, return None\n",
    "* Else return top's value\n",
    "\n",
    "Complexity:\n",
    "* Time: O(1)\n",
    "* Space: O(1)\n",
    "\n",
    "### Is Empty\n",
    "* If peek has a value, return False\n",
    "* Else return True\n",
    "\n",
    "Complexity:\n",
    "* Time: O(1)\n",
    "* Space: O(1)"
   ]
  },
  {
   "cell_type": "markdown",
   "metadata": {},
   "source": [
    "## Code"
   ]
  },
  {
   "cell_type": "code",
   "execution_count": 1,
   "metadata": {
    "collapsed": false
   },
   "outputs": [
    {
     "name": "stdout",
     "output_type": "stream",
     "text": [
      "Overwriting stack.py\n"
     ]
    }
   ],
   "source": [
    "%%writefile stack.py\n",
    "class Node(object):\n",
    "\n",
    "    def __init__(self, data, next=None):\n",
    "        self.data = data\n",
    "        self.next = next\n",
    "\n",
    "\n",
    "class Stack(object):\n",
    "\n",
    "    def __init__(self, top=None):\n",
    "        self.top = top\n",
    "\n",
    "    def push(self, data):\n",
    "        self.top = Node(data, self.top)\n",
    "\n",
    "    def pop(self):\n",
    "        if self.top is None:\n",
    "            return None\n",
    "        data = self.top.data\n",
    "        self.top = self.top.next\n",
    "        return data\n",
    "\n",
    "    def peek(self):\n",
    "        return self.top.data if self.top is not None else None\n",
    "\n",
    "    def is_empty(self):\n",
    "        return self.peek() is None"
   ]
  },
  {
   "cell_type": "code",
   "execution_count": 2,
   "metadata": {
    "collapsed": false
   },
   "outputs": [],
   "source": [
    "%run stack.py"
   ]
  },
  {
   "cell_type": "markdown",
   "metadata": {},
   "source": [
    "## Unit Test\n",
    "\n"
   ]
  },
  {
   "cell_type": "code",
   "execution_count": 3,
   "metadata": {
    "collapsed": false
   },
   "outputs": [
    {
     "name": "stdout",
     "output_type": "stream",
     "text": [
      "Overwriting test_stack.py\n"
     ]
    }
   ],
   "source": [
    "%%writefile test_stack.py\n",
    "from nose.tools import assert_equal\n",
    "\n",
    "\n",
    "class TestStack(object):\n",
    "\n",
    "    # TODO: It would be better if we had unit tests for each\n",
    "    # method in addition to the following end-to-end test\n",
    "    def test_end_to_end(self):\n",
    "        print('Test: Empty stack')\n",
    "        stack = Stack()\n",
    "        assert_equal(stack.peek(), None)\n",
    "        assert_equal(stack.pop(), None)\n",
    "\n",
    "        print('Test: One element')\n",
    "        top = Node(5)\n",
    "        stack = Stack(top)\n",
    "        assert_equal(stack.pop(), 5)\n",
    "        assert_equal(stack.peek(), None)\n",
    "\n",
    "        print('Test: More than one element')\n",
    "        stack = Stack()\n",
    "        stack.push(1)\n",
    "        stack.push(2)\n",
    "        stack.push(3)\n",
    "        assert_equal(stack.pop(), 3)\n",
    "        assert_equal(stack.peek(), 2)\n",
    "        assert_equal(stack.pop(), 2)\n",
    "        assert_equal(stack.peek(), 1)\n",
    "        assert_equal(stack.is_empty(), False)\n",
    "        assert_equal(stack.pop(), 1)\n",
    "        assert_equal(stack.peek(), None)\n",
    "        assert_equal(stack.is_empty(), True)\n",
    "\n",
    "        print('Success: test_end_to_end')\n",
    "\n",
    "\n",
    "def main():\n",
    "    test = TestStack()\n",
    "    test.test_end_to_end()\n",
    "\n",
    "\n",
    "if __name__ == '__main__':\n",
    "    main()"
   ]
  },
  {
   "cell_type": "code",
   "execution_count": 4,
   "metadata": {
    "collapsed": false
   },
   "outputs": [
    {
     "name": "stdout",
     "output_type": "stream",
     "text": [
      "Test: Empty stack\n",
      "Test: One element\n",
      "Test: More than one element\n",
      "Success: test_end_to_end\n"
     ]
    }
   ],
   "source": [
    "%run -i test_stack.py"
   ]
  },
  {
   "cell_type": "markdown",
   "metadata": {},
   "source": [
    "## Pythonic-Code"
   ]
  },
  {
   "cell_type": "markdown",
   "metadata": {},
   "source": [
    "Source: https://docs.python.org/2/tutorial/datastructures.html#using-lists-as-stacks\n",
    "<pre>\n",
    "5.1.1. Using Lists as Stacks\n",
    "The list methods make it very easy to use a list as a stack, where the last element added is the first element retrieved (“last-in, first-out”). To add an item to the top of the stack, use append(). To retrieve an item from the top of the stack, use pop() without an explicit index. For example:\n",
    "\n",
    ">>> stack = [3, 4, 5]\n",
    ">>> stack.append(6)\n",
    ">>> stack.append(7)\n",
    ">>> stack\n",
    "[3, 4, 5, 6, 7]\n",
    ">>> stack.pop()\n",
    "7\n",
    ">>> stack\n",
    "[3, 4, 5, 6]\n",
    ">>> stack.pop()\n",
    "6\n",
    ">>> stack.pop()\n",
    "5\n",
    ">>> stack\n",
    "[3, 4]\n",
    "</pre>"
   ]
  }
 ],
 "metadata": {
  "kernelspec": {
   "display_name": "Python 3",
   "language": "python",
   "name": "python3"
  },
  "language_info": {
   "codemirror_mode": {
    "name": "ipython",
    "version": 3
   },
   "file_extension": ".py",
   "mimetype": "text/x-python",
   "name": "python",
   "nbconvert_exporter": "python",
   "pygments_lexer": "ipython3",
   "version": "3.5.0"
  }
 },
 "nbformat": 4,
 "nbformat_minor": 0
}
