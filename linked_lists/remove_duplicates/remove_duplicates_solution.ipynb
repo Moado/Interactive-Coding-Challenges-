{
 "cells": [
  {
   "cell_type": "markdown",
   "metadata": {},
   "source": [
    "This notebook was prepared by [Donne Martin](http://donnemartin.com). Source and license info is on [GitHub](https://github.com/donnemartin/interactive-coding-challenges)."
   ]
  },
  {
   "cell_type": "markdown",
   "metadata": {},
   "source": [
    "# Solution Notebook"
   ]
  },
  {
   "cell_type": "markdown",
   "metadata": {},
   "source": [
    "## Problem: Remove duplicates from a linked list.\n",
    "\n",
    "* [Constraints](#Constraints)\n",
    "* [Test Cases](#Test-Cases)\n",
    "* [Algorithm: Hash Map Lookup](#Algorithm:-Hash-Map-Lookup)\n",
    "* [Algorithm: In-Place](#Algorithm:-In-Place)\n",
    "* [Code](#Code)\n",
    "* [Unit Test](#Unit-Test)"
   ]
  },
  {
   "cell_type": "markdown",
   "metadata": {},
   "source": [
    "## Constraints\n",
    "\n",
    "* Can we assume this is a non-circular, singly linked list?\n",
    "    * Yes\n",
    "* Can you insert None values in the list?\n",
    "    * No\n",
    "* Can we assume we already have a linked list class that can be used for this problem?\n",
    "    * Yes\n",
    "* Can we use additional data structures?\n",
    "    * Implement both solutions\n",
    "* Can we assume this fits in memory?\n",
    "    * Yes"
   ]
  },
  {
   "cell_type": "markdown",
   "metadata": {},
   "source": [
    "## Test Cases\n",
    "\n",
    "* Empty linked list -> []\n",
    "* One element linked list -> [element]\n",
    "* General case with no duplicates\n",
    "* General case with duplicates"
   ]
  },
  {
   "cell_type": "markdown",
   "metadata": {},
   "source": [
    "## Algorithm: Hash Map Lookup\n",
    "\n",
    "Loop through each node\n",
    "\n",
    "* For each node\n",
    "    * If the node's value is in the hash map\n",
    "        * Delete the node\n",
    "    * Else\n",
    "        * Add node's value to the hash map\n",
    "\n",
    "Complexity:\n",
    "* Time: O(n)\n",
    "* Space: O(n)"
   ]
  },
  {
   "cell_type": "markdown",
   "metadata": {},
   "source": [
    "## Algorithm: In-Place\n",
    "\n",
    "* For each node\n",
    "    * Compare node with every other node\n",
    "        * Delete nodes that match current node\n",
    "\n",
    "Complexity:\n",
    "* Time: O(n^2)\n",
    "* Space: O(1)\n",
    "\n",
    "Note:\n",
    "* We'll need to use a 'runner' to check every other node and compare it to the current node"
   ]
  },
  {
   "cell_type": "markdown",
   "metadata": {},
   "source": [
    "## Code"
   ]
  },
  {
   "cell_type": "code",
   "execution_count": 1,
   "metadata": {
    "collapsed": true
   },
   "outputs": [],
   "source": [
    "%run ../linked_list/linked_list.py"
   ]
  },
  {
   "cell_type": "code",
   "execution_count": 2,
   "metadata": {
    "collapsed": false
   },
   "outputs": [],
   "source": [
    "class MyLinkedList(LinkedList):\n",
    "\n",
    "    def remove_dupes(self):\n",
    "        if self.head is None:\n",
    "            return\n",
    "        node = self.head\n",
    "        seen_data = set()\n",
    "        while node is not None:\n",
    "            if node.data not in seen_data:\n",
    "                seen_data.add(node.data)\n",
    "                prev = node\n",
    "                node = node.next\n",
    "            else:\n",
    "                prev.next = node.next\n",
    "                node = node.next\n",
    "\n",
    "    def remove_dupes_single_pointer(self):\n",
    "        if self.head is None:\n",
    "            return\n",
    "        node = self.head\n",
    "        seen_data = set({node.data})\n",
    "        while node.next is not None:\n",
    "            if node.next.data in seen_data:\n",
    "                node.next = node.next.next\n",
    "            else:\n",
    "                seen_data.add(node.next.data)\n",
    "                node = node.next\n",
    "\n",
    "    def remove_dupes_in_place(self):\n",
    "        curr = self.head\n",
    "        while curr is not None:\n",
    "            runner = curr\n",
    "            while runner.next is not None:\n",
    "                if runner.next.data == curr.data:\n",
    "                    runner.next = runner.next.next\n",
    "                else:\n",
    "                    runner = runner.next\n",
    "            curr = curr.next"
   ]
  },
  {
   "cell_type": "markdown",
   "metadata": {},
   "source": [
    "## Unit Test"
   ]
  },
  {
   "cell_type": "code",
   "execution_count": 3,
   "metadata": {
    "collapsed": false
   },
   "outputs": [
    {
     "name": "stdout",
     "output_type": "stream",
     "text": [
      "Overwriting test_remove_duplicates.py\n"
     ]
    }
   ],
   "source": [
    "%%writefile test_remove_duplicates.py\n",
    "from nose.tools import assert_equal\n",
    "\n",
    "\n",
    "class TestRemoveDupes(object):\n",
    "\n",
    "    def test_remove_dupes(self, linked_list):\n",
    "        print('Test: Empty list')\n",
    "        linked_list.remove_dupes()\n",
    "        assert_equal(linked_list.get_all_data(), [])\n",
    "\n",
    "        print('Test: One element list')\n",
    "        linked_list.insert_to_front(2)\n",
    "        linked_list.remove_dupes()\n",
    "        assert_equal(linked_list.get_all_data(), [2])\n",
    "\n",
    "        print('Test: General case, duplicates')\n",
    "        linked_list.insert_to_front(1)\n",
    "        linked_list.insert_to_front(1)\n",
    "        linked_list.insert_to_front(3)\n",
    "        linked_list.insert_to_front(2)\n",
    "        linked_list.insert_to_front(3)\n",
    "        linked_list.insert_to_front(1)\n",
    "        linked_list.insert_to_front(1)\n",
    "        linked_list.remove_dupes()\n",
    "        assert_equal(linked_list.get_all_data(), [1, 3, 2])\n",
    "\n",
    "        print('Test: General case, no duplicates')\n",
    "        linked_list.remove_dupes()\n",
    "        assert_equal(linked_list.get_all_data(), [1, 3, 2])\n",
    "\n",
    "        print('Success: test_remove_dupes\\n')\n",
    "\n",
    "\n",
    "def main():\n",
    "    test = TestRemoveDupes()\n",
    "    linked_list = MyLinkedList(None)\n",
    "    test.test_remove_dupes(linked_list)\n",
    "\n",
    "\n",
    "if __name__ == '__main__':\n",
    "    main()"
   ]
  },
  {
   "cell_type": "code",
   "execution_count": 4,
   "metadata": {
    "collapsed": false
   },
   "outputs": [
    {
     "name": "stdout",
     "output_type": "stream",
     "text": [
      "Test: Empty list\n",
      "Test: One element list\n",
      "Test: General case, duplicates\n",
      "Test: General case, no duplicates\n",
      "Success: test_remove_dupes\n",
      "\n"
     ]
    }
   ],
   "source": [
    "run -i test_remove_duplicates.py"
   ]
  }
 ],
 "metadata": {
  "kernelspec": {
   "display_name": "Python 3",
   "language": "python",
   "name": "python3"
  },
  "language_info": {
   "codemirror_mode": {
    "name": "ipython",
    "version": 3
   },
   "file_extension": ".py",
   "mimetype": "text/x-python",
   "name": "python",
   "nbconvert_exporter": "python",
   "pygments_lexer": "ipython3",
   "version": "3.5.0"
  }
 },
 "nbformat": 4,
 "nbformat_minor": 0
}
