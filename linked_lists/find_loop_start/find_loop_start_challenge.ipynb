{
 "cells": [
  {
   "cell_type": "markdown",
   "metadata": {},
   "source": [
    "This notebook was prepared by [Donne Martin](http://donnemartin.com). Source and license info is on [GitHub](https://github.com/donnemartin/interactive-coding-challenges)."
   ]
  },
  {
   "cell_type": "markdown",
   "metadata": {},
   "source": [
    "# Challenge Notebook"
   ]
  },
  {
   "cell_type": "markdown",
   "metadata": {},
   "source": [
    "## Problem: Find the start of a linked list loop.\n",
    "\n",
    "* [Constraints](#Constraints)\n",
    "* [Test Cases](#Test-Cases)\n",
    "* [Algorithm](#Algorithm)\n",
    "* [Code](#Code)\n",
    "* [Unit Test](#Unit-Test)\n",
    "* [Solution Notebook](#Solution-Notebook)"
   ]
  },
  {
   "cell_type": "markdown",
   "metadata": {},
   "source": [
    "## Constraints\n",
    "\n",
    "* Is this a singly linked list?\n",
    "    * Yes\n",
    "* Can we assume we are always passed a circular linked list?\n",
    "    * No\n",
    "* When we find a loop, do we return the node or the node's data?\n",
    "    * The node\n",
    "* Can we assume we already have a linked list class that can be used for this problem?\n",
    "    * Yes"
   ]
  },
  {
   "cell_type": "markdown",
   "metadata": {},
   "source": [
    "## Test Cases\n",
    "\n",
    "* Empty list -> None\n",
    "* Not a circular linked list -> None\n",
    "    * One element\n",
    "    * Two or more elements\n",
    "* Circular linked list general case"
   ]
  },
  {
   "cell_type": "markdown",
   "metadata": {},
   "source": [
    "## Algorithm\n",
    "\n",
    "Refer to the [Solution Notebook](http://nbviewer.ipython.org/github/donnemartin/interactive-coding-challenges/blob/master/linked_lists/find_loop_start/find_loop_start_solution.ipynb).  If you are stuck and need a hint, the solution notebook's algorithm discussion might be a good place to start."
   ]
  },
  {
   "cell_type": "markdown",
   "metadata": {},
   "source": [
    "## Code"
   ]
  },
  {
   "cell_type": "code",
   "execution_count": null,
   "metadata": {
    "collapsed": true
   },
   "outputs": [],
   "source": [
    "%run ../linked_list/linked_list.py\n",
    "%load ../linked_list/linked_list.py"
   ]
  },
  {
   "cell_type": "code",
   "execution_count": null,
   "metadata": {
    "collapsed": false
   },
   "outputs": [],
   "source": [
    "class MyLinkedList(LinkedList):\n",
    "\n",
    "    def find_loop_start(self):\n",
    "        # TODO: Implement me\n",
    "        pass"
   ]
  },
  {
   "cell_type": "markdown",
   "metadata": {},
   "source": [
    "## Unit Test"
   ]
  },
  {
   "cell_type": "markdown",
   "metadata": {},
   "source": [
    "\n",
    "\n",
    "**The following unit test is expected to fail until you solve the challenge.**"
   ]
  },
  {
   "cell_type": "code",
   "execution_count": null,
   "metadata": {
    "collapsed": false
   },
   "outputs": [],
   "source": [
    "# %load test_find_loop_start.py\n",
    "from nose.tools import assert_equal\n",
    "\n",
    "\n",
    "class TestFindLoopStart(object):\n",
    "\n",
    "    def test_find_loop_start(self):\n",
    "        print('Test: Empty list')\n",
    "        linked_list = MyLinkedList()\n",
    "        assert_equal(linked_list.find_loop_start(), None)\n",
    "\n",
    "        print('Test: Not a circular linked list: One element')\n",
    "        head = Node(1)\n",
    "        linked_list = MyLinkedList(head)\n",
    "        assert_equal(linked_list.find_loop_start(), None)\n",
    "\n",
    "        print('Test: Not a circular linked list: Two elements')\n",
    "        linked_list.append(2)\n",
    "        assert_equal(linked_list.find_loop_start(), None)\n",
    "\n",
    "        print('Test: Not a circular linked list: Three or more elements')\n",
    "        linked_list.append(3)\n",
    "        assert_equal(linked_list.find_loop_start(), None)\n",
    "\n",
    "        print('Test: General case: Circular linked list')\n",
    "        node10 = Node(10)\n",
    "        node9 = Node(9, node10)\n",
    "        node8 = Node(8, node9)\n",
    "        node7 = Node(7, node8)\n",
    "        node6 = Node(6, node7)\n",
    "        node5 = Node(5, node6)\n",
    "        node4 = Node(4, node5)\n",
    "        node3 = Node(3, node4)\n",
    "        node2 = Node(2, node3)\n",
    "        node1 = Node(1, node2)\n",
    "        node0 = Node(0, node1)\n",
    "        node10.next = node3\n",
    "        linked_list = MyLinkedList(node0)\n",
    "        assert_equal(linked_list.find_loop_start(), node3)\n",
    "\n",
    "        print('Success: test_find_loop_start')\n",
    "\n",
    "\n",
    "def main():\n",
    "    test = TestFindLoopStart()\n",
    "    test.test_find_loop_start()\n",
    "\n",
    "\n",
    "if __name__ == '__main__':\n",
    "    main()"
   ]
  },
  {
   "cell_type": "markdown",
   "metadata": {},
   "source": [
    "## Solution Notebook\n",
    "\n",
    "Review the [Solution Notebook](http://nbviewer.ipython.org/github/donnemartin/interactive-coding-challenges/blob/master/linked_lists/find_loop_start/find_loop_start_solution.ipynb) for a discussion on algorithms and code solutions."
   ]
  }
 ],
 "metadata": {
  "kernelspec": {
   "display_name": "Python 3",
   "language": "python",
   "name": "python3"
  },
  "language_info": {
   "codemirror_mode": {
    "name": "ipython",
    "version": 3
   },
   "file_extension": ".py",
   "mimetype": "text/x-python",
   "name": "python",
   "nbconvert_exporter": "python",
   "pygments_lexer": "ipython3",
   "version": "3.5.0"
  }
 },
 "nbformat": 4,
 "nbformat_minor": 0
}
