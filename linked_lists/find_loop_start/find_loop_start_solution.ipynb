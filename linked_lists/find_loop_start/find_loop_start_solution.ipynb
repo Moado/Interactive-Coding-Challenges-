{
 "cells": [
  {
   "cell_type": "markdown",
   "metadata": {},
   "source": [
    "This notebook was prepared by [Donne Martin](http://donnemartin.com). Source and license info is on [GitHub](https://github.com/donnemartin/interactive-coding-challenges)."
   ]
  },
  {
   "cell_type": "markdown",
   "metadata": {},
   "source": [
    "# Solution Notebook"
   ]
  },
  {
   "cell_type": "markdown",
   "metadata": {},
   "source": [
    "## Problem: Find the start of a linked list loop.\n",
    "\n",
    "* [Constraints](#Constraints)\n",
    "* [Test Cases](#Test-Cases)\n",
    "* [Algorithm](#Algorithm)\n",
    "* [Code](#Code)\n",
    "* [Unit Test](#Unit-Test)"
   ]
  },
  {
   "cell_type": "markdown",
   "metadata": {},
   "source": [
    "## Constraints\n",
    "\n",
    "* Is this a singly linked list?\n",
    "    * Yes\n",
    "* Can we assume we are always passed a circular linked list?\n",
    "    * No\n",
    "* When we find a loop, do we return the node or the node's data?\n",
    "    * The node\n",
    "* Can we assume we already have a linked list class that can be used for this problem?\n",
    "    * Yes"
   ]
  },
  {
   "cell_type": "markdown",
   "metadata": {},
   "source": [
    "## Test Cases\n",
    "\n",
    "* Empty list -> None\n",
    "* Not a circular linked list -> None\n",
    "    * One element\n",
    "    * Two or more elements\n",
    "* Circular linked list general case"
   ]
  },
  {
   "cell_type": "markdown",
   "metadata": {},
   "source": [
    "## Algorithm\n",
    "\n",
    "* Use two references `slow`, `fast`, initialized to the `head`\n",
    "* Increment `slow` and `fast` until they meet\n",
    "    * `fast` is incremented twice as fast as `slow`\n",
    "        * If `fast.next` is `None`, we do not have a circular list\n",
    "* When `slow` and `fast` meet, move `slow` to the `head`\n",
    "* Increment `slow` and `fast` one node at a time until they meet\n",
    "* Where they meet is the start of the loop\n",
    "\n",
    "Complexity:\n",
    "* Time: O(n)\n",
    "* Space: O(1)"
   ]
  },
  {
   "cell_type": "markdown",
   "metadata": {},
   "source": [
    "## Code"
   ]
  },
  {
   "cell_type": "code",
   "execution_count": 1,
   "metadata": {
    "collapsed": true
   },
   "outputs": [],
   "source": [
    "%run ../linked_list/linked_list.py"
   ]
  },
  {
   "cell_type": "code",
   "execution_count": 2,
   "metadata": {
    "collapsed": false
   },
   "outputs": [],
   "source": [
    "class MyLinkedList(LinkedList):\n",
    "\n",
    "    def find_loop_start(self):\n",
    "        if self.head is None or self.head.next is None:\n",
    "            return None\n",
    "        slow = self.head\n",
    "        fast = self.head\n",
    "        while fast.next is not None:\n",
    "            slow = slow.next\n",
    "            fast = fast.next.next\n",
    "            if fast is None:\n",
    "                return None\n",
    "            if slow == fast:\n",
    "                break\n",
    "        slow = self.head\n",
    "        while slow != fast:\n",
    "            slow = slow.next\n",
    "            fast = fast.next\n",
    "            if fast is None:\n",
    "                return None\n",
    "        return slow"
   ]
  },
  {
   "cell_type": "markdown",
   "metadata": {},
   "source": [
    "## Unit Test"
   ]
  },
  {
   "cell_type": "code",
   "execution_count": 3,
   "metadata": {
    "collapsed": false
   },
   "outputs": [
    {
     "name": "stdout",
     "output_type": "stream",
     "text": [
      "Overwriting test_find_loop_start.py\n"
     ]
    }
   ],
   "source": [
    "%%writefile test_find_loop_start.py\n",
    "from nose.tools import assert_equal\n",
    "\n",
    "\n",
    "class TestFindLoopStart(object):\n",
    "\n",
    "    def test_find_loop_start(self):\n",
    "        print('Test: Empty list')\n",
    "        linked_list = MyLinkedList()\n",
    "        assert_equal(linked_list.find_loop_start(), None)\n",
    "\n",
    "        print('Test: Not a circular linked list: One element')\n",
    "        head = Node(1)\n",
    "        linked_list = MyLinkedList(head)\n",
    "        assert_equal(linked_list.find_loop_start(), None)\n",
    "\n",
    "        print('Test: Not a circular linked list: Two elements')\n",
    "        linked_list.append(2)\n",
    "        assert_equal(linked_list.find_loop_start(), None)\n",
    "\n",
    "        print('Test: Not a circular linked list: Three or more elements')\n",
    "        linked_list.append(3)\n",
    "        assert_equal(linked_list.find_loop_start(), None)\n",
    "\n",
    "        print('Test: General case: Circular linked list')\n",
    "        node10 = Node(10)\n",
    "        node9 = Node(9, node10)\n",
    "        node8 = Node(8, node9)\n",
    "        node7 = Node(7, node8)\n",
    "        node6 = Node(6, node7)\n",
    "        node5 = Node(5, node6)\n",
    "        node4 = Node(4, node5)\n",
    "        node3 = Node(3, node4)\n",
    "        node2 = Node(2, node3)\n",
    "        node1 = Node(1, node2)\n",
    "        node0 = Node(0, node1)\n",
    "        node10.next = node3\n",
    "        linked_list = MyLinkedList(node0)\n",
    "        assert_equal(linked_list.find_loop_start(), node3)\n",
    "\n",
    "        print('Success: test_find_loop_start')\n",
    "\n",
    "\n",
    "def main():\n",
    "    test = TestFindLoopStart()\n",
    "    test.test_find_loop_start()\n",
    "\n",
    "\n",
    "if __name__ == '__main__':\n",
    "    main()"
   ]
  },
  {
   "cell_type": "code",
   "execution_count": 4,
   "metadata": {
    "collapsed": false,
    "scrolled": true
   },
   "outputs": [
    {
     "name": "stdout",
     "output_type": "stream",
     "text": [
      "Test: Empty list\n",
      "Test: Not a circular linked list: One element\n",
      "Test: Not a circular linked list: Two elements\n",
      "Test: Not a circular linked list: Three or more elements\n",
      "Test: General case: Circular linked list\n",
      "Success: test_find_loop_start\n"
     ]
    }
   ],
   "source": [
    "%run -i test_find_loop_start.py"
   ]
  }
 ],
 "metadata": {
  "kernelspec": {
   "display_name": "Python 3",
   "language": "python",
   "name": "python3"
  },
  "language_info": {
   "codemirror_mode": {
    "name": "ipython",
    "version": 3
   },
   "file_extension": ".py",
   "mimetype": "text/x-python",
   "name": "python",
   "nbconvert_exporter": "python",
   "pygments_lexer": "ipython3",
   "version": "3.5.0"
  }
 },
 "nbformat": 4,
 "nbformat_minor": 0
}
