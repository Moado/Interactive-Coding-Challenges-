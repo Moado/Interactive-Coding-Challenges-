{
 "cells": [
  {
   "cell_type": "markdown",
   "metadata": {},
   "source": [
    "This notebook was prepared by [Donne Martin](http://donnemartin.com). Source and license info is on [GitHub](https://github.com/donnemartin/interactive-coding-challenges)."
   ]
  },
  {
   "cell_type": "markdown",
   "metadata": {},
   "source": [
    "# Solution Notebook"
   ]
  },
  {
   "cell_type": "markdown",
   "metadata": {},
   "source": [
    "## Problem: Find the kth to last element of a linked list.\n",
    "\n",
    "* [Constraints](#Constraints)\n",
    "* [Test Cases](#Test-Cases)\n",
    "* [Algorithm](#Algorithm)\n",
    "* [Code](#Code)\n",
    "* [Unit Test](#Unit-Test)"
   ]
  },
  {
   "cell_type": "markdown",
   "metadata": {},
   "source": [
    "## Constraints\n",
    "\n",
    "* Can we assume this is a non-circular, singly linked list?\n",
    "    * Yes\n",
    "* Can we assume k is a valid integer?\n",
    "    * Yes\n",
    "* If k = 0, does this return the last element?\n",
    "    * Yes\n",
    "* What happens if k is greater than or equal to the length of the linked list?\n",
    "    * Return None\n",
    "* Can you use additional data structures?\n",
    "    * No\n",
    "* Can we assume we already have a linked list class that can be used for this problem?\n",
    "    * Yes"
   ]
  },
  {
   "cell_type": "markdown",
   "metadata": {},
   "source": [
    "## Test Cases\n",
    "\n",
    "* Empty list -> None\n",
    "* k is >= the length of the linked list -> None\n",
    "* One element, k = 0 -> element\n",
    "* General case with many elements, k < length of linked list"
   ]
  },
  {
   "cell_type": "markdown",
   "metadata": {},
   "source": [
    "## Algorithm\n",
    "\n",
    "* Setup two pointers, fast and slow\n",
    "* Give fast a headstart, incrementing it once if k = 1, twice if k = 2, ...\n",
    "* Increment both pointers until fast reaches the end\n",
    "* Return the value of slow\n",
    "\n",
    "Complexity:\n",
    "* Time: O(n)\n",
    "* Space: O(1)"
   ]
  },
  {
   "cell_type": "markdown",
   "metadata": {},
   "source": [
    "## Code"
   ]
  },
  {
   "cell_type": "code",
   "execution_count": 1,
   "metadata": {
    "collapsed": false
   },
   "outputs": [],
   "source": [
    "%run ../linked_list/linked_list.py"
   ]
  },
  {
   "cell_type": "code",
   "execution_count": 2,
   "metadata": {
    "collapsed": false
   },
   "outputs": [],
   "source": [
    "class MyLinkedList(LinkedList):\n",
    "\n",
    "    def kth_to_last_elem(self, k):\n",
    "        if self.head is None:\n",
    "            return None\n",
    "        fast = self.head\n",
    "        slow = self.head\n",
    "\n",
    "        # Give fast a headstart, incrementing it\n",
    "        # once for k = 1, twice for k = 2, etc\n",
    "        for _ in range(k):\n",
    "            fast = fast.next\n",
    "            # If k >= num elements, return None\n",
    "            if fast is None:\n",
    "                return None\n",
    "\n",
    "        # Increment both pointers until fast reaches the end\n",
    "        while fast.next is not None:\n",
    "            fast = fast.next\n",
    "            slow = slow.next\n",
    "        return slow.data"
   ]
  },
  {
   "cell_type": "markdown",
   "metadata": {},
   "source": [
    "## Unit Test"
   ]
  },
  {
   "cell_type": "code",
   "execution_count": 3,
   "metadata": {
    "collapsed": false
   },
   "outputs": [
    {
     "name": "stdout",
     "output_type": "stream",
     "text": [
      "Overwriting test_kth_to_last_elem.py\n"
     ]
    }
   ],
   "source": [
    "%%writefile test_kth_to_last_elem.py\n",
    "from nose.tools import assert_equal\n",
    "\n",
    "\n",
    "class Test(object):\n",
    "\n",
    "    def test_kth_to_last_elem(self):\n",
    "        print('Test: Empty list')\n",
    "        linked_list = MyLinkedList(None)\n",
    "        assert_equal(linked_list.kth_to_last_elem(0), None)\n",
    "\n",
    "        print('Test: k >= len(list)')\n",
    "        assert_equal(linked_list.kth_to_last_elem(100), None)\n",
    "\n",
    "        print('Test: One element, k = 0')\n",
    "        head = Node(2)\n",
    "        linked_list = MyLinkedList(head)\n",
    "        assert_equal(linked_list.kth_to_last_elem(0), 2)\n",
    "\n",
    "        print('Test: General case')\n",
    "        linked_list.insert_to_front(1)\n",
    "        linked_list.insert_to_front(3)\n",
    "        linked_list.insert_to_front(5)\n",
    "        linked_list.insert_to_front(7)\n",
    "        assert_equal(linked_list.kth_to_last_elem(2), 3)\n",
    "\n",
    "        print('Success: test_kth_to_last_elem')\n",
    "\n",
    "\n",
    "def main():\n",
    "    test = Test()\n",
    "    test.test_kth_to_last_elem()\n",
    "\n",
    "\n",
    "if __name__ == '__main__':\n",
    "    main()"
   ]
  },
  {
   "cell_type": "code",
   "execution_count": 4,
   "metadata": {
    "collapsed": false
   },
   "outputs": [
    {
     "name": "stdout",
     "output_type": "stream",
     "text": [
      "Test: Empty list\n",
      "Test: k >= len(list)\n",
      "Test: One element, k = 0\n",
      "Test: General case\n",
      "Success: test_kth_to_last_elem\n"
     ]
    }
   ],
   "source": [
    "%run -i test_kth_to_last_elem.py"
   ]
  }
 ],
 "metadata": {
  "kernelspec": {
   "display_name": "Python 3",
   "language": "python",
   "name": "python3"
  },
  "language_info": {
   "codemirror_mode": {
    "name": "ipython",
    "version": 3
   },
   "file_extension": ".py",
   "mimetype": "text/x-python",
   "name": "python",
   "nbconvert_exporter": "python",
   "pygments_lexer": "ipython3",
   "version": "3.5.0"
  }
 },
 "nbformat": 4,
 "nbformat_minor": 0
}
