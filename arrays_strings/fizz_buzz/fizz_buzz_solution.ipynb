{
 "cells": [
  {
   "cell_type": "markdown",
   "metadata": {},
   "source": [
    "This notebook was prepared by [Donne Martin](https://github.com/donnemartin). Source and license info is on [GitHub](https://github.com/donnemartin/interactive-coding-challenges)."
   ]
  },
  {
   "cell_type": "markdown",
   "metadata": {},
   "source": [
    "# Solution Notebook"
   ]
  },
  {
   "cell_type": "markdown",
   "metadata": {},
   "source": [
    "## Problem: Implement Fizz Buzz.\n",
    "\n",
    "* [Constraints](#Constraints)\n",
    "* [Test Cases](#Test-Cases)\n",
    "* [Algorithm](#Algorithm)\n",
    "* [Code](#Code)\n",
    "* [Unit Test](#Unit-Test)"
   ]
  },
  {
   "cell_type": "markdown",
   "metadata": {},
   "source": [
    "## Constraints\n",
    "\n",
    "* What is fizz buzz?\n",
    "    * Return the string representation of numbers from 1 to n\n",
    "        * Multiples of 3 -> 'Fizz'\n",
    "        * Multiples of 5 -> 'Buzz'\n",
    "        * Multiples of 3 and 5 -> 'FizzBuzz'\n",
    "* Can we assume the inputs are valid?\n",
    "    * No\n",
    "* Can we assume this fits memory?\n",
    "    * Yes"
   ]
  },
  {
   "cell_type": "markdown",
   "metadata": {},
   "source": [
    "## Test Cases\n",
    "\n",
    "<pre>\n",
    "* None -> Exception\n",
    "* < 1 -> Exception\n",
    "* 15 ->\n",
    "[\n",
    "    '1',\n",
    "    '2',\n",
    "    'Fizz',\n",
    "    '4',\n",
    "    'Buzz',\n",
    "    'Fizz',\n",
    "    '7',\n",
    "    '8',\n",
    "    'Fizz',\n",
    "    'Buzz',\n",
    "    '11',\n",
    "    'Fizz',\n",
    "    '13',\n",
    "    '14',\n",
    "    'FizzBuzz'\n",
    "]\n",
    "</pre>"
   ]
  },
  {
   "cell_type": "markdown",
   "metadata": {},
   "source": [
    "## Algorithm\n",
    "\n",
    "There is no fancy algorithm to solve fizz buzz.\n",
    "\n",
    "* Iterate from 1 through n\n",
    "* Use the mod operator to determine if the current iteration is divisible by:\n",
    "    * 3 and 5 -> 'FizzBuzz'\n",
    "    * 3 -> 'Fizz'\n",
    "    * 5 -> 'Buzz'\n",
    "    * else -> string of current iteration\n",
    "* return the results\n",
    "\n",
    "Complexity:\n",
    "* Time: O(n)\n",
    "* Space: O(n)"
   ]
  },
  {
   "cell_type": "markdown",
   "metadata": {},
   "source": [
    "## Code"
   ]
  },
  {
   "cell_type": "code",
   "execution_count": 1,
   "metadata": {
    "collapsed": false
   },
   "outputs": [],
   "source": [
    "class Solution(object):\n",
    "\n",
    "    def fizz_buzz(self, num):\n",
    "        if num is None:\n",
    "            raise TypeError('num cannot be None')\n",
    "        if num < 1:\n",
    "            raise ValueError('num cannot be less than one')\n",
    "        results = []\n",
    "        for i in range(1, num + 1):\n",
    "            if i % 3 == 0 and i % 5 == 0:\n",
    "                results.append('FizzBuzz')\n",
    "            elif i % 3 == 0:\n",
    "                results.append('Fizz')\n",
    "            elif i % 5 == 0:\n",
    "                results.append('Buzz')\n",
    "            else:\n",
    "                results.append(str(i))\n",
    "        return results"
   ]
  },
  {
   "cell_type": "markdown",
   "metadata": {},
   "source": [
    "## Unit Test"
   ]
  },
  {
   "cell_type": "code",
   "execution_count": 2,
   "metadata": {
    "collapsed": false
   },
   "outputs": [
    {
     "name": "stdout",
     "output_type": "stream",
     "text": [
      "Overwriting test_fizz_buzz.py\n"
     ]
    }
   ],
   "source": [
    "%%writefile test_fizz_buzz.py\n",
    "from nose.tools import assert_equal, assert_raises\n",
    "\n",
    "\n",
    "class TestFizzBuzz(object):\n",
    "\n",
    "    def test_fizz_buzz(self):\n",
    "        solution = Solution()\n",
    "        assert_raises(TypeError, solution.fizz_buzz, None)\n",
    "        assert_raises(ValueError, solution.fizz_buzz, 0)\n",
    "        expected = [\n",
    "            '1',\n",
    "            '2',\n",
    "            'Fizz',\n",
    "            '4',\n",
    "            'Buzz',\n",
    "            'Fizz',\n",
    "            '7',\n",
    "            '8',\n",
    "            'Fizz',\n",
    "            'Buzz',\n",
    "            '11',\n",
    "            'Fizz',\n",
    "            '13',\n",
    "            '14',\n",
    "            'FizzBuzz'\n",
    "        ]\n",
    "        assert_equal(solution.fizz_buzz(15), expected)\n",
    "        print('Success: test_fizz_buzz')\n",
    "\n",
    "\n",
    "def main():\n",
    "    test = TestFizzBuzz()\n",
    "    test.test_fizz_buzz()\n",
    "\n",
    "\n",
    "if __name__ == '__main__':\n",
    "    main()"
   ]
  },
  {
   "cell_type": "code",
   "execution_count": 3,
   "metadata": {
    "collapsed": false
   },
   "outputs": [
    {
     "name": "stdout",
     "output_type": "stream",
     "text": [
      "Success: test_fizz_buzz\n"
     ]
    }
   ],
   "source": [
    "%run -i test_fizz_buzz.py"
   ]
  }
 ],
 "metadata": {
  "kernelspec": {
   "display_name": "Python 3",
   "language": "python",
   "name": "python3"
  },
  "language_info": {
   "codemirror_mode": {
    "name": "ipython",
    "version": 3
   },
   "file_extension": ".py",
   "mimetype": "text/x-python",
   "name": "python",
   "nbconvert_exporter": "python",
   "pygments_lexer": "ipython3",
   "version": "3.4.3"
  }
 },
 "nbformat": 4,
 "nbformat_minor": 0
}
