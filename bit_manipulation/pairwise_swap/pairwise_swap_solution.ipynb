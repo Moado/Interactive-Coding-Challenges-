{
 "cells": [
  {
   "cell_type": "markdown",
   "metadata": {},
   "source": [
    "This notebook was prepared by [Donne Martin](https://github.com/donnemartin). Source and license info is on [GitHub](https://github.com/donnemartin/interactive-coding-challenges)."
   ]
  },
  {
   "cell_type": "markdown",
   "metadata": {},
   "source": [
    "# Solution Notebook"
   ]
  },
  {
   "cell_type": "markdown",
   "metadata": {},
   "source": [
    "## Problem: Swap the odd and even bits of a positive integer with as few operations as possible.\n",
    "\n",
    "* [Constraints](#Constraints)\n",
    "* [Test Cases](#Test-Cases)\n",
    "* [Algorithm](#Algorithm)\n",
    "* [Code](#Code)\n",
    "* [Unit Test](#Unit-Test)"
   ]
  },
  {
   "cell_type": "markdown",
   "metadata": {},
   "source": [
    "## Constraints\n",
    "\n",
    "* Can we assume the input is always a positive int?\n",
    "    * Yes\n",
    "* Can we assume we're working with 32 bits?\n",
    "    * Yes\n",
    "* Is the output an int?\n",
    "    * Yes\n",
    "* Can we assume the inputs are valid (not None)?\n",
    "    * No\n",
    "* Can we assume this fits memory?\n",
    "    * Yes"
   ]
  },
  {
   "cell_type": "markdown",
   "metadata": {},
   "source": [
    "## Test Cases\n",
    "\n",
    "* None -> Exception\n",
    "* 0 -> 0\n",
    "* -1 -> -1\n",
    "* General case\n",
    "<pre>\n",
    "    input  = 0000 1001 1111 0110\n",
    "    result = 0000 0110 1111 1001\n",
    "<pre>"
   ]
  },
  {
   "cell_type": "markdown",
   "metadata": {},
   "source": [
    "## Algorithm\n",
    "\n",
    "<pre>\n",
    "* Isolate the odd bits with a mask:\n",
    "    0000 1001 1111 0110  num\n",
    "    1010 1010 1010 1010  mask\n",
    "    --------------------------------\n",
    "    0000 1000 1010 0010  num & mask\n",
    "\n",
    "* Shift the odd bits right:\n",
    "    0000 0100 0101 0001  odd\n",
    "\n",
    "* Isolate the even bits with a mask:\n",
    "    0000 1001 1111 0110  num\n",
    "    0101 0101 0101 0101  mask\n",
    "    --------------------------------\n",
    "    0000 0001 0101 0100  num & mask\n",
    "\n",
    "* Shift the even bits left:\n",
    "    0000 0010 1010 1000  even\n",
    "\n",
    "* Return even | odd\n",
    "    0000 0100 0101 0001  odd\n",
    "    0000 0010 1010 1000  even\n",
    "    --------------------------------\n",
    "    0000 0110 1111 1001  odd | even\n",
    "</pre>\n",
    "\n",
    "Complexity:\n",
    "* Time: O(b), where b is the number of bits\n",
    "* Space: O(b), where b is the number of bits"
   ]
  },
  {
   "cell_type": "markdown",
   "metadata": {},
   "source": [
    "## Code"
   ]
  },
  {
   "cell_type": "code",
   "execution_count": 1,
   "metadata": {
    "collapsed": false
   },
   "outputs": [],
   "source": [
    "class Bits(object):\n",
    "\n",
    "    def pairwise_swap(self, num):\n",
    "        if num is None:\n",
    "            raise TypeError('num cannot be None')\n",
    "        if num == 0 or num == 1:\n",
    "            return num\n",
    "        odd = (num & int('1010101010101010', base=2)) >> 1\n",
    "        even = (num & int('0101010101010101', base=2)) << 1\n",
    "        return odd | even"
   ]
  },
  {
   "cell_type": "markdown",
   "metadata": {},
   "source": [
    "## Unit Test"
   ]
  },
  {
   "cell_type": "code",
   "execution_count": 2,
   "metadata": {
    "collapsed": false
   },
   "outputs": [
    {
     "name": "stdout",
     "output_type": "stream",
     "text": [
      "Overwriting test_pairwise_swap.py\n"
     ]
    }
   ],
   "source": [
    "%%writefile test_pairwise_swap.py\n",
    "from nose.tools import assert_equal, assert_raises\n",
    "\n",
    "\n",
    "class TestBits(object):\n",
    "\n",
    "    def test_pairwise_swap(self):\n",
    "        bits = Bits()\n",
    "        assert_equal(bits.pairwise_swap(0), 0)\n",
    "        assert_equal(bits.pairwise_swap(1), 1)\n",
    "        num = int('0000100111110110', base=2)\n",
    "        expected = int('0000011011111001', base=2)\n",
    "        assert_equal(bits.pairwise_swap(num), expected)\n",
    "        assert_raises(TypeError, bits.pairwise_swap, None)\n",
    "        \n",
    "        print('Success: test_pairwise_swap')\n",
    "\n",
    "\n",
    "def main():\n",
    "    test = TestBits()\n",
    "    test.test_pairwise_swap()\n",
    "\n",
    "\n",
    "if __name__ == '__main__':\n",
    "    main()"
   ]
  },
  {
   "cell_type": "code",
   "execution_count": 3,
   "metadata": {
    "collapsed": false
   },
   "outputs": [
    {
     "name": "stdout",
     "output_type": "stream",
     "text": [
      "Success: test_pairwise_swap\n"
     ]
    }
   ],
   "source": [
    "%run -i test_pairwise_swap.py"
   ]
  }
 ],
 "metadata": {
  "kernelspec": {
   "display_name": "Python 3",
   "language": "python",
   "name": "python3"
  },
  "language_info": {
   "codemirror_mode": {
    "name": "ipython",
    "version": 3
   },
   "file_extension": ".py",
   "mimetype": "text/x-python",
   "name": "python",
   "nbconvert_exporter": "python",
   "pygments_lexer": "ipython3",
   "version": "3.5.0"
  }
 },
 "nbformat": 4,
 "nbformat_minor": 0
}
