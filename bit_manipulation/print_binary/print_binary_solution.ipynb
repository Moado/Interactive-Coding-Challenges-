{
 "cells": [
  {
   "cell_type": "markdown",
   "metadata": {},
   "source": [
    "This notebook was prepared by [Donne Martin](https://github.com/donnemartin). Source and license info is on [GitHub](https://github.com/donnemartin/interactive-coding-challenges)."
   ]
  },
  {
   "cell_type": "markdown",
   "metadata": {},
   "source": [
    "# Solution Notebook"
   ]
  },
  {
   "cell_type": "markdown",
   "metadata": {},
   "source": [
    "## Problem: Given a real number between 0 and 1, print the binary representation.  If the length of the representation is > 32, return 'ERROR'.\n",
    "\n",
    "* [Constraints](#Constraints)\n",
    "* [Test Cases](#Test-Cases)\n",
    "* [Algorithm](#Algorithm)\n",
    "* [Code](#Code)\n",
    "* [Unit Test](#Unit-Test)"
   ]
  },
  {
   "cell_type": "markdown",
   "metadata": {},
   "source": [
    "## Constraints\n",
    "\n",
    "* Is the input a float?\n",
    "    * Yes\n",
    "* Is the output a string?\n",
    "    * Yes\n",
    "* Is 0 and 1 inclusive?\n",
    "    * No\n",
    "* Does the result include a trailing zero and decimal point?\n",
    "    * Yes\n",
    "* Is the leading zero and decimal point counted in the 32 char limit?\n",
    "    * Yes\n",
    "* Can we assume the inputs are valid?\n",
    "    * No\n",
    "* Can we assume this fits memory?\n",
    "    * Yes"
   ]
  },
  {
   "cell_type": "markdown",
   "metadata": {},
   "source": [
    "## Test Cases\n",
    "\n",
    "* None -> 'ERROR'\n",
    "* Out of bounds (0, 1) -> 'ERROR'\n",
    "* General case\n",
    "    * 0.625 -> 0.101\n",
    "    * 0.987654321 -> 'ERROR'"
   ]
  },
  {
   "cell_type": "markdown",
   "metadata": {},
   "source": [
    "## Algorithm\n",
    "\n",
    "* Set the result to '0.'\n",
    "* Start with a fraction of 0.5, which is 0.1 in base 2\n",
    "* Loop while num > 0\n",
    "    * Check num versus fraction\n",
    "        * If num > fraction, add a 1 to the result, num -= fraction\n",
    "        * Else, add a 0 to the result\n",
    "        * If the len(result) > 32, return 'ERROR'\n",
    "    \n",
    "Complexity:\n",
    "* Time: O(1)\n",
    "* Space: O(1)"
   ]
  },
  {
   "cell_type": "markdown",
   "metadata": {},
   "source": [
    "## Code"
   ]
  },
  {
   "cell_type": "code",
   "execution_count": 1,
   "metadata": {
    "collapsed": false
   },
   "outputs": [],
   "source": [
    "from __future__ import division\n",
    "\n",
    "\n",
    "class Bits(object):\n",
    "\n",
    "    MAX_BITS = 32\n",
    "\n",
    "    def print_binary(self, num):\n",
    "        if num is None or num >= 1 or num <= 0:\n",
    "            return 'ERROR'\n",
    "        result = ['0', '.']\n",
    "        fraction = 0.5\n",
    "        while num:\n",
    "            if num >= fraction:\n",
    "                result.append('1')\n",
    "                num -= fraction\n",
    "            else:\n",
    "                result.append('0')\n",
    "            if len(result) > self.MAX_BITS:\n",
    "                return 'ERROR'\n",
    "            fraction /= 2\n",
    "        return ''.join(result)"
   ]
  },
  {
   "cell_type": "markdown",
   "metadata": {},
   "source": [
    "## Unit Test"
   ]
  },
  {
   "cell_type": "code",
   "execution_count": 2,
   "metadata": {
    "collapsed": false
   },
   "outputs": [
    {
     "name": "stdout",
     "output_type": "stream",
     "text": [
      "Overwriting test_print_binary.py\n"
     ]
    }
   ],
   "source": [
    "%%writefile test_print_binary.py\n",
    "from nose.tools import assert_equal\n",
    "\n",
    "\n",
    "class TestBits(object):\n",
    "\n",
    "    def test_print_binary(self):\n",
    "        bit = Bits()\n",
    "        assert_equal(bit.print_binary(None), 'ERROR')\n",
    "        assert_equal(bit.print_binary(0), 'ERROR')\n",
    "        assert_equal(bit.print_binary(1), 'ERROR')\n",
    "        num = 0.625\n",
    "        expected = '0.101'\n",
    "        assert_equal(bit.print_binary(num), expected)\n",
    "        num = 0.987654321\n",
    "        assert_equal(bit.print_binary(num), 'ERROR')\n",
    "        print('Success: test_print_binary')\n",
    "\n",
    "\n",
    "def main():\n",
    "    test = TestBits()\n",
    "    test.test_print_binary()\n",
    "\n",
    "\n",
    "if __name__ == '__main__':\n",
    "    main()"
   ]
  },
  {
   "cell_type": "code",
   "execution_count": 3,
   "metadata": {
    "collapsed": false
   },
   "outputs": [
    {
     "name": "stdout",
     "output_type": "stream",
     "text": [
      "Success: test_print_binary\n"
     ]
    }
   ],
   "source": [
    "%run -i test_print_binary.py"
   ]
  }
 ],
 "metadata": {
  "kernelspec": {
   "display_name": "Python 3",
   "language": "python",
   "name": "python3"
  },
  "language_info": {
   "codemirror_mode": {
    "name": "ipython",
    "version": 3
   },
   "file_extension": ".py",
   "mimetype": "text/x-python",
   "name": "python",
   "nbconvert_exporter": "python",
   "pygments_lexer": "ipython3",
   "version": "3.5.0"
  }
 },
 "nbformat": 4,
 "nbformat_minor": 0
}
