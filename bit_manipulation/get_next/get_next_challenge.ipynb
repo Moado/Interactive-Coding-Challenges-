{
 "cells": [
  {
   "cell_type": "markdown",
   "metadata": {},
   "source": [
    "This notebook was prepared by [Donne Martin](https://github.com/donnemartin). Source and license info is on [GitHub](https://github.com/donnemartin/interactive-coding-challenges)."
   ]
  },
  {
   "cell_type": "markdown",
   "metadata": {},
   "source": [
    "# Challenge Notebook"
   ]
  },
  {
   "cell_type": "markdown",
   "metadata": {},
   "source": [
    "## Problem: Given a positive integer, get the next largest number and the next smallest number with the same number of 1's as the given number.\n",
    "\n",
    "* [Constraints](#Constraints)\n",
    "* [Test Cases](#Test-Cases)\n",
    "* [Algorithm](#Algorithm)\n",
    "* [Code](#Code)\n",
    "* [Unit Test](#Unit-Test)\n",
    "* [Solution Notebook](#Solution-Notebook)"
   ]
  },
  {
   "cell_type": "markdown",
   "metadata": {},
   "source": [
    "## Constraints\n",
    "\n",
    "* Is the output a positive int?\n",
    "    * Yes\n",
    "* Can we assume the inputs are valid?\n",
    "    * No\n",
    "* Can we assume this fits memory?\n",
    "    * Yes"
   ]
  },
  {
   "cell_type": "markdown",
   "metadata": {},
   "source": [
    "## Test Cases\n",
    "\n",
    "* None -> Exception\n",
    "* 0 -> Exception\n",
    "* negative int -> Exception\n",
    "* General case:\n",
    "<pre>\n",
    "    * Input:         0000 0000 1101 0111\n",
    "    * Next largest:  0000 0000 1101 1011\n",
    "    * Next smallest: 0000 0000 1100 1111\n",
    "</pre>"
   ]
  },
  {
   "cell_type": "markdown",
   "metadata": {},
   "source": [
    "## Algorithm\n",
    "\n",
    "Refer to the [Solution Notebook]().  If you are stuck and need a hint, the solution notebook's algorithm discussion might be a good place to start."
   ]
  },
  {
   "cell_type": "markdown",
   "metadata": {},
   "source": [
    "## Code"
   ]
  },
  {
   "cell_type": "code",
   "execution_count": null,
   "metadata": {
    "collapsed": false
   },
   "outputs": [],
   "source": [
    "class Bits(object):\n",
    "\n",
    "    def get_next_largest(self, num):\n",
    "        # TODO: Implement me\n",
    "        pass\n",
    "\n",
    "    def get_next_smallest(self, num):\n",
    "        # TODO: Implement me\n",
    "        pass"
   ]
  },
  {
   "cell_type": "markdown",
   "metadata": {},
   "source": [
    "## Unit Test"
   ]
  },
  {
   "cell_type": "markdown",
   "metadata": {},
   "source": [
    "**The following unit test is expected to fail until you solve the challenge.**"
   ]
  },
  {
   "cell_type": "code",
   "execution_count": null,
   "metadata": {
    "collapsed": false
   },
   "outputs": [],
   "source": [
    "# %load test_get_next_largest.py\n",
    "from nose.tools import assert_equal, assert_raises\n",
    "\n",
    "\n",
    "class TestBits(object):\n",
    "\n",
    "    def test_get_next_largest(self):\n",
    "        bits = Bits()\n",
    "        assert_raises(Exception, bits.get_next_largest, None)\n",
    "        assert_raises(Exception, bits.get_next_largest, 0)\n",
    "        assert_raises(Exception, bits.get_next_largest, -1)\n",
    "        num = int('011010111', base=2)\n",
    "        expected = int('011011011', base=2)\n",
    "        assert_equal(bits.get_next_largest(num), expected)\n",
    "        print('Success: test_get_next_largest')\n",
    "\n",
    "    def test_get_next_smallest(self):\n",
    "        bits = Bits()\n",
    "        assert_raises(Exception, bits.get_next_smallest, None)\n",
    "        assert_raises(Exception, bits.get_next_smallest, 0)\n",
    "        assert_raises(Exception, bits.get_next_smallest, -1)\n",
    "        num = int('011010111', base=2)\n",
    "        expected = int('011001111', base=2)\n",
    "        assert_equal(bits.get_next_smallest(num), expected)\n",
    "        print('Success: test_get_next_smallest')\n",
    "\n",
    "def main():\n",
    "    test = TestBits()\n",
    "    test.test_get_next_largest()\n",
    "    test.test_get_next_smallest()\n",
    "\n",
    "\n",
    "if __name__ == '__main__':\n",
    "    main()"
   ]
  },
  {
   "cell_type": "markdown",
   "metadata": {},
   "source": [
    "## Solution Notebook\n",
    "\n",
    "Review the [Solution Notebook]() for a discussion on algorithms and code solutions."
   ]
  }
 ],
 "metadata": {
  "kernelspec": {
   "display_name": "Python 3",
   "language": "python",
   "name": "python3"
  },
  "language_info": {
   "codemirror_mode": {
    "name": "ipython",
    "version": 3
   },
   "file_extension": ".py",
   "mimetype": "text/x-python",
   "name": "python",
   "nbconvert_exporter": "python",
   "pygments_lexer": "ipython3",
   "version": "3.5.0"
  }
 },
 "nbformat": 4,
 "nbformat_minor": 0
}
