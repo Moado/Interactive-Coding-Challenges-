{
 "cells": [
  {
   "cell_type": "markdown",
   "metadata": {},
   "source": [
    "This notebook was prepared by [Donne Martin](https://github.com/donnemartin). Source and license info is on [GitHub](https://github.com/donnemartin/interactive-coding-challenges)."
   ]
  },
  {
   "cell_type": "markdown",
   "metadata": {},
   "source": [
    "# Solution Notebook"
   ]
  },
  {
   "cell_type": "markdown",
   "metadata": {},
   "source": [
    "## Problem: Determine the minimum number of ways to make n cents, given coins of denominations less than n cents.\n",
    "\n",
    "* [Constraints](#Constraints)\n",
    "* [Test Cases](#Test-Cases)\n",
    "* [Algorithm](#Algorithm)\n",
    "* [Code](#Code)\n",
    "* [Unit Test](#Unit-Test)"
   ]
  },
  {
   "cell_type": "markdown",
   "metadata": {},
   "source": [
    "## Constraints\n",
    "\n",
    "* Do the coins have to reach exactly n cents?\n",
    "    * Yes\n",
    "* Can we assume we have an infinite number of coins to make n cents?\n",
    "    * Yes\n",
    "* Do we need to report the combination(s) of coins that represent the minimum?\n",
    "    * No\n",
    "* Can we assume the coin denominations are given in sorted order?\n",
    "    * No\n",
    "* Can we assume this fits memory?\n",
    "    * Yes"
   ]
  },
  {
   "cell_type": "markdown",
   "metadata": {},
   "source": [
    "## Test Cases\n",
    "\n",
    "* coins: None or n: None -> Exception\n",
    "* coins: [] or n: 0 -> 0\n",
    "* coins: [1, 2, 3] or [3, 2, 1], n: 5 -> 2"
   ]
  },
  {
   "cell_type": "markdown",
   "metadata": {},
   "source": [
    "## Algorithm\n",
    "\n",
    "We'll use top down dynamic programming with memoization.\n",
    "\n",
    "* Base case: If the total is 0, return 0\n",
    "* If the total is already in the memo, return it\n",
    "* For each coin denomination:\n",
    "    * If this coin > total, continue\n",
    "    * Recurse, decreasing total by the coin denomination, keeping track of the min return\n",
    "* Set memo[total] to the min value + 1\n",
    "* Return the memo[total]\n",
    "\n",
    "<pre>\n",
    "total: 5\n",
    "coins: [1,2,3]\n",
    "memo key: total value: min ways\n",
    "memo = {\n",
    "    1: 1,\n",
    "    2: 1,\n",
    "    3: 1,\n",
    "    4: 2,\n",
    "    5: 2\n",
    "}\n",
    "                              5\n",
    "                           1, 2, 3\n",
    "                          /\n",
    "                         4\n",
    "                      1, 2, 3\n",
    "                     /\n",
    "                    3\n",
    "              1,    2,    3\n",
    "             /       \\     \\____\n",
    "            2         1         0\n",
    "         1, 2, 3   1, 2, 3\n",
    "        /   |\n",
    "       1    0\n",
    "    1, 2, 3\n",
    "   /\n",
    "  0\n",
    "</pre>\n",
    "\n",
    "Complexity:\n",
    "* Time: O(t * n), where t is the total and n is the number of coin denominations\n",
    "* Space: O(t) for the recursion depth"
   ]
  },
  {
   "cell_type": "markdown",
   "metadata": {},
   "source": [
    "## Code"
   ]
  },
  {
   "cell_type": "code",
   "execution_count": 1,
   "metadata": {
    "collapsed": false
   },
   "outputs": [],
   "source": [
    "import sys\n",
    "\n",
    "\n",
    "class CoinChanger(object):\n",
    "\n",
    "    def make_change(self, coins, total):\n",
    "        if coins is None or total is None:\n",
    "            raise TypeError('coins or total cannot be None')\n",
    "        if not coins or total == 0:\n",
    "            return 0\n",
    "        cache = {}\n",
    "        return self._make_change(coins, total, cache)\n",
    "\n",
    "    def _make_change(self, coins, total, cache):\n",
    "        if total == 0:\n",
    "            return 0\n",
    "        if total in cache:\n",
    "            return cache[total]\n",
    "        min_ways = sys.maxsize\n",
    "        for coin in coins:\n",
    "            if total - coin < 0:\n",
    "                continue\n",
    "            ways = self._make_change(coins, total - coin, cache)\n",
    "            if ways < min_ways:\n",
    "                min_ways = ways\n",
    "        cache[total] = min_ways + 1\n",
    "        return cache[total]"
   ]
  },
  {
   "cell_type": "markdown",
   "metadata": {},
   "source": [
    "## Unit Test"
   ]
  },
  {
   "cell_type": "code",
   "execution_count": 2,
   "metadata": {
    "collapsed": false
   },
   "outputs": [
    {
     "name": "stdout",
     "output_type": "stream",
     "text": [
      "Overwriting test_coin_change_min.py\n"
     ]
    }
   ],
   "source": [
    "%%writefile test_coin_change_min.py\n",
    "from nose.tools import assert_equal, assert_raises\n",
    "\n",
    "\n",
    "class TestCoinChange(object):\n",
    "\n",
    "    def test_coin_change(self):\n",
    "        coin_changer = CoinChanger()\n",
    "        assert_raises(TypeError, coin_changer.make_change, None, None)\n",
    "        assert_equal(coin_changer.make_change([], 0), 0)\n",
    "        assert_equal(coin_changer.make_change([1, 2, 3], 5), 2)\n",
    "        assert_equal(coin_changer.make_change([3, 2, 1], 5), 2)\n",
    "        assert_equal(coin_changer.make_change([3, 2, 1], 8), 3)\n",
    "        print('Success: test_coin_change')\n",
    "\n",
    "\n",
    "def main():\n",
    "    test = TestCoinChange()\n",
    "    test.test_coin_change()\n",
    "\n",
    "\n",
    "if __name__ == '__main__':\n",
    "    main()"
   ]
  },
  {
   "cell_type": "code",
   "execution_count": 3,
   "metadata": {
    "collapsed": false
   },
   "outputs": [
    {
     "name": "stdout",
     "output_type": "stream",
     "text": [
      "Success: test_coin_change\n"
     ]
    }
   ],
   "source": [
    "%run -i test_coin_change_min.py"
   ]
  }
 ],
 "metadata": {
  "kernelspec": {
   "display_name": "Python 3",
   "language": "python",
   "name": "python3"
  },
  "language_info": {
   "codemirror_mode": {
    "name": "ipython",
    "version": 3
   },
   "file_extension": ".py",
   "mimetype": "text/x-python",
   "name": "python",
   "nbconvert_exporter": "python",
   "pygments_lexer": "ipython3",
   "version": "3.4.3"
  }
 },
 "nbformat": 4,
 "nbformat_minor": 0
}
