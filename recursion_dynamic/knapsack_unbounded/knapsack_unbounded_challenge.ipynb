{
 "cells": [
  {
   "cell_type": "markdown",
   "metadata": {},
   "source": [
    "This notebook was prepared by [Donne Martin](https://github.com/donnemartin). Source and license info is on [GitHub](https://github.com/donnemartin/interactive-coding-challenges)."
   ]
  },
  {
   "cell_type": "markdown",
   "metadata": {},
   "source": [
    "# Challenge Notebook"
   ]
  },
  {
   "cell_type": "markdown",
   "metadata": {},
   "source": [
    "## Problem: Given a knapsack with a total weight capacity and a list of items with weight w(i) and value v(i), determine the max total value you can carry.\n",
    "\n",
    "* [Constraints](#Constraints)\n",
    "* [Test Cases](#Test-Cases)\n",
    "* [Algorithm](#Algorithm)\n",
    "* [Code](#Code)\n",
    "* [Unit Test](#Unit-Test)\n",
    "* [Solution Notebook](#Solution-Notebook)"
   ]
  },
  {
   "cell_type": "markdown",
   "metadata": {},
   "source": [
    "## Constraints\n",
    "\n",
    "* Can we replace the items once they are placed in the knapsack?\n",
    "    * Yes, this is the unbounded knapsack problem\n",
    "* Can we split an item?\n",
    "    * No\n",
    "* Can we get an input item with weight of 0 or value of 0?\n",
    "    * No\n",
    "* Do we need to return the items that make up the max total value?\n",
    "    * No, just the total value\n",
    "* Can we assume the inputs are valid?\n",
    "    * No\n",
    "* Are the inputs in sorted order by val/weight?\n",
    "    * Yes\n",
    "* Can we assume this fits memory?\n",
    "    * Yes"
   ]
  },
  {
   "cell_type": "markdown",
   "metadata": {},
   "source": [
    "## Test Cases\n",
    "\n",
    "* items or total weight is None -> Exception\n",
    "* items or total weight is 0 -> 0\n",
    "* General case\n",
    "\n",
    "<pre>\n",
    "total_weight = 8\n",
    "items\n",
    "  v | w\n",
    "  0 | 0\n",
    "a 1 | 1\n",
    "b 3 | 2\n",
    "c 7 | 4\n",
    "\n",
    "max value = 14 \n",
    "</pre>"
   ]
  },
  {
   "cell_type": "markdown",
   "metadata": {},
   "source": [
    "## Algorithm\n",
    "\n",
    "Refer to the [Solution Notebook]().  If you are stuck and need a hint, the solution notebook's algorithm discussion might be a good place to start."
   ]
  },
  {
   "cell_type": "markdown",
   "metadata": {},
   "source": [
    "## Code"
   ]
  },
  {
   "cell_type": "code",
   "execution_count": null,
   "metadata": {
    "collapsed": true
   },
   "outputs": [],
   "source": [
    "class Item(object):\n",
    "\n",
    "    def __init__(self, label, value, weight):\n",
    "        self.label = label\n",
    "        self.value = value\n",
    "        self.weight = weight\n",
    "\n",
    "    def __repr__(self):\n",
    "        return self.label + ' v:' + str(self.value) + ' w:' + str(self.weight)"
   ]
  },
  {
   "cell_type": "code",
   "execution_count": null,
   "metadata": {
    "collapsed": false
   },
   "outputs": [],
   "source": [
    "class Knapsack(object):\n",
    "\n",
    "    def fill_knapsack(self, input_items, total_weight):\n",
    "        # TODO: Implement me\n",
    "        pass"
   ]
  },
  {
   "cell_type": "markdown",
   "metadata": {},
   "source": [
    "## Unit Test"
   ]
  },
  {
   "cell_type": "markdown",
   "metadata": {},
   "source": [
    "**The following unit test is expected to fail until you solve the challenge.**"
   ]
  },
  {
   "cell_type": "code",
   "execution_count": null,
   "metadata": {
    "collapsed": false
   },
   "outputs": [],
   "source": [
    "# %load test_knapsack_unbounded.py\n",
    "from nose.tools import assert_equal, assert_raises\n",
    "\n",
    "\n",
    "class TestKnapsack(object):\n",
    "\n",
    "    def test_knapsack(self):\n",
    "        knapsack = Knapsack()\n",
    "        assert_raises(TypeError, knapsack.fill_knapsack, None, None)\n",
    "        assert_equal(knapsack.fill_knapsack(0, 0), 0)\n",
    "        items = []\n",
    "        items.append(Item(label='a', value=1, weight=1))\n",
    "        items.append(Item(label='b', value=3, weight=2))\n",
    "        items.append(Item(label='c', value=7, weight=4))\n",
    "        total_weight = 8\n",
    "        expected_value = 14\n",
    "        results = knapsack.fill_knapsack(items, total_weight)\n",
    "        total_weight = 7\n",
    "        expected_value = 11\n",
    "        results = knapsack.fill_knapsack(items, total_weight)\n",
    "        assert_equal(results, expected_value)\n",
    "        print('Success: test_knapsack')\n",
    "\n",
    "def main():\n",
    "    test = TestKnapsack()\n",
    "    test.test_knapsack()\n",
    "\n",
    "\n",
    "if __name__ == '__main__':\n",
    "    main()"
   ]
  },
  {
   "cell_type": "markdown",
   "metadata": {},
   "source": [
    "## Solution Notebook\n",
    "\n",
    "Review the [Solution Notebook]() for a discussion on algorithms and code solutions."
   ]
  }
 ],
 "metadata": {
  "kernelspec": {
   "display_name": "Python 3",
   "language": "python",
   "name": "python3"
  },
  "language_info": {
   "codemirror_mode": {
    "name": "ipython",
    "version": 3
   },
   "file_extension": ".py",
   "mimetype": "text/x-python",
   "name": "python",
   "nbconvert_exporter": "python",
   "pygments_lexer": "ipython3",
   "version": "3.5.0"
  }
 },
 "nbformat": 4,
 "nbformat_minor": 0
}
