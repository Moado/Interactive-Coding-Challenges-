{
 "cells": [
  {
   "cell_type": "markdown",
   "metadata": {},
   "source": [
    "This notebook was prepared by [Donne Martin](https://github.com/donnemartin). Source and license info is on [GitHub](https://github.com/donnemartin/interactive-coding-challenges)."
   ]
  },
  {
   "cell_type": "markdown",
   "metadata": {},
   "source": [
    "# Challenge Notebook"
   ]
  },
  {
   "cell_type": "markdown",
   "metadata": {},
   "source": [
    "## Problem: Return all subsets of a set.\n",
    "\n",
    "* [Constraints](#Constraints)\n",
    "* [Test Cases](#Test-Cases)\n",
    "* [Algorithm](#Algorithm)\n",
    "* [Code](#Code)\n",
    "* [Unit Test](#Unit-Test)\n",
    "* [Solution Notebook](#Solution-Notebook)"
   ]
  },
  {
   "cell_type": "markdown",
   "metadata": {},
   "source": [
    "## Constraints\n",
    "\n",
    "* Should the resulting subsets be unique?\n",
    "    * Yes, treat 'ab' and 'bc' as the same\n",
    "* Is the empty set included as a subset?\n",
    "    * Yes\n",
    "* Are the inputs unique?\n",
    "    * No\n",
    "* Can we assume the inputs are valid?\n",
    "    * No\n",
    "* Can we assume this fits memory?\n",
    "    * Yes"
   ]
  },
  {
   "cell_type": "markdown",
   "metadata": {},
   "source": [
    "## Test Cases\n",
    "\n",
    "<pre>\n",
    "* None -> None\n",
    "* [] -> [[]]\n",
    "* ['a'] -> [[], \n",
    "            ['a']]\n",
    "* ['a', 'b'] -> [[], \n",
    "                 ['a'], \n",
    "                 ['b'], \n",
    "                 ['a', 'b']]\n",
    "* ['a', 'b', 'c'] -> [[], \n",
    "                      ['a'], \n",
    "                      ['b'], \n",
    "                      ['c'],\n",
    "                      ['a', 'b'], \n",
    "                      ['a', 'c'], \n",
    "                      ['b', 'c'],\n",
    "                      ['a', 'b', 'c']]\n",
    "</pre>"
   ]
  },
  {
   "cell_type": "markdown",
   "metadata": {},
   "source": [
    "## Algorithm\n",
    "\n",
    "Refer to the [Solution Notebook]().  If you are stuck and need a hint, the solution notebook's algorithm discussion might be a good place to start."
   ]
  },
  {
   "cell_type": "markdown",
   "metadata": {},
   "source": [
    "## Code"
   ]
  },
  {
   "cell_type": "code",
   "execution_count": null,
   "metadata": {
    "collapsed": false
   },
   "outputs": [],
   "source": [
    "class Sets(object):\n",
    "\n",
    "    def find_power_set_recursive(self, input_set):\n",
    "        # TODO: Implement me\n",
    "        pass\n",
    "\n",
    "    def find_power_set_iterative(self, input_set):\n",
    "        # TODO: Implement me\n",
    "        pass"
   ]
  },
  {
   "cell_type": "markdown",
   "metadata": {},
   "source": [
    "## Unit Test"
   ]
  },
  {
   "cell_type": "markdown",
   "metadata": {},
   "source": [
    "**The following unit test is expected to fail until you solve the challenge.**"
   ]
  },
  {
   "cell_type": "code",
   "execution_count": null,
   "metadata": {
    "collapsed": false
   },
   "outputs": [],
   "source": [
    "# %load test_power_set.py\n",
    "from nose.tools import assert_equal\n",
    "\n",
    "\n",
    "class TestPowerSet(object):\n",
    "\n",
    "    def test_power_set(self):\n",
    "        input_set = []\n",
    "        expected = [[]]\n",
    "        self.run_test(input_set, expected)\n",
    "        input_set = ['a']\n",
    "        expected = [['a'], []]\n",
    "        self.run_test(input_set, expected)\n",
    "        input_set = ['a', 'b']\n",
    "        expected = [['a'], ['a', 'b'], ['b'], []]\n",
    "        self.run_test(input_set, expected)\n",
    "        input_set = ['a', 'b', 'c']\n",
    "        expected = [['a'], ['a', 'b'], ['b'], ['a', 'c'], \n",
    "                    ['a', 'b', 'c'], ['b', 'c'], ['c'], []]\n",
    "        self.run_test(input_set, expected)\n",
    "        print('Success: test_power_set')\n",
    "\n",
    "    def run_test(self, input_set, expected):\n",
    "        combinatoric = Combinatoric()\n",
    "        result = combinatoric.find_power_set_recursive(input_set)\n",
    "        assert_equal(result, expected)\n",
    "        result = combinatoric.find_power_set_iterative(input_set)\n",
    "        assert_equal(result, expected)\n",
    "\n",
    "\n",
    "def main():\n",
    "    test = TestPowerSet()\n",
    "    test.test_power_set()\n",
    "\n",
    "\n",
    "if __name__ == '__main__':\n",
    "    main()"
   ]
  },
  {
   "cell_type": "markdown",
   "metadata": {},
   "source": [
    "## Solution Notebook\n",
    "\n",
    "Review the [Solution Notebook]() for a discussion on algorithms and code solutions."
   ]
  }
 ],
 "metadata": {
  "kernelspec": {
   "display_name": "Python 3",
   "language": "python",
   "name": "python3"
  },
  "language_info": {
   "codemirror_mode": {
    "name": "ipython",
    "version": 3
   },
   "file_extension": ".py",
   "mimetype": "text/x-python",
   "name": "python",
   "nbconvert_exporter": "python",
   "pygments_lexer": "ipython3",
   "version": "3.5.0"
  }
 },
 "nbformat": 4,
 "nbformat_minor": 0
}
