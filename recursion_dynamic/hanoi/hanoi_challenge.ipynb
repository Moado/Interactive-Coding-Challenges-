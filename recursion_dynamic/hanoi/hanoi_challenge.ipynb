{
 "cells": [
  {
   "cell_type": "markdown",
   "metadata": {},
   "source": [
    "This notebook was prepared by [Donne Martin](http://donnemartin.com). Source and license info is on [GitHub](https://github.com/donnemartin/interactive-coding-challenges)."
   ]
  },
  {
   "cell_type": "markdown",
   "metadata": {},
   "source": [
    "# Challenge Notebook"
   ]
  },
  {
   "cell_type": "markdown",
   "metadata": {},
   "source": [
    "## Problem: Implement the [Towers of Hanoi](http://en.wikipedia.org/wiki/Tower_of_Hanoi) with 3 towers and N disks.\n",
    "\n",
    "* [Constraints](#Constraints)\n",
    "* [Test Cases](#Test-Cases)\n",
    "* [Algorithm](#Algorithm)\n",
    "* [Code](#Code)\n",
    "* [Unit Test](#Unit-Test)\n",
    "* [Solution Notebook](#Solution-Notebook)"
   ]
  },
  {
   "cell_type": "markdown",
   "metadata": {},
   "source": [
    "## Constraints\n",
    "\n",
    "* Can we assume we already have a stack class that can be used for this problem?\n",
    "    * Yes\n",
    "* Can we assume the inputs are valid?\n",
    "    * No\n",
    "* Can we assume this fits memory?\n",
    "    * Yes"
   ]
  },
  {
   "cell_type": "markdown",
   "metadata": {},
   "source": [
    "## Test Cases\n",
    "\n",
    "* None tower(s) -> Exception\n",
    "* 0 disks -> None\n",
    "* 1 disk\n",
    "* 2 or more disks"
   ]
  },
  {
   "cell_type": "markdown",
   "metadata": {},
   "source": [
    "## Algorithm\n",
    "\n",
    "Refer to the [Solution Notebook](http://nbviewer.ipython.org/github/donnemartin/interactive-coding-challenges/blob/master/stacks_queues/hanoi/hanoi_solution.ipynb).  If you are stuck and need a hint, the solution notebook's algorithm discussion might be a good place to start."
   ]
  },
  {
   "cell_type": "markdown",
   "metadata": {},
   "source": [
    "## Code"
   ]
  },
  {
   "cell_type": "code",
   "execution_count": null,
   "metadata": {
    "collapsed": false
   },
   "outputs": [],
   "source": [
    "%run ../../stacks_queues/stack/stack.py\n",
    "%load ../../stacks_queues/stack/stack.py"
   ]
  },
  {
   "cell_type": "code",
   "execution_count": null,
   "metadata": {
    "collapsed": false
   },
   "outputs": [],
   "source": [
    "class Hanoi(object):\n",
    "\n",
    "    def move_disks(self, num_disks, src, dest, buff):\n",
    "        # TODO: Implement me\n",
    "        pass"
   ]
  },
  {
   "cell_type": "markdown",
   "metadata": {},
   "source": [
    "## Unit Test\n",
    "\n",
    "\n",
    "\n",
    "**The following unit test is expected to fail until you solve the challenge.**"
   ]
  },
  {
   "cell_type": "code",
   "execution_count": null,
   "metadata": {
    "collapsed": false
   },
   "outputs": [],
   "source": [
    "# %load test_hanoi.py\n",
    "from nose.tools import assert_equal, assert_raises\n",
    "\n",
    "\n",
    "class TestHanoi(object):\n",
    "\n",
    "    def test_hanoi(self):\n",
    "        hanoi = Hanoi()\n",
    "        num_disks = 3\n",
    "        src = Stack()\n",
    "        buff = Stack()\n",
    "        dest = Stack()\n",
    "\n",
    "        print('Test: None towers')\n",
    "        assert_raises(TypeError, hanoi.move_disks, num_disks, None, None, None)\n",
    "\n",
    "        print('Test: 0 disks')\n",
    "        hanoi.move_disks(num_disks, src, dest, buff)\n",
    "        assert_equal(dest.pop(), None)\n",
    "\n",
    "        print('Test: 1 disk')\n",
    "        src.push(5)\n",
    "        hanoi.move_disks(num_disks, src, dest, buff)\n",
    "        assert_equal(dest.pop(), 5)\n",
    "\n",
    "        print('Test: 2 or more disks')\n",
    "        for disk_index in range(num_disks, -1, -1):\n",
    "            src.push(disk_index)\n",
    "        hanoi.move_disks(num_disks, src, dest, buff)\n",
    "        for disk_index in range(0, num_disks):\n",
    "            assert_equal(dest.pop(), disk_index)\n",
    "\n",
    "        print('Success: test_hanoi')\n",
    "\n",
    "\n",
    "def main():\n",
    "    test = TestHanoi()\n",
    "    test.test_hanoi()\n",
    "\n",
    "\n",
    "if __name__ == '__main__':\n",
    "    main()"
   ]
  },
  {
   "cell_type": "markdown",
   "metadata": {},
   "source": [
    "## Solution Notebook\n",
    "\n",
    "Review the [Solution Notebook](http://nbviewer.ipython.org/github/donnemartin/interactive-coding-challenges/blob/master/stacks_queues/hanoi/hanoi_solution.ipynb) for a discussion on algorithms and code solutions."
   ]
  }
 ],
 "metadata": {
  "kernelspec": {
   "display_name": "Python 3",
   "language": "python",
   "name": "python3"
  },
  "language_info": {
   "codemirror_mode": {
    "name": "ipython",
    "version": 3
   },
   "file_extension": ".py",
   "mimetype": "text/x-python",
   "name": "python",
   "nbconvert_exporter": "python",
   "pygments_lexer": "ipython3",
   "version": "3.5.0"
  }
 },
 "nbformat": 4,
 "nbformat_minor": 0
}
