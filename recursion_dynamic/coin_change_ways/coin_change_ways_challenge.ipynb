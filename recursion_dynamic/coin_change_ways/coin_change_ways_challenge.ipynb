{
 "cells": [
  {
   "cell_type": "markdown",
   "metadata": {},
   "source": [
    "This notebook was prepared by [mrb00l34n](http://github.com/mrb00l34n). Source and license info is on [GitHub](https://github.com/donnemartin/interactive-coding-challenges)."
   ]
  },
  {
   "cell_type": "markdown",
   "metadata": {},
   "source": [
    "# Challenge Notebook"
   ]
  },
  {
   "cell_type": "markdown",
   "metadata": {},
   "source": [
    "## Problem: Counting Ways of Making Change.\n",
    "\n",
    "* [Explanation](#Explanation)\n",
    "* [Test Cases](#Test-Cases)\n",
    "* [Algorithm](#Algorithm)\n",
    "* [Code](#Code)\n",
    "* [Unit Test](#Unit-Test)\n",
    "* [Solution Notebook](#Solution-Notebook)"
   ]
  },
  {
   "cell_type": "markdown",
   "metadata": {},
   "source": [
    "## Explanation\n",
    "\n",
    "How many ways are there of making change for n, given an array of distinct coins? For example:\n",
    "\n",
    "Input: n = 4, coins = [1, 2]\n",
    "\n",
    "Output: 3. 1+1+1+1, 1+2+1, 2+2, would be the ways of making change.\n",
    "\n",
    "Note that a coin can be used any number of times, and we are counting unique combinations."
   ]
  },
  {
   "cell_type": "markdown",
   "metadata": {},
   "source": [
    "## Test Cases\n",
    "\n",
    "* Input: n = 0, coins = [1, 2] -> Output: 0\n",
    "* Input: n = 100, coins = [1, 2, 3] -> Output: 884\n",
    "* Input: n = 1000, coins = [1, 2, 3...99, 100] -> Output: 15658181104580771094597751280645\n"
   ]
  },
  {
   "cell_type": "markdown",
   "metadata": {},
   "source": [
    "## Algorithm\n",
    "\n",
    "Refer to the [Solution Notebook](http://nbviewer.ipython.org/github/donnemartin/interactive-coding-challenges/blob/master/recursion_dynamic/coin_change_ways/coin_change_ways_solution.ipynb).  If you are stuck and need a hint, the solution notebook's algorithm discussion might be a good place to start."
   ]
  },
  {
   "cell_type": "markdown",
   "metadata": {},
   "source": [
    "## Code"
   ]
  },
  {
   "cell_type": "code",
   "execution_count": null,
   "metadata": {
    "collapsed": false
   },
   "outputs": [],
   "source": [
    "def change_ways(n, coins):\n",
    "    # TODO: Implement me\n",
    "    return n"
   ]
  },
  {
   "cell_type": "markdown",
   "metadata": {},
   "source": [
    "## Unit Test\n",
    "\n",
    "\n",
    "\n",
    "**The following unit test is expected to fail until you solve the challenge.**"
   ]
  },
  {
   "cell_type": "code",
   "execution_count": null,
   "metadata": {
    "collapsed": false
   },
   "outputs": [],
   "source": [
    "# %load test_coin_change_ways.py\n",
    "from nose.tools import assert_equal\n",
    "\n",
    "\n",
    "class Challenge(object):\n",
    "\n",
    "    def test_coin_change_ways(self,solution):\n",
    "        assert_equal(solution(0, [1, 2]), 0)\n",
    "        assert_equal(solution(100, [1, 2, 3]), 884)\n",
    "        assert_equal(solution(1000, range(1, 101)), \n",
    "                     15658181104580771094597751280645)\n",
    "        print('Success: test_coin_change_ways')\n",
    "\n",
    "\n",
    "def main():\n",
    "    test = Challenge()\n",
    "    test.test_coin_change_ways(change_ways)\n",
    "\n",
    "\n",
    "if __name__ == '__main__':\n",
    "    main()"
   ]
  },
  {
   "cell_type": "markdown",
   "metadata": {},
   "source": [
    "## Solution Notebook\n",
    "\n",
    "Review the [Solution Notebook](http://nbviewer.ipython.org/github/donnemartin/interactive-coding-challenges/blob/master/recursion_dynamic/coin_change_ways/coin_change_ways_solution.ipynb) for a discussion on algorithms and code solutions."
   ]
  }
 ],
 "metadata": {
  "kernelspec": {
   "display_name": "Python 3",
   "language": "python",
   "name": "python3"
  },
  "language_info": {
   "codemirror_mode": {
    "name": "ipython",
    "version": 3
   },
   "file_extension": ".py",
   "mimetype": "text/x-python",
   "name": "python",
   "nbconvert_exporter": "python",
   "pygments_lexer": "ipython3",
   "version": "3.5.0"
  }
 },
 "nbformat": 4,
 "nbformat_minor": 0
}
