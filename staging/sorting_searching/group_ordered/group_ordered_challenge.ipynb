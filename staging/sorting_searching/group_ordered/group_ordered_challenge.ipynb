{
 "cells": [
  {
   "cell_type": "markdown",
   "metadata": {},
   "source": [
    "This notebook was prepared by [wdonahoe](https://github.com/wdonahoe). Source and license info is on [GitHub](https://github.com/donnemartin/interactive-coding-challenges)."
   ]
  },
  {
   "cell_type": "markdown",
   "metadata": {},
   "source": [
    "# Challenge Notebook"
   ]
  },
  {
   "cell_type": "markdown",
   "metadata": {},
   "source": [
    "## Problem: Implement a function that groups identical items based on their order in the list.\n",
    "\n",
    "* [Constraints](#Constraints)\n",
    "* [Test Cases](#Test-Cases)\n",
    "* [Algorithm](#Algorithm)\n",
    "* [Code](#Code)\n",
    "* [Unit Test](#Unit-Test)\n",
    "* [Solution Notebook](#Solution-Notebook)"
   ]
  },
  {
   "cell_type": "markdown",
   "metadata": {},
   "source": [
    "## Constraints\n",
    "\n",
    "* Can we use extra data structures?\n",
    "    * Yes"
   ]
  },
  {
   "cell_type": "markdown",
   "metadata": {},
   "source": [
    "## Test Cases\n",
    "\n",
    "* group_ordered([1,2,1,3,2])     ->     [1,1,2,2,3]\n",
    "* group_ordered(['a','b','a')    ->     ['a','a','b']\n",
    "* group_ordered([1,1,2,3,4,5,2,1]->     [1,1,1,2,2,3,4,5]\n",
    "* group_ordered([])              ->     []\n",
    "* group_ordered([1])             ->     [1]\n",
    "* group_ordered(None)            ->     None"
   ]
  },
  {
   "cell_type": "markdown",
   "metadata": {},
   "source": [
    "## Algorithm\n",
    "\n",
    "Refer to the [solution notebook](https://github.com/donnemartin/interactive-coding-challenges/templates/foo_solution.ipynb).  If you are stuck and need a hint, the solution notebook's algorithm discussion might be a good place to start."
   ]
  },
  {
   "cell_type": "markdown",
   "metadata": {},
   "source": [
    "## Code"
   ]
  },
  {
   "cell_type": "code",
   "execution_count": null,
   "metadata": {
    "collapsed": false
   },
   "outputs": [],
   "source": [
    "def group_ordered(list_in):\n",
    "    # TODO: Implement me\n",
    "    pass"
   ]
  },
  {
   "cell_type": "markdown",
   "metadata": {},
   "source": [
    "## Unit Test"
   ]
  },
  {
   "cell_type": "markdown",
   "metadata": {},
   "source": [
    "**The following unit test is expected to fail until you solve the challenge.**"
   ]
  },
  {
   "cell_type": "code",
   "execution_count": null,
   "metadata": {
    "collapsed": false
   },
   "outputs": [],
   "source": [
    "# %load test_group_ordered.py\n",
    "from nose.tools import assert_equal\n",
    "\n",
    "\n",
    "class TestGroupOrdered(object):\n",
    "    def test_group_ordered(self, func):\n",
    "\n",
    "        assert_equal(func(None), None)\n",
    "        print('Success: ' + func.__name__ + \" None case.\")\n",
    "        assert_equal(func([]), [])\n",
    "        print('Success: ' + func.__name__ + \" Empty case.\")\n",
    "        assert_equal(func([1]), [1])\n",
    "        print('Success: ' + func.__name__ + \" Single element case.\")\n",
    "        assert_equal(func([1, 2, 1, 3, 2]), [1, 1, 2, 2, 3])\n",
    "        assert_equal(func(['a', 'b', 'a']), ['a', 'a', 'b'])\n",
    "        assert_equal(func([1, 1, 2, 3, 4, 5, 2, 1]), [1, 1, 1, 2, 2, 3, 4, 5])\n",
    "        assert_equal(func([1, 2, 3, 4, 3, 4]), [1, 2, 3, 3, 4, 4])\n",
    "        print('Success: ' + func.__name__)\n",
    "\n",
    "\n",
    "def main():\n",
    "    test = TestGroupOrdered()\n",
    "    test.test_group_ordered(group_ordered)\n",
    "    try:\n",
    "        test.test_group_ordered(group_ordered_alt)\n",
    "    except NameError:\n",
    "        # Alternate solutions are only defined\n",
    "        # in the solutions file\n",
    "        pass\n",
    "\n",
    "if __name__ == '__main__':\n",
    "    main()\n"
   ]
  },
  {
   "cell_type": "markdown",
   "metadata": {},
   "source": [
    "## Solution Notebook\n",
    "\n",
    "Review the [solution notebook](https://github.com/donnemartin/interactive-coding-challenges/sorting_searching/group_ordered/group_ordered_solution.ipynb) for a discussion on algorithms and code solutions."
   ]
  }
 ],
 "metadata": {
  "kernelspec": {
   "display_name": "Python 2",
   "language": "python",
   "name": "python2"
  },
  "language_info": {
   "codemirror_mode": {
    "name": "ipython",
    "version": 2
   },
   "file_extension": ".py",
   "mimetype": "text/x-python",
   "name": "python",
   "nbconvert_exporter": "python",
   "pygments_lexer": "ipython2",
   "version": "2.7.6"
  }
 },
 "nbformat": 4,
 "nbformat_minor": 0
}
