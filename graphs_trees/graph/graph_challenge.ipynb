{
 "cells": [
  {
   "cell_type": "markdown",
   "metadata": {},
   "source": [
    "This notebook was prepared by [Donne Martin](https://github.com/donnemartin). Source and license info is on [GitHub](https://github.com/donnemartin/interactive-coding-challenges)."
   ]
  },
  {
   "cell_type": "markdown",
   "metadata": {},
   "source": [
    "# Challenge Notebook"
   ]
  },
  {
   "cell_type": "markdown",
   "metadata": {},
   "source": [
    "## Problem: Implement a graph.\n",
    "\n",
    "* [Constraints](#Constraints)\n",
    "* [Test Cases](#Test-Cases)\n",
    "* [Algorithm](#Algorithm)\n",
    "* [Code](#Code)\n",
    "* [Unit Test](#Unit-Test)\n",
    "* [Solution Notebook](#Solution-Notebook)"
   ]
  },
  {
   "cell_type": "markdown",
   "metadata": {},
   "source": [
    "## Constraints\n",
    "\n",
    "* Is the graph directed?\n",
    "    * Implement both\n",
    "* Do the edges have weights?\n",
    "    * Yes\n",
    "* Can the graph have cycles?\n",
    "    * Yes\n",
    "* If we try to add a node that already exists, do we just do nothing?\n",
    "    * Yes\n",
    "* If we try to delete a node that doesn't exist, do we just do nothing?\n",
    "    * Yes\n",
    "* Can we assume this is a connected graph?\n",
    "    * Yes\n",
    "* Can we assume the inputs are valid?\n",
    "    * Yes\n",
    "* Can we assume this fits memory?\n",
    "    * Yes"
   ]
  },
  {
   "cell_type": "markdown",
   "metadata": {},
   "source": [
    "## Test Cases\n",
    "\n",
    "Input:\n",
    "* `add_edge(source, destination, weight)`\n",
    "\n",
    "```\n",
    "graph.add_edge(0, 1, 5)\n",
    "graph.add_edge(0, 5, 2)\n",
    "graph.add_edge(1, 2, 3)\n",
    "graph.add_edge(2, 3, 4)\n",
    "graph.add_edge(3, 4, 5)\n",
    "graph.add_edge(3, 5, 6)\n",
    "graph.add_edge(4, 0, 7)\n",
    "graph.add_edge(5, 4, 8)\n",
    "graph.add_edge(5, 2, 9)\n",
    "```\n",
    "\n",
    "Result:\n",
    "* `source` and `destination` nodes within `graph` are connected with specified `weight`.\n",
    "\n",
    "Note: \n",
    "* The Graph class will be used as a building block for more complex graph challenges."
   ]
  },
  {
   "cell_type": "markdown",
   "metadata": {},
   "source": [
    "## Algorithm\n",
    "\n",
    "Refer to the [Solution Notebook](http://nbviewer.jupyter.org/github/donnemartin/interactive-coding-challenges/blob/master/graphs_trees/graph/graph_solution.ipynb).  If you are stuck and need a hint, the solution notebook's algorithm discussion might be a good place to start."
   ]
  },
  {
   "cell_type": "markdown",
   "metadata": {},
   "source": [
    "## Code"
   ]
  },
  {
   "cell_type": "code",
   "execution_count": null,
   "metadata": {},
   "outputs": [],
   "source": [
    "from enum import Enum  # Python 2 users: Run pip install enum34\n",
    "\n",
    "\n",
    "class State(Enum):\n",
    "\n",
    "    unvisited = 0\n",
    "    visiting = 1\n",
    "    visited = 2\n",
    "\n",
    "\n",
    "class Node:\n",
    "\n",
    "    def __init__(self, key):\n",
    "        self.key = key\n",
    "        self.visit_state = State.unvisited\n",
    "        self.incoming_edges = 0\n",
    "        self.adj_nodes = {}  # Key = key, val = Node\n",
    "        self.adj_weights = {}  # Key = key, val = weight\n",
    "\n",
    "    def __repr__(self):\n",
    "        return str(self.key)\n",
    "\n",
    "    def __lt__(self, other):\n",
    "        return self.key < other.key\n",
    "\n",
    "    def add_neighbor(self, neighbor, weight=0):\n",
    "        # TODO: Implement me\n",
    "        pass\n",
    "\n",
    "    def remove_neighbor(self, neighbor):\n",
    "        # TODO: Implement me\n",
    "        pass\n",
    "\n",
    "\n",
    "class Graph:\n",
    "\n",
    "    def __init__(self):\n",
    "        self.nodes = {}  # Key = key, val = Node\n",
    "\n",
    "    def add_node(self, id):\n",
    "        # TODO: Implement me\n",
    "        pass\n",
    "\n",
    "    def add_edge(self, source, dest, weight=0):\n",
    "        # TODO: Implement me\n",
    "        pass\n",
    "\n",
    "    def add_undirected_edge(self, source, dest, weight=0):\n",
    "        # TODO: Implement me\n",
    "        pass"
   ]
  },
  {
   "cell_type": "markdown",
   "metadata": {},
   "source": [
    "## Unit Test"
   ]
  },
  {
   "cell_type": "markdown",
   "metadata": {},
   "source": [
    "**The following unit test is expected to fail until you solve the challenge.**"
   ]
  },
  {
   "cell_type": "code",
   "execution_count": null,
   "metadata": {},
   "outputs": [],
   "source": [
    "# %load test_graph.py\n",
    "from nose.tools import assert_equal\n",
    "\n",
    "\n",
    "class TestGraph(object):\n",
    "\n",
    "    def create_graph(self):\n",
    "        graph = Graph()\n",
    "        for key in range(0, 6):\n",
    "            graph.add_node(key)\n",
    "        return graph\n",
    "\n",
    "    def test_graph(self):\n",
    "        graph = self.create_graph()\n",
    "        graph.add_edge(0, 1, weight=5)\n",
    "        graph.add_edge(0, 5, weight=2)\n",
    "        graph.add_edge(1, 2, weight=3)\n",
    "        graph.add_edge(2, 3, weight=4)\n",
    "        graph.add_edge(3, 4, weight=5)\n",
    "        graph.add_edge(3, 5, weight=6)\n",
    "        graph.add_edge(4, 0, weight=7)\n",
    "        graph.add_edge(5, 4, weight=8)\n",
    "        graph.add_edge(5, 2, weight=9)\n",
    "\n",
    "        assert_equal(graph.nodes[0].adj_weights[graph.nodes[1].key], 5)\n",
    "        assert_equal(graph.nodes[0].adj_weights[graph.nodes[5].key], 2)\n",
    "        assert_equal(graph.nodes[1].adj_weights[graph.nodes[2].key], 3)\n",
    "        assert_equal(graph.nodes[2].adj_weights[graph.nodes[3].key], 4)\n",
    "        assert_equal(graph.nodes[3].adj_weights[graph.nodes[4].key], 5)\n",
    "        assert_equal(graph.nodes[3].adj_weights[graph.nodes[5].key], 6)\n",
    "        assert_equal(graph.nodes[4].adj_weights[graph.nodes[0].key], 7)\n",
    "        assert_equal(graph.nodes[5].adj_weights[graph.nodes[4].key], 8)\n",
    "        assert_equal(graph.nodes[5].adj_weights[graph.nodes[2].key], 9)\n",
    "\n",
    "        assert_equal(graph.nodes[0].incoming_edges, 1)\n",
    "        assert_equal(graph.nodes[1].incoming_edges, 1)\n",
    "        assert_equal(graph.nodes[2].incoming_edges, 2)\n",
    "        assert_equal(graph.nodes[3].incoming_edges, 1)\n",
    "        assert_equal(graph.nodes[4].incoming_edges, 2)\n",
    "        assert_equal(graph.nodes[5].incoming_edges, 2)\n",
    "\n",
    "        graph.nodes[0].remove_neighbor(graph.nodes[1])\n",
    "        assert_equal(graph.nodes[1].incoming_edges, 0)\n",
    "        graph.nodes[3].remove_neighbor(graph.nodes[4])\n",
    "        assert_equal(graph.nodes[4].incoming_edges, 1)\n",
    "\n",
    "        assert_equal(graph.nodes[0] < graph.nodes[1], True)\n",
    "\n",
    "        print('Success: test_graph')\n",
    "\n",
    "    def test_graph_undirected(self):\n",
    "        graph = self.create_graph()\n",
    "        graph.add_undirected_edge(0, 1, weight=5)\n",
    "        graph.add_undirected_edge(0, 5, weight=2)\n",
    "        graph.add_undirected_edge(1, 2, weight=3)\n",
    "\n",
    "        assert_equal(graph.nodes[0].adj_weights[graph.nodes[1].key], 5)\n",
    "        assert_equal(graph.nodes[1].adj_weights[graph.nodes[0].key], 5)\n",
    "        assert_equal(graph.nodes[0].adj_weights[graph.nodes[5].key], 2)\n",
    "        assert_equal(graph.nodes[5].adj_weights[graph.nodes[0].key], 2)\n",
    "        assert_equal(graph.nodes[1].adj_weights[graph.nodes[2].key], 3)\n",
    "        assert_equal(graph.nodes[2].adj_weights[graph.nodes[1].key], 3)\n",
    "\n",
    "        print('Success: test_graph_undirected')\n",
    "\n",
    "\n",
    "def main():\n",
    "    test = TestGraph()\n",
    "    test.test_graph()\n",
    "    test.test_graph_undirected()\n",
    "\n",
    "\n",
    "if __name__ == '__main__':\n",
    "    main()"
   ]
  },
  {
   "cell_type": "markdown",
   "metadata": {},
   "source": [
    "## Solution Notebook\n",
    "\n",
    "Review the [Solution Notebook](https://github.com/donnemartin/interactive-coding-challenges/graphs_trees/graphs/graph_solution.ipynb) for a discussion on algorithms and code solutions."
   ]
  }
 ],
 "metadata": {
  "kernelspec": {
   "display_name": "Python 3",
   "language": "python",
   "name": "python3"
  },
  "language_info": {
   "codemirror_mode": {
    "name": "ipython",
    "version": 3
   },
   "file_extension": ".py",
   "mimetype": "text/x-python",
   "name": "python",
   "nbconvert_exporter": "python",
   "pygments_lexer": "ipython3",
   "version": "3.6.4"
  }
 },
 "nbformat": 4,
 "nbformat_minor": 1
}
