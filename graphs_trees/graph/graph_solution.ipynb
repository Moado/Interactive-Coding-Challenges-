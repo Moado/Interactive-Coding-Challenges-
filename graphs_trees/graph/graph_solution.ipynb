{
 "cells": [
  {
   "cell_type": "markdown",
   "metadata": {},
   "source": [
    "This notebook was prepared by [Donne Martin](https://github.com/donnemartin). Source and license info is on [GitHub](https://github.com/donnemartin/interactive-coding-challenges)."
   ]
  },
  {
   "cell_type": "markdown",
   "metadata": {},
   "source": [
    "# Solution Notebook"
   ]
  },
  {
   "cell_type": "markdown",
   "metadata": {},
   "source": [
    "## Problem: Implement a graph.\n",
    "\n",
    "* [Constraints](#Constraints)\n",
    "* [Test Cases](#Test-Cases)\n",
    "* [Algorithm](#Algorithm)\n",
    "* [Code](#Code)\n",
    "* [Unit Test](#Unit-Test)"
   ]
  },
  {
   "cell_type": "markdown",
   "metadata": {},
   "source": [
    "## Constraints\n",
    "\n",
    "* Is the graph directed?\n",
    "    * Implement both\n",
    "* Do the edges have weights?\n",
    "    * Yes\n",
    "* Can the graph have cycles?\n",
    "    * Yes\n",
    "* If we try to add a node that already exists, do we just do nothing?\n",
    "    * Yes\n",
    "* If we try to delete a node that doesn't exist, do we just do nothing?\n",
    "    * Yes\n",
    "* Can we assume this is a connected graph?\n",
    "    * Yes\n",
    "* Can we assume the inputs are valid?\n",
    "    * Yes\n",
    "* Can we assume this fits memory?\n",
    "    * Yes"
   ]
  },
  {
   "cell_type": "markdown",
   "metadata": {},
   "source": [
    "## Test Cases\n",
    "\n",
    "Input:\n",
    "* `add_edge(source, destination, weight)`\n",
    "\n",
    "```\n",
    "graph.add_edge(0, 1, 5)\n",
    "graph.add_edge(0, 5, 2)\n",
    "graph.add_edge(1, 2, 3)\n",
    "graph.add_edge(2, 3, 4)\n",
    "graph.add_edge(3, 4, 5)\n",
    "graph.add_edge(3, 5, 6)\n",
    "graph.add_edge(4, 0, 7)\n",
    "graph.add_edge(5, 4, 8)\n",
    "graph.add_edge(5, 2, 9)\n",
    "```\n",
    "\n",
    "Result:\n",
    "* `source` and `destination` nodes within `graph` are connected with specified `weight`.\n",
    "\n",
    "Note: \n",
    "* The Graph class will be used as a building block for more complex graph challenges."
   ]
  },
  {
   "cell_type": "markdown",
   "metadata": {},
   "source": [
    "## Algorithm\n",
    "\n",
    "### Node\n",
    "\n",
    "Node will keep track of its:\n",
    "* id\n",
    "* visit state\n",
    "* incoming edge count (useful for algorithms such as topological sort)\n",
    "* adjacent nodes and edge weights\n",
    "\n",
    "#### add_neighbor\n",
    "\n",
    "* If the neighbor doesn't already exist as an adjacent node\n",
    "    * Update the adjacent nodes and edge weights\n",
    "    * Increment the neighbor's incoming edge count\n",
    "\n",
    "Complexity:\n",
    "* Time: O(1)\n",
    "* Space: O(1)\n",
    "\n",
    "#### remove_neighbor\n",
    "\n",
    "* If the neighbor exists as an adjacent node\n",
    "    * Decrement the neighbor's incoming edge count\n",
    "    * Remove the neighbor as an adjacent node\n",
    "\n",
    "Complexity:\n",
    "* Time: O(1)\n",
    "* Space: O(1)\n",
    "\n",
    "### Graph\n",
    "\n",
    "Graph will keep track of its:\n",
    "* nodes\n",
    "\n",
    "#### add_node\n",
    "\n",
    "* If node already exists, return it\n",
    "* Create a node with the given id\n",
    "* Add the newly created node to the collection of nodes\n",
    "\n",
    "Complexity:\n",
    "* Time: O(1)\n",
    "* Space: O(1)\n",
    "\n",
    "#### add_edge\n",
    "\n",
    "* If the source node is not in the collection of nodes, add it\n",
    "* If the dest node is not in the collection of nodes, add it\n",
    "* Add a connection from the source node to the dest node with the given edge weight\n",
    "\n",
    "#### add_undirected_edge\n",
    "\n",
    "* Call add_edge\n",
    "* Also add a connection from the dest node to the source node with the given edge weight\n",
    "\n",
    "Complexity:\n",
    "* Time: O(1)\n",
    "* Space: O(1)"
   ]
  },
  {
   "cell_type": "markdown",
   "metadata": {},
   "source": [
    "## Code"
   ]
  },
  {
   "cell_type": "code",
   "execution_count": 1,
   "metadata": {
    "collapsed": false
   },
   "outputs": [
    {
     "name": "stdout",
     "output_type": "stream",
     "text": [
      "Overwriting graph.py\n"
     ]
    }
   ],
   "source": [
    "%%writefile graph.py\n",
    "from enum import Enum  # Python 2 users: Run pip install enum34\n",
    "\n",
    "\n",
    "class State(Enum):\n",
    "\n",
    "    unvisited = 0\n",
    "    visiting = 1\n",
    "    visited = 2\n",
    "\n",
    "\n",
    "class Node:\n",
    "\n",
    "    def __init__(self, key):\n",
    "        self.key = key\n",
    "        self.visit_state = State.unvisited\n",
    "        self.incoming_edges = 0\n",
    "        self.adj_nodes = {}  # Key = key, val = Node\n",
    "        self.adj_weights = {}  # Key = key, val = weight\n",
    "\n",
    "    def __repr__(self):\n",
    "        return str(self.key)\n",
    "\n",
    "    def __lt__(self, other):\n",
    "        return self.key < other.key\n",
    "\n",
    "    def add_neighbor(self, neighbor, weight=0):\n",
    "        if neighbor is None or weight is None:\n",
    "            raise TypeError('neighbor or weight cannot be None')\n",
    "        neighbor.incoming_edges += 1\n",
    "        self.adj_weights[neighbor.key] = weight\n",
    "        self.adj_nodes[neighbor.key] = neighbor\n",
    "\n",
    "    def remove_neighbor(self, neighbor):\n",
    "        if neighbor is None:\n",
    "            raise TypeError('neighbor cannot be None')\n",
    "        if neighbor.key not in self.adj_nodes:\n",
    "            raise KeyError('neighbor not found')\n",
    "        neighbor.incoming_edges -= 1\n",
    "        del self.adj_weights[neighbor.key]\n",
    "        del self.adj_nodes[neighbor.key]\n",
    "\n",
    "\n",
    "class Graph:\n",
    "\n",
    "    def __init__(self):\n",
    "        self.nodes = {}  # Key = key, val = Node\n",
    "\n",
    "    def add_node(self, key):\n",
    "        if key is None:\n",
    "            raise TypeError('key cannot be None')\n",
    "        if key not in self.nodes:\n",
    "            self.nodes[key] = Node(key)\n",
    "        return self.nodes[key]\n",
    "\n",
    "    def add_edge(self, source_key, dest_key, weight=0):\n",
    "        if source_key is None or dest_key is None:\n",
    "            raise KeyError('Invalid key')\n",
    "        if source_key not in self.nodes:\n",
    "            self.add_node(source_key)\n",
    "        if dest_key not in self.nodes:\n",
    "            self.add_node(dest_key)\n",
    "        self.nodes[source_key].add_neighbor(self.nodes[dest_key], weight)\n",
    "\n",
    "    def add_undirected_edge(self, src_key, dst_key, weight=0):\n",
    "        if src_key is None or dst_key is None:\n",
    "            raise TypeError('key cannot be None')\n",
    "        self.add_edge(src_key, dst_key, weight)\n",
    "        self.add_edge(dst_key, src_key, weight)"
   ]
  },
  {
   "cell_type": "code",
   "execution_count": 2,
   "metadata": {
    "collapsed": false
   },
   "outputs": [],
   "source": [
    "%run graph.py"
   ]
  },
  {
   "cell_type": "markdown",
   "metadata": {},
   "source": [
    "## Unit Test"
   ]
  },
  {
   "cell_type": "code",
   "execution_count": 3,
   "metadata": {
    "collapsed": false
   },
   "outputs": [
    {
     "name": "stdout",
     "output_type": "stream",
     "text": [
      "Overwriting test_graph.py\n"
     ]
    }
   ],
   "source": [
    "%%writefile test_graph.py\n",
    "from nose.tools import assert_equal\n",
    "\n",
    "\n",
    "class TestGraph(object):\n",
    "\n",
    "    def create_graph(self):\n",
    "        graph = Graph()\n",
    "        for key in range(0, 6):\n",
    "            graph.add_node(key)\n",
    "        return graph\n",
    "\n",
    "    def test_graph(self):\n",
    "        graph = self.create_graph()\n",
    "        graph.add_edge(0, 1, weight=5)\n",
    "        graph.add_edge(0, 5, weight=2)\n",
    "        graph.add_edge(1, 2, weight=3)\n",
    "        graph.add_edge(2, 3, weight=4)\n",
    "        graph.add_edge(3, 4, weight=5)\n",
    "        graph.add_edge(3, 5, weight=6)\n",
    "        graph.add_edge(4, 0, weight=7)\n",
    "        graph.add_edge(5, 4, weight=8)\n",
    "        graph.add_edge(5, 2, weight=9)\n",
    "\n",
    "        assert_equal(graph.nodes[0].adj_weights[graph.nodes[1].key], 5)\n",
    "        assert_equal(graph.nodes[0].adj_weights[graph.nodes[5].key], 2)\n",
    "        assert_equal(graph.nodes[1].adj_weights[graph.nodes[2].key], 3)\n",
    "        assert_equal(graph.nodes[2].adj_weights[graph.nodes[3].key], 4)\n",
    "        assert_equal(graph.nodes[3].adj_weights[graph.nodes[4].key], 5)\n",
    "        assert_equal(graph.nodes[3].adj_weights[graph.nodes[5].key], 6)\n",
    "        assert_equal(graph.nodes[4].adj_weights[graph.nodes[0].key], 7)\n",
    "        assert_equal(graph.nodes[5].adj_weights[graph.nodes[4].key], 8)\n",
    "        assert_equal(graph.nodes[5].adj_weights[graph.nodes[2].key], 9)\n",
    "\n",
    "        assert_equal(graph.nodes[0].incoming_edges, 1)\n",
    "        assert_equal(graph.nodes[1].incoming_edges, 1)\n",
    "        assert_equal(graph.nodes[2].incoming_edges, 2)\n",
    "        assert_equal(graph.nodes[3].incoming_edges, 1)\n",
    "        assert_equal(graph.nodes[4].incoming_edges, 2)\n",
    "        assert_equal(graph.nodes[5].incoming_edges, 2)\n",
    "\n",
    "        graph.nodes[0].remove_neighbor(graph.nodes[1])\n",
    "        assert_equal(graph.nodes[1].incoming_edges, 0)\n",
    "        graph.nodes[3].remove_neighbor(graph.nodes[4])\n",
    "        assert_equal(graph.nodes[4].incoming_edges, 1)\n",
    "\n",
    "        assert_equal(graph.nodes[0] < graph.nodes[1], True)\n",
    "\n",
    "        print('Success: test_graph')\n",
    "\n",
    "    def test_graph_undirected(self):\n",
    "        graph = self.create_graph()\n",
    "        graph.add_undirected_edge(0, 1, weight=5)\n",
    "        graph.add_undirected_edge(0, 5, weight=2)\n",
    "        graph.add_undirected_edge(1, 2, weight=3)\n",
    "\n",
    "        assert_equal(graph.nodes[0].adj_weights[graph.nodes[1].key], 5)\n",
    "        assert_equal(graph.nodes[1].adj_weights[graph.nodes[0].key], 5)\n",
    "        assert_equal(graph.nodes[0].adj_weights[graph.nodes[5].key], 2)\n",
    "        assert_equal(graph.nodes[5].adj_weights[graph.nodes[0].key], 2)\n",
    "        assert_equal(graph.nodes[1].adj_weights[graph.nodes[2].key], 3)\n",
    "        assert_equal(graph.nodes[2].adj_weights[graph.nodes[1].key], 3)\n",
    "\n",
    "        print('Success: test_graph_undirected')\n",
    "\n",
    "\n",
    "def main():\n",
    "    test = TestGraph()\n",
    "    test.test_graph()\n",
    "    test.test_graph_undirected()\n",
    "\n",
    "\n",
    "if __name__ == '__main__':\n",
    "    main()"
   ]
  },
  {
   "cell_type": "code",
   "execution_count": 4,
   "metadata": {
    "collapsed": false
   },
   "outputs": [
    {
     "name": "stdout",
     "output_type": "stream",
     "text": [
      "Success: test_graph\n",
      "Success: test_graph_undirected\n"
     ]
    }
   ],
   "source": [
    "%run -i test_graph.py"
   ]
  }
 ],
 "metadata": {
  "kernelspec": {
   "display_name": "Python 3",
   "language": "python",
   "name": "python3"
  },
  "language_info": {
   "codemirror_mode": {
    "name": "ipython",
    "version": 3
   },
   "file_extension": ".py",
   "mimetype": "text/x-python",
   "name": "python",
   "nbconvert_exporter": "python",
   "pygments_lexer": "ipython3",
   "version": "3.4.3"
  }
 },
 "nbformat": 4,
 "nbformat_minor": 0
}
