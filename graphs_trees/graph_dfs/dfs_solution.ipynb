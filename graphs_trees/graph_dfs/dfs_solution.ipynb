{
 "cells": [
  {
   "cell_type": "markdown",
   "metadata": {},
   "source": [
    "This notebook was prepared by [Donne Martin](https://github.com/donnemartin). Source and license info is on [GitHub](https://github.com/donnemartin/interactive-coding-challenges)."
   ]
  },
  {
   "cell_type": "markdown",
   "metadata": {},
   "source": [
    "# Solution Notebook"
   ]
  },
  {
   "cell_type": "markdown",
   "metadata": {},
   "source": [
    "## Problem: Implement depth-first search on a graph.\n",
    "\n",
    "* [Constraints](#Constraints)\n",
    "* [Test Cases](#Test-Cases)\n",
    "* [Algorithm](#Algorithm)\n",
    "* [Code](#Code)\n",
    "* [Unit Test](#Unit-Test)"
   ]
  },
  {
   "cell_type": "markdown",
   "metadata": {},
   "source": [
    "## Constraints\n",
    "\n",
    "* Is the graph directed?\n",
    "    * Yes\n",
    "* Can we assume we already have Graph and Node classes?\n",
    "    * Yes\n",
    "* Can we assume this is a connected graph?\n",
    "    * Yes\n",
    "* Can we assume the inputs are valid?\n",
    "    * Yes\n",
    "* Can we assume this fits memory?\n",
    "    * Yes"
   ]
  },
  {
   "cell_type": "markdown",
   "metadata": {},
   "source": [
    "## Test Cases\n",
    "\n",
    "Input:\n",
    "* `add_edge(source, destination, weight)`\n",
    "\n",
    "```\n",
    "graph.add_edge(0, 1, 5)\n",
    "graph.add_edge(0, 4, 3)\n",
    "graph.add_edge(0, 5, 2)\n",
    "graph.add_edge(1, 3, 5)\n",
    "graph.add_edge(1, 4, 4)\n",
    "graph.add_edge(2, 1, 6)\n",
    "graph.add_edge(3, 2, 7)\n",
    "graph.add_edge(3, 4, 8)\n",
    "```\n",
    "\n",
    "Result:\n",
    "* Order of nodes visited: [0, 1, 3, 2, 4, 5]"
   ]
  },
  {
   "cell_type": "markdown",
   "metadata": {},
   "source": [
    "## Algorithm\n",
    "\n",
    "If we want to visit every node in a graph, we generally prefer depth-first search since it is simpler (no need to use a queue).  For shortest path, we generally use breadth-first search.\n",
    "\n",
    "* Visit the current node and mark it visited\n",
    "* Iterate through each adjacent node\n",
    "    * If the node has not been visited, call dfs on it\n",
    "\n",
    "Complexity:\n",
    "* Time: O(V + E), where V = number of vertices and E = number of edges\n",
    "* Space: O(V), for the recursion depth"
   ]
  },
  {
   "cell_type": "markdown",
   "metadata": {},
   "source": [
    "## Code"
   ]
  },
  {
   "cell_type": "code",
   "execution_count": 1,
   "metadata": {
    "collapsed": true
   },
   "outputs": [],
   "source": [
    "%run ../graph/graph.py"
   ]
  },
  {
   "cell_type": "code",
   "execution_count": 2,
   "metadata": {
    "collapsed": false
   },
   "outputs": [],
   "source": [
    "class GraphDfs(Graph):\n",
    "\n",
    "    def dfs(self, root, visit_func):\n",
    "        if root is None:\n",
    "            return\n",
    "        visit_func(root)\n",
    "        root.visit_state = State.visited\n",
    "        for node in root.adj_nodes.values():\n",
    "            if node.visit_state == State.unvisited:\n",
    "                self.dfs(node, visit_func)"
   ]
  },
  {
   "cell_type": "markdown",
   "metadata": {},
   "source": [
    "## Unit Test"
   ]
  },
  {
   "cell_type": "code",
   "execution_count": 3,
   "metadata": {
    "collapsed": true
   },
   "outputs": [],
   "source": [
    "%run ../utils/results.py"
   ]
  },
  {
   "cell_type": "code",
   "execution_count": 4,
   "metadata": {
    "collapsed": false
   },
   "outputs": [
    {
     "name": "stdout",
     "output_type": "stream",
     "text": [
      "Overwriting test_dfs.py\n"
     ]
    }
   ],
   "source": [
    "%%writefile test_dfs.py\n",
    "from nose.tools import assert_equal\n",
    "\n",
    "\n",
    "class TestDfs(object):\n",
    "\n",
    "    def __init__(self):\n",
    "        self.results = Results()\n",
    "\n",
    "    def test_dfs(self):\n",
    "        nodes = []\n",
    "        graph = GraphDfs()\n",
    "        for id in range(0, 6):\n",
    "            nodes.append(graph.add_node(id))\n",
    "        graph.add_edge(0, 1, 5)\n",
    "        graph.add_edge(0, 4, 3)\n",
    "        graph.add_edge(0, 5, 2)\n",
    "        graph.add_edge(1, 3, 5)\n",
    "        graph.add_edge(1, 4, 4)\n",
    "        graph.add_edge(2, 1, 6)\n",
    "        graph.add_edge(3, 2, 7)\n",
    "        graph.add_edge(3, 4, 8)\n",
    "        graph.dfs(nodes[0], self.results.add_result)\n",
    "        assert_equal(str(self.results), \"[0, 1, 3, 2, 4, 5]\")\n",
    "\n",
    "        print('Success: test_dfs')\n",
    "\n",
    "\n",
    "def main():\n",
    "    test = TestDfs()\n",
    "    test.test_dfs()\n",
    "\n",
    "\n",
    "if __name__ == '__main__':\n",
    "    main()"
   ]
  },
  {
   "cell_type": "code",
   "execution_count": 5,
   "metadata": {
    "collapsed": false
   },
   "outputs": [
    {
     "name": "stdout",
     "output_type": "stream",
     "text": [
      "Success: test_dfs\n"
     ]
    }
   ],
   "source": [
    "%run -i test_dfs.py"
   ]
  }
 ],
 "metadata": {
  "kernelspec": {
   "display_name": "Python 3",
   "language": "python",
   "name": "python3"
  },
  "language_info": {
   "codemirror_mode": {
    "name": "ipython",
    "version": 3
   },
   "file_extension": ".py",
   "mimetype": "text/x-python",
   "name": "python",
   "nbconvert_exporter": "python",
   "pygments_lexer": "ipython3",
   "version": "3.4.3"
  }
 },
 "nbformat": 4,
 "nbformat_minor": 0
}
