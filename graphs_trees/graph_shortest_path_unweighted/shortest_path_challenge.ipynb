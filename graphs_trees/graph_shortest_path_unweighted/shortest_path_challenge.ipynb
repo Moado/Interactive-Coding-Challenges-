{
 "cells": [
  {
   "cell_type": "markdown",
   "metadata": {},
   "source": [
    "This notebook was prepared by [Donne Martin](https://github.com/donnemartin). Source and license info is on [GitHub](https://github.com/donnemartin/interactive-coding-challenges)."
   ]
  },
  {
   "cell_type": "markdown",
   "metadata": {},
   "source": [
    "# Challenge Notebook"
   ]
  },
  {
   "cell_type": "markdown",
   "metadata": {},
   "source": [
    "## Problem: Find the shortest path between two nodes in a graph.\n",
    "\n",
    "* [Constraints](#Constraints)\n",
    "* [Test Cases](#Test-Cases)\n",
    "* [Algorithm](#Algorithm)\n",
    "* [Code](#Code)\n",
    "* [Unit Test](#Unit-Test)\n",
    "* [Solution Notebook](#Solution-Notebook)"
   ]
  },
  {
   "cell_type": "markdown",
   "metadata": {},
   "source": [
    "## Constraints\n",
    "\n",
    "* Is the graph directed?\n",
    "    * Yes\n",
    "* Is the graph weighted?\n",
    "    * No\n",
    "* Can we assume we already have Graph and Node classes?\n",
    "    * Yes\n",
    "* Are the inputs two Nodes?\n",
    "    * Yes\n",
    "* Is the output a list of Node keys that make up the shortest path?\n",
    "    * Yes\n",
    "* If there is no path, should we return None?\n",
    "    * Yes\n",
    "* Can we assume this is a connected graph?\n",
    "    * Yes\n",
    "* Can we assume the inputs are valid?\n",
    "    * Yes\n",
    "* Can we assume this fits memory?\n",
    "    * Yes"
   ]
  },
  {
   "cell_type": "markdown",
   "metadata": {},
   "source": [
    "## Test Cases\n",
    "\n",
    "Input:\n",
    "* `add_edge(source, destination, weight)`\n",
    "\n",
    "```\n",
    "graph.add_edge(0, 1)\n",
    "graph.add_edge(0, 4)\n",
    "graph.add_edge(0, 5)\n",
    "graph.add_edge(1, 3)\n",
    "graph.add_edge(1, 4)\n",
    "graph.add_edge(2, 1)\n",
    "graph.add_edge(3, 2)\n",
    "graph.add_edge(3, 4)\n",
    "```\n",
    "\n",
    "Result:\n",
    "* search_path(start=0, end=2) -> [0, 1, 3, 2]\n",
    "* search_path(start=0, end=0) -> [0]\n",
    "* search_path(start=4, end=5) -> None"
   ]
  },
  {
   "cell_type": "markdown",
   "metadata": {},
   "source": [
    "## Algorithm\n",
    "\n",
    "Refer to the [Solution Notebook](http://nbviewer.ipython.org/github/donnemartin/interactive-coding-challenges/blob/master/graphs_trees/graph_path_exists/path_exists_solution.ipynb).  If you are stuck and need a hint, the solution notebook's algorithm discussion might be a good place to start."
   ]
  },
  {
   "cell_type": "markdown",
   "metadata": {},
   "source": [
    "## Code"
   ]
  },
  {
   "cell_type": "code",
   "execution_count": null,
   "metadata": {
    "collapsed": true
   },
   "outputs": [],
   "source": [
    "%run ../graph/graph.py\n",
    "%load ../graph/graph.py"
   ]
  },
  {
   "cell_type": "code",
   "execution_count": null,
   "metadata": {
    "collapsed": false
   },
   "outputs": [],
   "source": [
    "class GraphShortestPath(Graph):\n",
    "\n",
    "    def shortest_path(self, source_key, dest_key):\n",
    "        # TODO: Implement me\n",
    "        pass"
   ]
  },
  {
   "cell_type": "markdown",
   "metadata": {},
   "source": [
    "## Unit Test"
   ]
  },
  {
   "cell_type": "markdown",
   "metadata": {},
   "source": [
    "**The following unit test is expected to fail until you solve the challenge.**"
   ]
  },
  {
   "cell_type": "code",
   "execution_count": null,
   "metadata": {
    "collapsed": false
   },
   "outputs": [],
   "source": [
    "# %load test_shortest_path.py\n",
    "from nose.tools import assert_equal\n",
    "\n",
    "\n",
    "class TestShortestPath(object):\n",
    "\n",
    "    def test_shortest_path(self):\n",
    "        nodes = []\n",
    "        graph = GraphShortestPath()\n",
    "        for id in range(0, 6):\n",
    "            nodes.append(graph.add_node(id))\n",
    "        graph.add_edge(0, 1)\n",
    "        graph.add_edge(0, 4)\n",
    "        graph.add_edge(0, 5)\n",
    "        graph.add_edge(1, 3)\n",
    "        graph.add_edge(1, 4)\n",
    "        graph.add_edge(2, 1)\n",
    "        graph.add_edge(3, 2)\n",
    "        graph.add_edge(3, 4)\n",
    "\n",
    "        assert_equal(graph.shortest_path(nodes[0].key, nodes[2].key), [0, 1, 3, 2])\n",
    "        assert_equal(graph.shortest_path(nodes[0].key, nodes[0].key), [0])\n",
    "        assert_equal(graph.shortest_path(nodes[4].key, nodes[5].key), None)\n",
    "\n",
    "        print('Success: test_shortest_path')\n",
    "\n",
    "\n",
    "def main():\n",
    "    test = TestShortestPath()\n",
    "    test.test_shortest_path()\n",
    "\n",
    "\n",
    "if __name__ == '__main__':\n",
    "    main()"
   ]
  },
  {
   "cell_type": "markdown",
   "metadata": {},
   "source": [
    "## Solution Notebook\n",
    "\n",
    "Review the [Solution Notebook](http://nbviewer.ipython.org/github/donnemartin/interactive-coding-challenges/blob/master/graphs_trees/graph_path_exists/path_exists_solution.ipynb) for a discussion on algorithms and code solutions."
   ]
  }
 ],
 "metadata": {
  "kernelspec": {
   "display_name": "Python 3",
   "language": "python",
   "name": "python3"
  },
  "language_info": {
   "codemirror_mode": {
    "name": "ipython",
    "version": 3
   },
   "file_extension": ".py",
   "mimetype": "text/x-python",
   "name": "python",
   "nbconvert_exporter": "python",
   "pygments_lexer": "ipython3",
   "version": "3.4.3"
  }
 },
 "nbformat": 4,
 "nbformat_minor": 0
}
