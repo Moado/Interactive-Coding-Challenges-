{
 "cells": [
  {
   "cell_type": "markdown",
   "metadata": {},
   "source": [
    "This notebook was prepared by [Donne Martin](https://github.com/donnemartin). Source and license info is on [GitHub](https://github.com/donnemartin/interactive-coding-challenges)."
   ]
  },
  {
   "cell_type": "markdown",
   "metadata": {},
   "source": [
    "# Solution Notebook"
   ]
  },
  {
   "cell_type": "markdown",
   "metadata": {},
   "source": [
    "## Problem: Find the second largest node in a binary search tree.\n",
    "\n",
    "* [Constraints](#Constraints)\n",
    "* [Test Cases](#Test-Cases)\n",
    "* [Algorithm](#Algorithm)\n",
    "* [Code](#Code)\n",
    "* [Unit Test](#Unit-Test)"
   ]
  },
  {
   "cell_type": "markdown",
   "metadata": {},
   "source": [
    "## Constraints\n",
    "\n",
    "* If this is called on a None input or a single node, should we raise an exception?\n",
    "    * Yes\n",
    "        * None -> TypeError\n",
    "        * Single node -> ValueError\n",
    "* Can we assume we already have a Node class with an insert method?\n",
    "    * Yes\n",
    "* Can we assume this fits memory?\n",
    "    * Yes"
   ]
  },
  {
   "cell_type": "markdown",
   "metadata": {},
   "source": [
    "## Test Cases\n",
    "\n",
    "* None or single node -> Exception\n",
    "\n",
    "<pre>\n",
    "Input:\n",
    "                _10_\n",
    "              _/    \\_          \n",
    "             5        15\n",
    "            / \\       / \\\n",
    "           3   8     12  20\n",
    "          /     \\         \\\n",
    "         2       4        30\n",
    "\n",
    "Output: 20\n",
    "\n",
    "Input:\n",
    "                 10\n",
    "                 /  \n",
    "                5\n",
    "               / \\\n",
    "              3   7\n",
    "Output: 7\n",
    "</pre>"
   ]
  },
  {
   "cell_type": "markdown",
   "metadata": {},
   "source": [
    "## Algorithm\n",
    "\n",
    "<pre>\n",
    "\n",
    "If there is no right node, the second largest is the right most left subtree:\n",
    "\n",
    "                 10\n",
    "                 /  \n",
    "                5\n",
    "               / \\\n",
    "              3   7\n",
    "\n",
    "If there is a right node and the right node has children, recurse to that right child:\n",
    "\n",
    "                _10_\n",
    "              _/    \\_          \n",
    "             5        15\n",
    "            / \\       / \\\n",
    "           3   8     12  20\n",
    "          /     \\         \\\n",
    "         2       4        30\n",
    "\n",
    "Eventually we'll get to the following scenario:\n",
    "\n",
    "                 20\n",
    "                  \\\n",
    "                   30\n",
    "\n",
    "If the right node has no children, the second largest is the current node.\n",
    "\n",
    "</pre>\n",
    "\n",
    "Complexity:\n",
    "* Time: O(h)\n",
    "* Space: O(h), where h is the height of the tree"
   ]
  },
  {
   "cell_type": "markdown",
   "metadata": {},
   "source": [
    "## Code"
   ]
  },
  {
   "cell_type": "code",
   "execution_count": 1,
   "metadata": {
    "collapsed": true
   },
   "outputs": [],
   "source": [
    "%run ../bst/bst.py"
   ]
  },
  {
   "cell_type": "code",
   "execution_count": 2,
   "metadata": {
    "collapsed": false
   },
   "outputs": [],
   "source": [
    "class Solution(Bst):\n",
    "\n",
    "    def _find_second_largest(self, node):\n",
    "        if node.right is not None:\n",
    "            if node.right.left is not None or node.right.right is not None:\n",
    "                return self._find_second_largest(node.right)\n",
    "            else:\n",
    "                return node\n",
    "        else:\n",
    "            return self._find_right_most_node(node.left)\n",
    "\n",
    "    def _find_right_most_node(self, node):\n",
    "        if node.right is not None:\n",
    "            return self._find_right_most_node(node.right)\n",
    "        else:\n",
    "            return node\n",
    "\n",
    "    def find_second_largest(self):\n",
    "        if self.root is None:\n",
    "            raise TypeError('root cannot be None')\n",
    "        if self.root.right is None and self.root.left is None:\n",
    "            raise ValueError('root must have at least one child')\n",
    "        return self._find_second_largest(self.root)"
   ]
  },
  {
   "cell_type": "markdown",
   "metadata": {},
   "source": [
    "## Unit Test"
   ]
  },
  {
   "cell_type": "code",
   "execution_count": 3,
   "metadata": {
    "collapsed": false
   },
   "outputs": [
    {
     "name": "stdout",
     "output_type": "stream",
     "text": [
      "Overwriting test_bst_second_largest.py\n"
     ]
    }
   ],
   "source": [
    "%%writefile test_bst_second_largest.py\n",
    "from nose.tools import assert_equal, assert_raises\n",
    "\n",
    "\n",
    "class TestBstSecondLargest(object):\n",
    "\n",
    "    def test_bst_second_largest(self):\n",
    "        bst = Solution(None)\n",
    "        assert_raises(TypeError, bst.find_second_largest)\n",
    "        root = Node(10)\n",
    "        bst = Solution(root)\n",
    "        node5 = bst.insert(5)\n",
    "        node15 = bst.insert(15)\n",
    "        node3 = bst.insert(3)\n",
    "        node8 = bst.insert(8)\n",
    "        node12 = bst.insert(12)\n",
    "        node20 = bst.insert(20)\n",
    "        node2 = bst.insert(2)\n",
    "        node4 = bst.insert(4)\n",
    "        node30 = bst.insert(30)\n",
    "        assert_equal(bst.find_second_largest(), node20)\n",
    "        root = Node(10)\n",
    "        bst = Solution(root)\n",
    "        node5 = bst.insert(5)\n",
    "        node3 = bst.insert(3)\n",
    "        node7 = bst.insert(7)\n",
    "        assert_equal(bst.find_second_largest(), node7)\n",
    "        print('Success: test_bst_second_largest')\n",
    "\n",
    "\n",
    "def main():\n",
    "    test = TestBstSecondLargest()\n",
    "    test.test_bst_second_largest()\n",
    "\n",
    "\n",
    "if __name__ == '__main__':\n",
    "    main()"
   ]
  },
  {
   "cell_type": "code",
   "execution_count": 4,
   "metadata": {
    "collapsed": false
   },
   "outputs": [
    {
     "name": "stdout",
     "output_type": "stream",
     "text": [
      "Success: test_bst_second_largest\n"
     ]
    }
   ],
   "source": [
    "%run -i test_bst_second_largest.py"
   ]
  }
 ],
 "metadata": {
  "kernelspec": {
   "display_name": "Python 3",
   "language": "python",
   "name": "python3"
  },
  "language_info": {
   "codemirror_mode": {
    "name": "ipython",
    "version": 3
   },
   "file_extension": ".py",
   "mimetype": "text/x-python",
   "name": "python",
   "nbconvert_exporter": "python",
   "pygments_lexer": "ipython3",
   "version": "3.5.0"
  }
 },
 "nbformat": 4,
 "nbformat_minor": 0
}
