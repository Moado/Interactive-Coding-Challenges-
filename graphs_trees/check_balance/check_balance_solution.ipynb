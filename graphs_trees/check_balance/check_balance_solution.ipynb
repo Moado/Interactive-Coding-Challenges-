{
 "cells": [
  {
   "cell_type": "markdown",
   "metadata": {},
   "source": [
    "This notebook was prepared by [Donne Martin](https://github.com/donnemartin). Source and license info is on [GitHub](https://github.com/donnemartin/interactive-coding-challenges)."
   ]
  },
  {
   "cell_type": "markdown",
   "metadata": {},
   "source": [
    "# Solution Notebook"
   ]
  },
  {
   "cell_type": "markdown",
   "metadata": {},
   "source": [
    "## Problem: Check if a binary tree is balanced.\n",
    "\n",
    "* [Constraints](#Constraints)\n",
    "* [Test Cases](#Test-Cases)\n",
    "* [Algorithm](#Algorithm)\n",
    "* [Code](#Code)\n",
    "* [Unit Test](#Unit-Test)"
   ]
  },
  {
   "cell_type": "markdown",
   "metadata": {},
   "source": [
    "## Constraints\n",
    "\n",
    "* Is a balanced tree one where the heights of two sub trees of any node doesn't differ by more than 1?\n",
    "    * Yes\n",
    "* If this is called on a None input, should we raise an exception?\n",
    "    * Yes\n",
    "* Can we assume we already have a Node class with an insert method?\n",
    "    * Yes\n",
    "* Can we assume this fits memory?\n",
    "    * Yes"
   ]
  },
  {
   "cell_type": "markdown",
   "metadata": {},
   "source": [
    "## Test Cases\n",
    "\n",
    "* None -> No\n",
    "* 1 -> Yes\n",
    "* 5, 3, 8, 1, 4 -> Yes\n",
    "* 5, 3, 8, 9, 10 -> No"
   ]
  },
  {
   "cell_type": "markdown",
   "metadata": {},
   "source": [
    "## Algorithm\n",
    "\n",
    "The algorithm will be similar to where we get the height of a tree as seen in [here](http://nbviewer.ipython.org/github/donnemartin/interactive-coding-challenges/blob/master/graphs_trees/tree_height/height_solution.ipynb).\n",
    "\n",
    "However, we could check whether the tree is balanced while also checking for the heights.\n",
    "\n",
    "* Base case: If the root is None, return 0\n",
    "* Recursively check whether the left sub tree is balanced, and get its height left_height\n",
    "* Recursively check whether the right sub tree is balanced, and get its height right_height\n",
    "* Compare left_height and right_height\n",
    "* Return 1 + max(left_height, right_height)\n",
    "    \n",
    "Complexity:\n",
    "* Time: O(n)\n",
    "* Space: O(h), where h is the height of the tree"
   ]
  },
  {
   "cell_type": "markdown",
   "metadata": {},
   "source": [
    "## Code"
   ]
  },
  {
   "cell_type": "code",
   "execution_count": 1,
   "metadata": {
    "collapsed": true
   },
   "outputs": [],
   "source": [
    "%run ../bst/bst.py"
   ]
  },
  {
   "cell_type": "code",
   "execution_count": 2,
   "metadata": {
    "collapsed": true
   },
   "outputs": [],
   "source": [
    "class BstBalance(Bst):\n",
    "\n",
    "    def _check_balance(self, node):\n",
    "        if node is None:\n",
    "            return 0\n",
    "        left_height = self._check_balance(node.left)\n",
    "        if left_height == -1:\n",
    "            return -1\n",
    "        right_height = self._check_balance(node.right)\n",
    "        if right_height == -1:\n",
    "            return -1\n",
    "        diff = abs(left_height - right_height)\n",
    "        if diff > 1:\n",
    "            return -1\n",
    "        return 1 + max(left_height, right_height)\n",
    "\n",
    "    def check_balance(self):\n",
    "        if self.root is None:\n",
    "            raise TypeError('root cannot be None')\n",
    "        height = self._check_balance(self.root)\n",
    "        return height != -1"
   ]
  },
  {
   "cell_type": "markdown",
   "metadata": {},
   "source": [
    "## Unit Test"
   ]
  },
  {
   "cell_type": "code",
   "execution_count": 3,
   "metadata": {
    "collapsed": false
   },
   "outputs": [
    {
     "name": "stdout",
     "output_type": "stream",
     "text": [
      "Overwriting test_check_balance.py\n"
     ]
    }
   ],
   "source": [
    "%%writefile test_check_balance.py\n",
    "from nose.tools import assert_equal\n",
    "from nose.tools import raises\n",
    "\n",
    "\n",
    "class TestCheckBalance(object):\n",
    "\n",
    "    @raises(TypeError)\n",
    "    def test_check_balance_empty(self):\n",
    "        bst = BstBalance(None)\n",
    "        bst.check_balance()\n",
    "\n",
    "    def test_check_balance(self):\n",
    "        bst = BstBalance(Node(5))\n",
    "        assert_equal(bst.check_balance(), True)\n",
    "\n",
    "        bst.insert(3)\n",
    "        bst.insert(8)\n",
    "        bst.insert(1)\n",
    "        bst.insert(4)\n",
    "        assert_equal(bst.check_balance(), True)\n",
    "\n",
    "        bst = BstBalance(Node(5))\n",
    "        bst.insert(3)\n",
    "        bst.insert(8)\n",
    "        bst.insert(9)\n",
    "        bst.insert(10)\n",
    "        assert_equal(bst.check_balance(), False)\n",
    "\n",
    "        bst = BstBalance(Node(3))\n",
    "        bst.insert(2)\n",
    "        bst.insert(1)\n",
    "        bst.insert(5)\n",
    "        bst.insert(4)\n",
    "        bst.insert(6)\n",
    "        bst.insert(7)\n",
    "        assert_equal(bst.check_balance(), True)\n",
    "\n",
    "        print('Success: test_check_balance')\n",
    "\n",
    "\n",
    "def main():\n",
    "    test = TestCheckBalance()\n",
    "    test.test_check_balance_empty()\n",
    "    test.test_check_balance()\n",
    "\n",
    "\n",
    "if __name__ == '__main__':\n",
    "    main()"
   ]
  },
  {
   "cell_type": "code",
   "execution_count": 4,
   "metadata": {
    "collapsed": false
   },
   "outputs": [
    {
     "name": "stdout",
     "output_type": "stream",
     "text": [
      "Success: test_check_balance\n"
     ]
    }
   ],
   "source": [
    "%run -i test_check_balance.py"
   ]
  }
 ],
 "metadata": {
  "kernelspec": {
   "display_name": "Python 3",
   "language": "python",
   "name": "python3"
  },
  "language_info": {
   "codemirror_mode": {
    "name": "ipython",
    "version": 3
   },
   "file_extension": ".py",
   "mimetype": "text/x-python",
   "name": "python",
   "nbconvert_exporter": "python",
   "pygments_lexer": "ipython3",
   "version": "3.4.3"
  }
 },
 "nbformat": 4,
 "nbformat_minor": 0
}
