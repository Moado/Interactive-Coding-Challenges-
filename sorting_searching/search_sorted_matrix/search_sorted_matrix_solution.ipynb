{
 "cells": [
  {
   "cell_type": "markdown",
   "metadata": {},
   "source": [
    "This notebook was prepared by [Donne Martin](https://github.com/donnemartin). Source and license info is on [GitHub](https://github.com/donnemartin/interactive-coding-challenges)."
   ]
  },
  {
   "cell_type": "markdown",
   "metadata": {},
   "source": [
    "# Solution Notebook"
   ]
  },
  {
   "cell_type": "markdown",
   "metadata": {},
   "source": [
    "## Problem: Search a sorted matrix for an item.\n",
    "\n",
    "* [Constraints](#Constraints)\n",
    "* [Test Cases](#Test-Cases)\n",
    "* [Algorithm](#Algorithm)\n",
    "* [Code](#Code)\n",
    "* [Unit Test](#Unit-Test)"
   ]
  },
  {
   "cell_type": "markdown",
   "metadata": {},
   "source": [
    "## Constraints\n",
    "\n",
    "* Are items in each row sorted?\n",
    "    * Yes\n",
    "* Are items in each column sorted?\n",
    "    * Yes\n",
    "* Is the sorting in ascending or descending order?\n",
    "    * Ascending\n",
    "* Is the matrix a rectangle?  Not jagged?\n",
    "    * Yes\n",
    "* Is the matrix square?\n",
    "    * Not necessarily\n",
    "* Is the output a tuple (row, col)?\n",
    "    * Yes\n",
    "* Is the item you are searching for always in the matrix?\n",
    "    * No\n",
    "* Can we assume the inputs are valid?\n",
    "    * No\n",
    "* Can we assume this fits memory?\n",
    "    * Yes"
   ]
  },
  {
   "cell_type": "markdown",
   "metadata": {},
   "source": [
    "## Test Cases\n",
    "\n",
    "* None -> Exception\n",
    "* General case\n",
    "    * Item found -> (row, col)\n",
    "    * Item not found -> None"
   ]
  },
  {
   "cell_type": "markdown",
   "metadata": {},
   "source": [
    "## Algorithm\n",
    "\n",
    "<pre>\n",
    "\n",
    "Find 60 (val = 60)\n",
    "\n",
    " 20  40  63   80\n",
    " 30  50  80   90\n",
    " 40  60  100 110\n",
    " 50  65  105 150\n",
    "\n",
    "* If the start of a col > val, look left\n",
    "* If the end of a col < val, look right\n",
    "* If the start of row > val, look up\n",
    "* If the end of a row < val, look down\n",
    "\n",
    "If we start at the upper right corner, we just need to use these cases:\n",
    "\n",
    "* If the start of a col > val, look left\n",
    "* If the end of a row < val, look down\n",
    "\n",
    "</pre>\n",
    "\n",
    "Complexity:\n",
    "* Time: O(n + m), where n and m are the matrix dimensions\n",
    "* Space: O(1)"
   ]
  },
  {
   "cell_type": "markdown",
   "metadata": {},
   "source": [
    "## Code"
   ]
  },
  {
   "cell_type": "code",
   "execution_count": 1,
   "metadata": {
    "collapsed": false
   },
   "outputs": [],
   "source": [
    "class SortedMatrix(object):\n",
    "\n",
    "    def find_val(self, matrix, val):\n",
    "        if matrix is None or val is None:\n",
    "            raise TypeError('matrix and val cannot be None')\n",
    "        row = 0\n",
    "        col = len(matrix[0]) - 1\n",
    "        while row < len(matrix) and col >= 0:\n",
    "            if matrix[row][col] == val:\n",
    "                return (row, col)\n",
    "            elif matrix[row][col] > val:\n",
    "                col -= 1\n",
    "            else:\n",
    "                row += 1\n",
    "        return None"
   ]
  },
  {
   "cell_type": "markdown",
   "metadata": {},
   "source": [
    "## Unit Test"
   ]
  },
  {
   "cell_type": "code",
   "execution_count": 2,
   "metadata": {
    "collapsed": false
   },
   "outputs": [
    {
     "name": "stdout",
     "output_type": "stream",
     "text": [
      "Writing test_search_sorted_matrix.py\n"
     ]
    }
   ],
   "source": [
    "%%writefile test_search_sorted_matrix.py\n",
    "from nose.tools import assert_equal, assert_raises\n",
    "\n",
    "\n",
    "class TestSortedMatrix(object):\n",
    "\n",
    "    def test_find_val(self):\n",
    "        matrix = [[20, 40, 63, 80],\n",
    "                  [30, 50, 80, 90],\n",
    "                  [40, 60, 110, 110],\n",
    "                  [50, 65, 105, 150]]\n",
    "        sorted_matrix = SortedMatrix()\n",
    "        assert_raises(TypeError, sorted_matrix.find_val, None, None)\n",
    "        assert_equal(sorted_matrix.find_val(matrix, 1000), None)\n",
    "        assert_equal(sorted_matrix.find_val(matrix, 60), (2, 1))\n",
    "        print('Success: test_find_val')\n",
    "\n",
    "\n",
    "def main():\n",
    "    test = TestSortedMatrix()\n",
    "    test.test_find_val()\n",
    "\n",
    "\n",
    "if __name__ == '__main__':\n",
    "    main()"
   ]
  },
  {
   "cell_type": "code",
   "execution_count": 3,
   "metadata": {
    "collapsed": false
   },
   "outputs": [
    {
     "name": "stdout",
     "output_type": "stream",
     "text": [
      "Success: test_find_val\n"
     ]
    }
   ],
   "source": [
    "%run -i test_search_sorted_matrix.py"
   ]
  }
 ],
 "metadata": {
  "kernelspec": {
   "display_name": "Python 3",
   "language": "python",
   "name": "python3"
  },
  "language_info": {
   "codemirror_mode": {
    "name": "ipython",
    "version": 3
   },
   "file_extension": ".py",
   "mimetype": "text/x-python",
   "name": "python",
   "nbconvert_exporter": "python",
   "pygments_lexer": "ipython3",
   "version": "3.5.0"
  }
 },
 "nbformat": 4,
 "nbformat_minor": 0
}
