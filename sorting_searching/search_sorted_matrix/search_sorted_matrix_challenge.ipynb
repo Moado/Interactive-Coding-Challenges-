{
 "cells": [
  {
   "cell_type": "markdown",
   "metadata": {},
   "source": [
    "This notebook was prepared by [Donne Martin](https://github.com/donnemartin). Source and license info is on [GitHub](https://github.com/donnemartin/interactive-coding-challenges)."
   ]
  },
  {
   "cell_type": "markdown",
   "metadata": {},
   "source": [
    "# Challenge Notebook"
   ]
  },
  {
   "cell_type": "markdown",
   "metadata": {},
   "source": [
    "## Problem: Search a sorted matrix for an item.\n",
    "\n",
    "* [Constraints](#Constraints)\n",
    "* [Test Cases](#Test-Cases)\n",
    "* [Algorithm](#Algorithm)\n",
    "* [Code](#Code)\n",
    "* [Unit Test](#Unit-Test)\n",
    "* [Solution Notebook](#Solution-Notebook)"
   ]
  },
  {
   "cell_type": "markdown",
   "metadata": {},
   "source": [
    "## Constraints\n",
    "\n",
    "* Are items in each row sorted?\n",
    "    * Yes\n",
    "* Are items in each column sorted?\n",
    "    * Yes\n",
    "* Is the sorting in ascending or descending order?\n",
    "    * Ascending\n",
    "* Is the matrix a rectangle?  Not jagged?\n",
    "    * Yes\n",
    "* Is the matrix square?\n",
    "    * Not necessarily\n",
    "* Is the output a tuple (row, col)?\n",
    "    * Yes\n",
    "* Is the item you are searching for always in the matrix?\n",
    "    * No\n",
    "* Can we assume the inputs are valid?\n",
    "    * No\n",
    "* Can we assume this fits memory?\n",
    "    * Yes"
   ]
  },
  {
   "cell_type": "markdown",
   "metadata": {},
   "source": [
    "## Test Cases\n",
    "\n",
    "* None -> Exception\n",
    "* General case\n",
    "    * Item found -> (row, col)\n",
    "    * Item not found -> None"
   ]
  },
  {
   "cell_type": "markdown",
   "metadata": {},
   "source": [
    "## Algorithm\n",
    "\n",
    "Refer to the [Solution Notebook](http://nbviewer.jupyter.org/github/donnemartin/interactive-coding-challenges/blob/master/sorting_searching/search_sorted_matrix/search_sorted_matrix_solution.ipynb).  If you are stuck and need a hint, the solution notebook's algorithm discussion might be a good place to start."
   ]
  },
  {
   "cell_type": "markdown",
   "metadata": {},
   "source": [
    "## Code"
   ]
  },
  {
   "cell_type": "code",
   "execution_count": null,
   "metadata": {},
   "outputs": [],
   "source": [
    "class SortedMatrix(object):\n",
    "\n",
    "    def find_val(self, matrix, val):\n",
    "        # TODO: Implement me\n",
    "        pass"
   ]
  },
  {
   "cell_type": "markdown",
   "metadata": {},
   "source": [
    "## Unit Test"
   ]
  },
  {
   "cell_type": "markdown",
   "metadata": {},
   "source": [
    "**The following unit test is expected to fail until you solve the challenge.**"
   ]
  },
  {
   "cell_type": "code",
   "execution_count": null,
   "metadata": {},
   "outputs": [],
   "source": [
    "# %load test_search_sorted_matrix.py\n",
    "from nose.tools import assert_equal, assert_raises\n",
    "\n",
    "\n",
    "class TestSortedMatrix(object):\n",
    "\n",
    "    def test_find_val(self):\n",
    "        matrix = [[20, 40, 63, 80],\n",
    "                  [30, 50, 80, 90],\n",
    "                  [40, 60, 110, 110],\n",
    "                  [50, 65, 105, 150]]\n",
    "        sorted_matrix = SortedMatrix()\n",
    "        assert_raises(TypeError, sorted_matrix.find_val, None, None)\n",
    "        assert_equal(sorted_matrix.find_val(matrix, 1000), None)\n",
    "        assert_equal(sorted_matrix.find_val(matrix, 60), (2, 1))\n",
    "        print('Success: test_find_val')\n",
    "\n",
    "\n",
    "def main():\n",
    "    test = TestSortedMatrix()\n",
    "    test.test_find_val()\n",
    "\n",
    "\n",
    "if __name__ == '__main__':\n",
    "    main()"
   ]
  },
  {
   "cell_type": "markdown",
   "metadata": {},
   "source": [
    "## Solution Notebook\n",
    "\n",
    "Review the [Solution Notebook]() for a discussion on algorithms and code solutions."
   ]
  }
 ],
 "metadata": {
  "kernelspec": {
   "display_name": "Python 3",
   "language": "python",
   "name": "python3"
  },
  "language_info": {
   "codemirror_mode": {
    "name": "ipython",
    "version": 3
   },
   "file_extension": ".py",
   "mimetype": "text/x-python",
   "name": "python",
   "nbconvert_exporter": "python",
   "pygments_lexer": "ipython3",
   "version": "3.6.4"
  }
 },
 "nbformat": 4,
 "nbformat_minor": 1
}
