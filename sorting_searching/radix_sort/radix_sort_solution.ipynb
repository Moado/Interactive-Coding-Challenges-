{
 "cells": [
  {
   "cell_type": "markdown",
   "metadata": {},
   "source": [
    "This notebook was prepared by [Donne Martin](https://github.com/donnemartin). Source and license info is on [GitHub](https://github.com/donnemartin/interactive-coding-challenges)."
   ]
  },
  {
   "cell_type": "markdown",
   "metadata": {},
   "source": [
    "# Solution Notebook"
   ]
  },
  {
   "cell_type": "markdown",
   "metadata": {},
   "source": [
    "## Problem: Implement radix sort.\n",
    "\n",
    "* [Constraints](#Constraints)\n",
    "* [Test Cases](#Test-Cases)\n",
    "* [Algorithm](#Algorithm)\n",
    "* [Code](#Code)\n",
    "* [Unit Test](#Unit-Test)"
   ]
  },
  {
   "cell_type": "markdown",
   "metadata": {},
   "source": [
    "## Constraints\n",
    "\n",
    "* Is the input a list?\n",
    "    * Yes\n",
    "* Can we assume the inputs are valid?\n",
    "    * Check for None in place of an array\n",
    "    * Assume array elements are ints\n",
    "* Do we know the max digits to handle?\n",
    "    * No\n",
    "* Are the digits base 10?\n",
    "    * Yes\n",
    "* Can we assume this fits memory?\n",
    "    * Yes"
   ]
  },
  {
   "cell_type": "markdown",
   "metadata": {},
   "source": [
    "## Test Cases\n",
    "\n",
    "* None -> Exception\n",
    "* [] -> []\n",
    "* [128, 256, 164, 8, 2, 148, 212, 242, 244] -> [2, 8, 128, 148, 164, 212, 242, 244, 256]"
   ]
  },
  {
   "cell_type": "markdown",
   "metadata": {},
   "source": [
    "## Algorithm\n",
    "\n",
    "Sample input: [1, 220, 122, 112]\n",
    "\n",
    "* We'll evaluate each digit starting with the ones position\n",
    "    * [**1**, 22**0**, 12**2**, 11**2**]\n",
    "        * Bucket 0: 220\n",
    "        * Bucket 1: 1\n",
    "        * Bucket 2: 122, 112\n",
    "        * Result: [220, 1, 122, 112]\n",
    "    * [2**2**0, 1, 1**2**2, 1**1**2]\n",
    "        * Bucket 0: 1\n",
    "        * Bucket 1: 112\n",
    "        * Bucket 2: 220, 122\n",
    "        * Result: [1, 112, 220, 122]\n",
    "    * [1, **1**12, **2**20, **1**22]\n",
    "        * Bucket 0: 1\n",
    "        * Bucket 1: 112, 122\n",
    "        * Bucket 2: 220\n",
    "        * Result: [1, 112, 122, 220]\n",
    "\n",
    "Bucketing example: 123\n",
    "\n",
    "* Ones\n",
    "    * 12**3** // 10^0 = 123\n",
    "    * 123 % 10 = 3\n",
    "* Tens\n",
    "    * 1**2**3 // 10^1 = 12\n",
    "    * 12 % 10 = 2\n",
    "* Hundreds\n",
    "    * **1**23 // 10^2 = 1\n",
    "    * 1 % 10 = 1\n",
    "\n",
    "Complexity:\n",
    "* Time: O(k*n), where n is the number of items and k is the number of digits in the largest item\n",
    "* Space: O(k+n)\n",
    "\n",
    "Misc:\n",
    "* Not in-place\n",
    "* Most implementations are stable\n",
    "\n",
    "If k (the number of digits) is less than log(n), radix sort can be faster than algorithms such as quicksort."
   ]
  },
  {
   "cell_type": "markdown",
   "metadata": {},
   "source": [
    "## Code"
   ]
  },
  {
   "cell_type": "code",
   "execution_count": 1,
   "metadata": {
    "collapsed": false
   },
   "outputs": [],
   "source": [
    "class RadixSort(object):\n",
    "\n",
    "    def sort(self, array, base=10):\n",
    "        if array is None:\n",
    "            raise TypeError('array cannot be None')\n",
    "        if not array:\n",
    "            return []\n",
    "        max_element = max(array)\n",
    "        max_digits = len(str(abs(max_element)))\n",
    "        curr_array = array\n",
    "        for digit in range(max_digits):\n",
    "            buckets = [[] for _ in range(base)]\n",
    "            for item in curr_array:\n",
    "                buckets[(item//(base**digit))%base].append(item)\n",
    "            curr_array = []\n",
    "            for bucket in buckets:\n",
    "                curr_array.extend(bucket)\n",
    "        return curr_array"
   ]
  },
  {
   "cell_type": "markdown",
   "metadata": {},
   "source": [
    "## Unit Test"
   ]
  },
  {
   "cell_type": "code",
   "execution_count": 2,
   "metadata": {
    "collapsed": false
   },
   "outputs": [
    {
     "name": "stdout",
     "output_type": "stream",
     "text": [
      "Overwriting test_radix_sort.py\n"
     ]
    }
   ],
   "source": [
    "%%writefile test_radix_sort.py\n",
    "from nose.tools import assert_equal, assert_raises\n",
    "\n",
    "\n",
    "class TestRadixSort(object):\n",
    "\n",
    "    def test_sort(self):\n",
    "        radix_sort = RadixSort()\n",
    "        assert_raises(TypeError, radix_sort.sort, None)\n",
    "        assert_equal(radix_sort.sort([]), [])\n",
    "        array = [128, 256, 164, 8, 2, 148, 212, 242, 244]\n",
    "        expected = [2, 8, 128, 148, 164, 212, 242, 244, 256]\n",
    "        assert_equal(radix_sort.sort(array), expected)\n",
    "        print('Success: test_sort')\n",
    "\n",
    "\n",
    "def main():\n",
    "    test = TestRadixSort()\n",
    "    test.test_sort()\n",
    "\n",
    "\n",
    "if __name__ == '__main__':\n",
    "    main()"
   ]
  },
  {
   "cell_type": "code",
   "execution_count": 3,
   "metadata": {
    "collapsed": false
   },
   "outputs": [
    {
     "name": "stdout",
     "output_type": "stream",
     "text": [
      "Success: test_sort\n"
     ]
    }
   ],
   "source": [
    "%run -i test_radix_sort.py"
   ]
  }
 ],
 "metadata": {
  "kernelspec": {
   "display_name": "Python 3",
   "language": "python",
   "name": "python3"
  },
  "language_info": {
   "codemirror_mode": {
    "name": "ipython",
    "version": 3
   },
   "file_extension": ".py",
   "mimetype": "text/x-python",
   "name": "python",
   "nbconvert_exporter": "python",
   "pygments_lexer": "ipython3",
   "version": "3.5.0"
  }
 },
 "nbformat": 4,
 "nbformat_minor": 0
}
