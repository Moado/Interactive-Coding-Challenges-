{
 "cells": [
  {
   "cell_type": "markdown",
   "metadata": {},
   "source": [
    "This notebook was prepared by [Donne Martin](http://donnemartin.com). Source and license info is on [GitHub](https://github.com/donnemartin/interactive-coding-challenges)."
   ]
  },
  {
   "cell_type": "markdown",
   "metadata": {},
   "source": [
    "# Solution Notebook"
   ]
  },
  {
   "cell_type": "markdown",
   "metadata": {},
   "source": [
    "## Problem: Implement insertion sort.\n",
    "\n",
    "* [Constraints](#Constraints)\n",
    "* [Test Cases](#Test-Cases)\n",
    "* [Algorithm](#Algorithm)\n",
    "* [Code](#Code)\n",
    "* [Unit Test](#Unit-Test)"
   ]
  },
  {
   "cell_type": "markdown",
   "metadata": {},
   "source": [
    "## Constraints\n",
    "\n",
    "* Is a naive solution sufficient?\n",
    "    * Yes\n",
    "* Are duplicates allowed?\n",
    "    * Yes\n",
    "* Can we assume the input is valid?\n",
    "    * No\n",
    "* Can we assume this fits memory?\n",
    "    * Yes"
   ]
  },
  {
   "cell_type": "markdown",
   "metadata": {},
   "source": [
    "## Test Cases\n",
    "\n",
    "* None -> Exception\n",
    "* Empty input -> []\n",
    "* One element -> [element]\n",
    "* Two or more elements"
   ]
  },
  {
   "cell_type": "markdown",
   "metadata": {},
   "source": [
    "## Algorithm\n",
    "\n",
    "Wikipedia's animation:\n",
    "![alt text](http://upload.wikimedia.org/wikipedia/commons/0/0f/Insertion-sort-example-300px.gif)\n",
    "\n",
    "* For each value index 1 to n - 1\n",
    "    * Compare with all elements to the left of the current value to determine new insertion point\n",
    "        * Hold current value in temp variable\n",
    "        * Shift elements from new insertion point right\n",
    "        * Insert value in temp variable\n",
    "        * Break\n",
    "\n",
    "Complexity:\n",
    "* Time: O(n^2) average, worst.  O(1) best if input is already sorted\n",
    "* Space: O(1) for the iterative solution\n",
    "\n",
    "Misc: \n",
    "\n",
    "* In-place\n",
    "* Stable\n",
    "\n",
    "Insertion sort works well for very small datasets where most of the input is already sorted."
   ]
  },
  {
   "cell_type": "markdown",
   "metadata": {},
   "source": [
    "## Code"
   ]
  },
  {
   "cell_type": "code",
   "execution_count": 1,
   "metadata": {
    "collapsed": false
   },
   "outputs": [],
   "source": [
    "class InsertionSort(object):\n",
    "\n",
    "    def sort(self, data):\n",
    "        if data is None:\n",
    "            raise TypeError('data cannot be None')\n",
    "        if len(data) < 2:\n",
    "            return data\n",
    "        for r in range(1, len(data)):\n",
    "            for l in range(r):\n",
    "                if data[r] < data[l]:\n",
    "                    temp = data[r]\n",
    "                    data[l+1:r+1] = data[l:r]\n",
    "                    data[l] = temp\n",
    "        return data"
   ]
  },
  {
   "cell_type": "markdown",
   "metadata": {},
   "source": [
    "## Unit Test\n",
    "\n"
   ]
  },
  {
   "cell_type": "code",
   "execution_count": 2,
   "metadata": {
    "collapsed": false
   },
   "outputs": [
    {
     "name": "stdout",
     "output_type": "stream",
     "text": [
      "Overwriting test_insertion_sort.py\n"
     ]
    }
   ],
   "source": [
    "%%writefile test_insertion_sort.py\n",
    "from nose.tools import assert_equal, assert_raises\n",
    "\n",
    "\n",
    "class TestInsertionSort(object):\n",
    "\n",
    "    def test_insertion_sort(self):\n",
    "        insertion_sort = InsertionSort()\n",
    "\n",
    "        print('None input')\n",
    "        assert_raises(TypeError, insertion_sort.sort, None)\n",
    "\n",
    "        print('Empty input')\n",
    "        assert_equal(insertion_sort.sort([]), [])\n",
    "\n",
    "        print('One element')\n",
    "        assert_equal(insertion_sort.sort([5]), [5])\n",
    "\n",
    "        print('Two or more elements')\n",
    "        data = [5, 1, 7, 2, 6, -3, 5, 7, -1]\n",
    "        assert_equal(insertion_sort.sort(data), sorted(data))\n",
    "\n",
    "        print('Success: test_insertion_sort')\n",
    "\n",
    "\n",
    "def main():\n",
    "    test = TestInsertionSort()\n",
    "    test.test_insertion_sort()\n",
    "\n",
    "\n",
    "if __name__ == '__main__':\n",
    "    main()"
   ]
  },
  {
   "cell_type": "code",
   "execution_count": 3,
   "metadata": {
    "collapsed": false
   },
   "outputs": [
    {
     "name": "stdout",
     "output_type": "stream",
     "text": [
      "None input\n",
      "Empty input\n",
      "One element\n",
      "Two or more elements\n",
      "Success: test_insertion_sort\n"
     ]
    }
   ],
   "source": [
    "%run -i test_insertion_sort.py"
   ]
  }
 ],
 "metadata": {
  "kernelspec": {
   "display_name": "Python 3",
   "language": "python",
   "name": "python3"
  },
  "language_info": {
   "codemirror_mode": {
    "name": "ipython",
    "version": 3
   },
   "file_extension": ".py",
   "mimetype": "text/x-python",
   "name": "python",
   "nbconvert_exporter": "python",
   "pygments_lexer": "ipython3",
   "version": "3.5.0"
  }
 },
 "nbformat": 4,
 "nbformat_minor": 0
}
