{
 "cells": [
  {
   "cell_type": "markdown",
   "metadata": {},
   "source": [
    "This notebook was prepared by [Donne Martin](https://github.com/donnemartin). Source and license info is on [GitHub](https://github.com/donnemartin/interactive-coding-challenges)."
   ]
  },
  {
   "cell_type": "markdown",
   "metadata": {},
   "source": [
    "# Solution Notebook"
   ]
  },
  {
   "cell_type": "markdown",
   "metadata": {},
   "source": [
    "## Problem: Move all zeroes in a list to the end.\n",
    "\n",
    "* [Constraints](#Constraints)\n",
    "* [Test Cases](#Test-Cases)\n",
    "* [Algorithm](#Algorithm)\n",
    "* [Code](#Code)\n",
    "* [Unit Test](#Unit-Test)"
   ]
  },
  {
   "cell_type": "markdown",
   "metadata": {},
   "source": [
    "## Constraints\n",
    "\n",
    "* Is the input an array of ints?\n",
    "    * Yes\n",
    "* Is the output a new array of ints?\n",
    "    * No, do this in-place\n",
    "* Do we need to maintain ordering of non-zero values?\n",
    "    * Yes\n",
    "* Can we assume the inputs are valid?\n",
    "    * No\n",
    "* Can we assume this fits memory?\n",
    "    * Yes"
   ]
  },
  {
   "cell_type": "markdown",
   "metadata": {},
   "source": [
    "## Test Cases\n",
    "\n",
    "<pre>\n",
    "* None -> TypeError\n",
    "* [0, 1, 0, 3, 12] -> [1, 3, 12, 0, 0]\n",
    "* [1, 0] -> [1, 0]\n",
    "* [0, 1] -> [1, 0]\n",
    "* [0] -> [0]\n",
    "* [1] -> [1]\n",
    "* [1, 1] -> [1, 1]\n",
    "</pre>"
   ]
  },
  {
   "cell_type": "markdown",
   "metadata": {},
   "source": [
    "## Algorithm\n",
    "\n",
    "* pos = 0\n",
    "* Loop through each item in the input\n",
    "    * If the item != 0, set input[pos] = item\n",
    "        * pos++\n",
    "* Fill input[pos:] with zeroes\n",
    "\n",
    "<pre>\n",
    " |\n",
    "[0, 1, 0, 3, 12]\n",
    " ^\n",
    "    |\n",
    "[0, 1, 0, 3, 12]\n",
    " ^\n",
    "    |\n",
    "[1, 1, 0, 3, 12]\n",
    " ^\n",
    "       |\n",
    "[1, 1, 0, 3, 12]\n",
    "    ^\n",
    "          |\n",
    "[1, 1, 0, 3, 12]\n",
    "    ^\n",
    "          |\n",
    "[1, 3, 0, 3, 12]\n",
    "    ^\n",
    "              |\n",
    "[1, 3, 0, 3, 12]\n",
    "       ^\n",
    "              |\n",
    "[1, 3, 12, 3, 12]\n",
    "       ^\n",
    "\n",
    "Fill right with zeroes:\n",
    "\n",
    "[1, 3, 12, 3, 12]\n",
    "           ^\n",
    "[1, 3, 12, 0, 12]\n",
    "           ^\n",
    "[1, 3, 12, 0, 0]\n",
    "              ^\n",
    "</pre>\n",
    "\n",
    "Complexity:\n",
    "* Time: O(n)\n",
    "* Space: O(1)"
   ]
  },
  {
   "cell_type": "markdown",
   "metadata": {},
   "source": [
    "## Code"
   ]
  },
  {
   "cell_type": "code",
   "execution_count": 1,
   "metadata": {
    "collapsed": false
   },
   "outputs": [],
   "source": [
    "class Solution(object):\n",
    "\n",
    "    def move_zeroes(self, nums):\n",
    "        if nums is None:\n",
    "            raise TypeError('nums cannot be None')\n",
    "        pos = 0\n",
    "        for num in nums:\n",
    "            if num != 0:\n",
    "                nums[pos] = num\n",
    "                pos += 1\n",
    "        if pos < len(nums):\n",
    "            nums[pos:] = [0] * (len(nums) - pos)"
   ]
  },
  {
   "cell_type": "markdown",
   "metadata": {},
   "source": [
    "## Unit Test"
   ]
  },
  {
   "cell_type": "code",
   "execution_count": 2,
   "metadata": {
    "collapsed": false
   },
   "outputs": [
    {
     "name": "stdout",
     "output_type": "stream",
     "text": [
      "Overwriting test_move_zeroes.py\n"
     ]
    }
   ],
   "source": [
    "%%writefile test_move_zeroes.py\n",
    "from nose.tools import assert_equal, assert_raises\n",
    "\n",
    "\n",
    "class TestMoveZeroes(object):\n",
    "\n",
    "    def test_move_zeroes(self):\n",
    "        solution = Solution()\n",
    "        assert_raises(TypeError, solution.move_zeroes, None)\n",
    "        array = [0, 1, 0, 3, 12]\n",
    "        solution.move_zeroes(array)\n",
    "        assert_equal(array, [1, 3, 12, 0, 0])\n",
    "        array = [1, 0]\n",
    "        solution.move_zeroes(array)\n",
    "        assert_equal(array, [1, 0])\n",
    "        array = [0, 1]\n",
    "        solution.move_zeroes(array)\n",
    "        assert_equal(array, [1, 0])\n",
    "        array = [0]\n",
    "        solution.move_zeroes(array)\n",
    "        assert_equal(array, [0])\n",
    "        array = [1]\n",
    "        solution.move_zeroes(array)\n",
    "        assert_equal(array, [1])\n",
    "        array = [1, 1]\n",
    "        solution.move_zeroes(array)\n",
    "        assert_equal(array, [1, 1])\n",
    "        print('Success: test_move_zeroes')\n",
    "\n",
    "\n",
    "def main():\n",
    "    test = TestMoveZeroes()\n",
    "    test.test_move_zeroes()\n",
    "\n",
    "\n",
    "if __name__ == '__main__':\n",
    "    main()"
   ]
  },
  {
   "cell_type": "code",
   "execution_count": 3,
   "metadata": {
    "collapsed": false
   },
   "outputs": [
    {
     "name": "stdout",
     "output_type": "stream",
     "text": [
      "Success: test_move_zeroes\n"
     ]
    }
   ],
   "source": [
    "%run -i test_move_zeroes.py"
   ]
  }
 ],
 "metadata": {
  "kernelspec": {
   "display_name": "Python 3",
   "language": "python",
   "name": "python3"
  },
  "language_info": {
   "codemirror_mode": {
    "name": "ipython",
    "version": 3
   },
   "file_extension": ".py",
   "mimetype": "text/x-python",
   "name": "python",
   "nbconvert_exporter": "python",
   "pygments_lexer": "ipython3",
   "version": "3.4.3"
  }
 },
 "nbformat": 4,
 "nbformat_minor": 0
}
