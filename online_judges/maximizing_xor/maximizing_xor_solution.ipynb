{
 "cells": [
  {
   "cell_type": "markdown",
   "metadata": {},
   "source": [
    "This notebook was prepared by [Donne Martin](http://donnemartin.com). Source and license info is on [GitHub](https://github.com/donnemartin/interactive-coding-challenges)."
   ]
  },
  {
   "cell_type": "markdown",
   "metadata": {},
   "source": [
    "# Solution Notebook"
   ]
  },
  {
   "cell_type": "markdown",
   "metadata": {},
   "source": [
    "## Problem: Maximizing XOR\n",
    "\n",
    "See the [HackerRank problem page](https://www.hackerrank.com/challenges/maximizing-xor).\n",
    "\n",
    "* [Constraints](#Constraints)\n",
    "* [Test Cases](#Test-Cases)\n",
    "* [Algorithm](#Algorithm)\n",
    "* [Code](#Code)\n",
    "* [Unit Test](#Unit-Test)"
   ]
  },
  {
   "cell_type": "markdown",
   "metadata": {},
   "source": [
    "## Constraints\n",
    "\n",
    "See the [HackerRank problem page](https://www.hackerrank.com/challenges/maximizing-xor)."
   ]
  },
  {
   "cell_type": "markdown",
   "metadata": {},
   "source": [
    "## Test Cases\n",
    "\n",
    "See the [HackerRank problem page](https://www.hackerrank.com/challenges/maximizing-xor)."
   ]
  },
  {
   "cell_type": "markdown",
   "metadata": {},
   "source": [
    "## Algorithm\n",
    "\n",
    "* Set max to 0\n",
    "* For i in the range (lower, upper) inclusive\n",
    "    * For j in the range (lower, upper) inclusive\n",
    "        * Compare i ^ j with max, update max if needed\n",
    "* return max\n",
    "\n",
    "Complexity:\n",
    "* Time: O(n^2) - See note below\n",
    "* Space: O(1)\n",
    "\n",
    "Note:\n",
    "* TODO: Add more optimal solutions such as those discussed [here](https://www.hackerrank.com/challenges/maximizing-xor/editorial)."
   ]
  },
  {
   "cell_type": "markdown",
   "metadata": {},
   "source": [
    "## Code"
   ]
  },
  {
   "cell_type": "code",
   "execution_count": 1,
   "metadata": {
    "collapsed": false
   },
   "outputs": [],
   "source": [
    "class Solution(object):\n",
    "\n",
    "    def max_xor(self, lower, upper):\n",
    "        result = 0\n",
    "        for l in range(lower, upper + 1):\n",
    "            for u in range(lower, upper + 1):\n",
    "                curr = l ^ u\n",
    "                if result < curr:\n",
    "                    result = curr\n",
    "        return result"
   ]
  },
  {
   "cell_type": "markdown",
   "metadata": {},
   "source": [
    "## Unit Test\n",
    "\n"
   ]
  },
  {
   "cell_type": "code",
   "execution_count": 2,
   "metadata": {
    "collapsed": false
   },
   "outputs": [
    {
     "name": "stdout",
     "output_type": "stream",
     "text": [
      "Overwriting test_maximizing_xor.py\n"
     ]
    }
   ],
   "source": [
    "%%writefile test_maximizing_xor.py\n",
    "from nose.tools import assert_equal\n",
    "\n",
    "\n",
    "class TestMaximizingXor(object):\n",
    "\n",
    "    def test_maximizing_xor(self):\n",
    "        solution = Solution()\n",
    "        assert_equal(solution.max_xor(10, 15), 7)\n",
    "        print('Success: test_maximizing_xor')\n",
    "\n",
    "\n",
    "def main():\n",
    "    test = TestMaximizingXor()\n",
    "    test.test_maximizing_xor()\n",
    "\n",
    "\n",
    "if __name__ == '__main__':\n",
    "    main()"
   ]
  },
  {
   "cell_type": "code",
   "execution_count": 3,
   "metadata": {
    "collapsed": false
   },
   "outputs": [
    {
     "name": "stdout",
     "output_type": "stream",
     "text": [
      "Success: test_maximizing_xor\n"
     ]
    }
   ],
   "source": [
    "%run -i test_maximizing_xor.py"
   ]
  }
 ],
 "metadata": {
  "kernelspec": {
   "display_name": "Python 3",
   "language": "python",
   "name": "python3"
  },
  "language_info": {
   "codemirror_mode": {
    "name": "ipython",
    "version": 3
   },
   "file_extension": ".py",
   "mimetype": "text/x-python",
   "name": "python",
   "nbconvert_exporter": "python",
   "pygments_lexer": "ipython3",
   "version": "3.5.0"
  }
 },
 "nbformat": 4,
 "nbformat_minor": 0
}
