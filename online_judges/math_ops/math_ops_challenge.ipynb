{
 "cells": [
  {
   "cell_type": "markdown",
   "metadata": {},
   "source": [
    "This notebook was prepared by [Donne Martin](https://github.com/donnemartin). Source and license info is on [GitHub](https://github.com/donnemartin/interactive-coding-challenges)."
   ]
  },
  {
   "cell_type": "markdown",
   "metadata": {},
   "source": [
    "# Challenge Notebook"
   ]
  },
  {
   "cell_type": "markdown",
   "metadata": {},
   "source": [
    "## Problem: Create a class with an insert method to insert an int to a list.  It should also support calculating the max, min, mean, and mode in O(1).\n",
    "\n",
    "* [Constraints](#Constraints)\n",
    "* [Test Cases](#Test-Cases)\n",
    "* [Algorithm](#Algorithm)\n",
    "* [Code](#Code)\n",
    "* [Unit Test](#Unit-Test)\n",
    "* [Solution Notebook](#Solution-Notebook)"
   ]
  },
  {
   "cell_type": "markdown",
   "metadata": {},
   "source": [
    "## Constraints\n",
    "\n",
    "* Can we assume the inputs are valid?\n",
    "    * No\n",
    "* Is there a range of inputs?\n",
    "    * 0 <= item <= 100\n",
    "* Should mean return a float?\n",
    "    * Yes\n",
    "* Should the other results return an int?\n",
    "    * Yes\n",
    "* If there are multiple modes, what do we return?\n",
    "    * Any of the modes\n",
    "* Can we assume this fits memory?\n",
    "    * Yes"
   ]
  },
  {
   "cell_type": "markdown",
   "metadata": {},
   "source": [
    "## Test Cases\n",
    "\n",
    "* None -> TypeError\n",
    "* [] -> ValueError\n",
    "* [5, 2, 7, 9, 9, 2, 9, 4, 3, 3, 2]\n",
    "    * max: 9\n",
    "    * min: 2\n",
    "    * mean: 55\n",
    "    * mode: 9 or 2"
   ]
  },
  {
   "cell_type": "markdown",
   "metadata": {},
   "source": [
    "## Algorithm\n",
    "\n",
    "Refer to the [Solution Notebook]().  If you are stuck and need a hint, the solution notebook's algorithm discussion might be a good place to start."
   ]
  },
  {
   "cell_type": "markdown",
   "metadata": {},
   "source": [
    "## Code"
   ]
  },
  {
   "cell_type": "code",
   "execution_count": null,
   "metadata": {
    "collapsed": false
   },
   "outputs": [],
   "source": [
    "class Solution(object):\n",
    "\n",
    "    def __init__(self, upper_limit=100):\n",
    "        # TODO: Implement me\n",
    "        pass\n",
    "\n",
    "    def insert(self, val):\n",
    "        # TODO: Implement me\n",
    "        pass"
   ]
  },
  {
   "cell_type": "markdown",
   "metadata": {},
   "source": [
    "## Unit Test"
   ]
  },
  {
   "cell_type": "markdown",
   "metadata": {},
   "source": [
    "**The following unit test is expected to fail until you solve the challenge.**"
   ]
  },
  {
   "cell_type": "code",
   "execution_count": null,
   "metadata": {
    "collapsed": false
   },
   "outputs": [],
   "source": [
    "# %load test_math_ops.py\n",
    "from nose.tools import assert_equal, assert_true, assert_raises\n",
    "\n",
    "\n",
    "class TestMathOps(object):\n",
    "\n",
    "    def test_math_ops(self):\n",
    "        solution = Solution()\n",
    "        assert_raises(TypeError, solution.insert, None)\n",
    "        solution.insert(5)\n",
    "        solution.insert(2)\n",
    "        solution.insert(7)\n",
    "        solution.insert(9)\n",
    "        solution.insert(9)\n",
    "        solution.insert(2)\n",
    "        solution.insert(9)\n",
    "        solution.insert(4)\n",
    "        solution.insert(3)\n",
    "        solution.insert(3)\n",
    "        solution.insert(2)\n",
    "        assert_equal(solution.max, 9)\n",
    "        assert_equal(solution.min, 2)\n",
    "        assert_equal(solution.mean, 5)\n",
    "        assert_true(solution.mode in (2, 92))\n",
    "        print('Success: test_math_ops')\n",
    "\n",
    "\n",
    "def main():\n",
    "    test = TestMathOps()\n",
    "    test.test_math_ops()\n",
    "\n",
    "\n",
    "if __name__ == '__main__':\n",
    "    main()"
   ]
  },
  {
   "cell_type": "markdown",
   "metadata": {},
   "source": [
    "## Solution Notebook\n",
    "\n",
    "Review the [Solution Notebook]() for a discussion on algorithms and code solutions."
   ]
  }
 ],
 "metadata": {
  "kernelspec": {
   "display_name": "Python 3",
   "language": "python",
   "name": "python3"
  },
  "language_info": {
   "codemirror_mode": {
    "name": "ipython",
    "version": 3
   },
   "file_extension": ".py",
   "mimetype": "text/x-python",
   "name": "python",
   "nbconvert_exporter": "python",
   "pygments_lexer": "ipython3",
   "version": "3.5.0"
  }
 },
 "nbformat": 4,
 "nbformat_minor": 0
}
