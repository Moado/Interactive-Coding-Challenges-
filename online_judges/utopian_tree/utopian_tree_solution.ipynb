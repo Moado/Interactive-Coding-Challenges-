{
 "cells": [
  {
   "cell_type": "markdown",
   "metadata": {},
   "source": [
    "This notebook was prepared by [Donne Martin](http://donnemartin.com). Source and license info is on [GitHub](https://github.com/donnemartin/interactive-coding-challenges)."
   ]
  },
  {
   "cell_type": "markdown",
   "metadata": {},
   "source": [
    "# Solution Notebook"
   ]
  },
  {
   "cell_type": "markdown",
   "metadata": {},
   "source": [
    "## Problem: Utopian Tree\n",
    "\n",
    "See the [HackerRank problem page](https://www.hackerrank.com/challenges/utopian-tree).\n",
    "\n",
    "* [Constraints](#Constraints)\n",
    "* [Test Cases](#Test-Cases)\n",
    "* [Algorithm](#Algorithm)\n",
    "* [Code](#Code)\n",
    "* [Unit Test](#Unit-Test)"
   ]
  },
  {
   "cell_type": "markdown",
   "metadata": {},
   "source": [
    "## Constraints\n",
    "\n",
    "See the [HackerRank problem page](https://www.hackerrank.com/challenges/utopian-tree)."
   ]
  },
  {
   "cell_type": "markdown",
   "metadata": {},
   "source": [
    "## Test Cases\n",
    "\n",
    "See the [HackerRank problem page](https://www.hackerrank.com/challenges/utopian-tree)."
   ]
  },
  {
   "cell_type": "markdown",
   "metadata": {},
   "source": [
    "## Algorithm\n",
    "\n",
    "* If cycles is 0, return height of 1\n",
    "* For 1 to cycles:\n",
    "    * If cycle is odd, double height\n",
    "    * Else, increment height\n",
    "* Return height\n",
    "\n",
    "Complexity:\n",
    "* Time: O(n)\n",
    "* Space: O(1)"
   ]
  },
  {
   "cell_type": "markdown",
   "metadata": {},
   "source": [
    "## Code"
   ]
  },
  {
   "cell_type": "code",
   "execution_count": 1,
   "metadata": {
    "collapsed": false
   },
   "outputs": [],
   "source": [
    "class Solution(object):\n",
    "\n",
    "    def calc_utopian_tree_height(self, cycles):\n",
    "        height = 1\n",
    "        if cycles == 0:\n",
    "            return height\n",
    "        for i in range(1, cycles+1):\n",
    "            if i % 2 == 1:\n",
    "                height *= 2\n",
    "            else:\n",
    "                height += 1\n",
    "        return height"
   ]
  },
  {
   "cell_type": "markdown",
   "metadata": {},
   "source": [
    "## Unit Test\n",
    "\n"
   ]
  },
  {
   "cell_type": "code",
   "execution_count": 2,
   "metadata": {
    "collapsed": false
   },
   "outputs": [
    {
     "name": "stdout",
     "output_type": "stream",
     "text": [
      "Overwriting test_utopian_tree.py\n"
     ]
    }
   ],
   "source": [
    "%%writefile test_utopian_tree.py\n",
    "from nose.tools import assert_equal\n",
    "\n",
    "\n",
    "class TestUtopianTree(object):\n",
    "\n",
    "    def test_utopian_tree(self):\n",
    "        solution = Solution()\n",
    "        assert_equal(solution.calc_utopian_tree_height(0), 1)\n",
    "        assert_equal(solution.calc_utopian_tree_height(1), 2)\n",
    "        assert_equal(solution.calc_utopian_tree_height(4), 7)\n",
    "        print('Success: test_utopian_tree')\n",
    "\n",
    "\n",
    "def main():\n",
    "    test = TestUtopianTree()\n",
    "    test.test_utopian_tree()\n",
    "\n",
    "\n",
    "if __name__ == '__main__':\n",
    "    main()"
   ]
  },
  {
   "cell_type": "code",
   "execution_count": 3,
   "metadata": {
    "collapsed": false
   },
   "outputs": [
    {
     "name": "stdout",
     "output_type": "stream",
     "text": [
      "Success: test_utopian_tree\n"
     ]
    }
   ],
   "source": [
    "run -i test_utopian_tree.py"
   ]
  }
 ],
 "metadata": {
  "kernelspec": {
   "display_name": "Python 3",
   "language": "python",
   "name": "python3"
  },
  "language_info": {
   "codemirror_mode": {
    "name": "ipython",
    "version": 3
   },
   "file_extension": ".py",
   "mimetype": "text/x-python",
   "name": "python",
   "nbconvert_exporter": "python",
   "pygments_lexer": "ipython3",
   "version": "3.5.0"
  }
 },
 "nbformat": 4,
 "nbformat_minor": 0
}
